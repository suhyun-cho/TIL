{
 "cells": [
  {
   "cell_type": "markdown",
   "metadata": {},
   "source": [
    "# matplotlib 한글깨짐 문제 해결방법\n",
    "* local환경이 아니며, sudo권한이 없는 상황으로 엔지니어에게 요청해야 하는 상황일때\n",
    "\n",
    "작성일자 :2020-12-22\n",
    "\n",
    "----------------------------------------------------------------------\n",
    "## 1. sudo권한으로 폰트설치\n",
    "* 로컬 환경이 아니라서 서버 sudo권한 있는 사람에게 요청해서 한글폰트 설치해야됨\n",
    "> import matplotlib.font_manager as fm <br>\n",
    "fm.findSystemFonts(fontpaths=None, fontext='ttf')\n",
    "\n",
    "* 위 코드 실행결과\n",
    "    * ['/usr/share/fonts/liberation/NanumGothicExtraBold.ttf',\n",
    " '/usr/share/fonts/liberation/LiberationSansNarrow-Regular.ttf',\n",
    " '/usr/share/fonts/liberation/LiberationSansNarrow-BoldItalic.ttf',\n",
    " '/usr/share/fonts/liberation/NanumBarunGothic-YetHangul.ttf',\n",
    " '/usr/share/fonts/liberation/NanumMyeongjoEcoR.ttf',\n",
    " \n",
    "    * 엔지니어에게 /usr/share/fonts/liberation/ 해당 경로에 한글폰트(ttf) 설치 요청\n",
    "\n",
    "## 2.matplotlib 경로에 폰트이동\n",
    "* matplotlib설정파일 위치 확인\n",
    "    * print ('설정파일 위치: ', mpl.matplotlib_fname())\n",
    "> fm.fontManager.ttflist\n",
    "\n",
    "* 위 코드 실행결과 Nanum폰트가 들어가있어야됨.\n",
    "    * [<Font 'NanumMyeongjo' (NanumMyeongjoExtraBold.ttf) normal normal bold normal>,\n",
    " <Font 'NanumSquare' (NanumSquareL.ttf) normal normal light normal>,\n",
    " <Font 'NanumBarunGothic YetHangul' (NanumBarunGothic-YetHangul.ttf) normal normal 400 normal>,\n",
    " <Font 'NanumGothic' (NanumGothicExtraBold.ttf) normal normal bold normal>,\n",
    " \n",
    "## 3. matplotlib 캐시삭제\n",
    "* 캐시위치확인\n",
    "    * mpl.get_cachedir() \n",
    "* 캐시 삭제\n",
    "    * rm -r ~/.cache/matplotlib/\n",
    "* 결과\n",
    "    * /data1/suhyuncho/.cache 이 위치에있던 matplotlib 디렉토리 삭제됨.\n",
    "\n",
    "## 4. jupyter notebook 재시작 \n",
    "* 엔지니어에게 요청\n",
    "\n",
    "## 5. 폰트 설정\n",
    "* 폰트설정 : 위에 fontMangaer.ttflist에 있는 나눔 폰트중 아무거나설정\n",
    "    > plt.rcParams[\"font.family\"] = 'NanumBarunGothic' <br>\n",
    "    plt.plot(range(50), data, 'r')<br>\n",
    "    plt.title('시간별 가격 추이')<br>"
   ]
  },
  {
   "cell_type": "code",
   "execution_count": 4,
   "metadata": {},
   "outputs": [],
   "source": [
    "# 그래프를 노트북 안에 그리기 위해 설정\n",
    "%matplotlib inline\n",
    "import warnings\n",
    "warnings.filterwarnings(\"ignore\")\n",
    "\n",
    "# 필요한 패키지와 라이브러리를 가져옴\n",
    "import matplotlib as mpl\n",
    "import matplotlib.pyplot as plt\n",
    "import matplotlib.font_manager as fm\n",
    "\n",
    "# 그래프에서 마이너스 폰트 깨지는 문제에 대한 대처\n",
    "mpl.rcParams['axes.unicode_minus'] = False"
   ]
  },
  {
   "cell_type": "code",
   "execution_count": 5,
   "metadata": {},
   "outputs": [
    {
     "data": {
      "text/plain": [
       "array([ -1,  49,  30, 104, 199, 167, 203, 283, 316, 299, 254, 242, 193,\n",
       "       195, 190, 145, 169, 169,  74, 106, 152, 191, 188, 270, 274, 253,\n",
       "       219, 164, 133, 168, 109, 123, 143, 234, 297, 319, 380, 343, 307,\n",
       "       399, 475, 384, 397, 409, 461, 544, 446, 377, 344, 306])"
      ]
     },
     "execution_count": 5,
     "metadata": {},
     "output_type": "execute_result"
    }
   ],
   "source": [
    "import numpy as np\n",
    "\n",
    "data = np.random.randint(-100, 100, 50).cumsum()\n",
    "data"
   ]
  },
  {
   "cell_type": "code",
   "execution_count": 6,
   "metadata": {},
   "outputs": [
    {
     "data": {
      "image/png": "[encoded data removed]",
      "text/plain": [
       "<Figure size 432x288 with 1 Axes>"
      ]
     },
     "metadata": {
      "needs_background": "light"
     },
     "output_type": "display_data"
    }
   ],
   "source": [
    "plt.plot(range(50), data, 'r')\n",
    "mpl.rcParams['axes.unicode_minus'] = False\n",
    "plt.title('시간별 가격 추이');\n",
    "# plt.ylabel('주식 가격')\n",
    "# plt.xlabel('시간(분)')"
   ]
  },
  {
   "cell_type": "markdown",
   "metadata": {},
   "source": [
    "### matplotlib 설정파일 위치확인"
   ]
  },
  {
   "cell_type": "code",
   "execution_count": 7,
   "metadata": {},
   "outputs": [
    {
     "name": "stdout",
     "output_type": "stream",
     "text": [
      "버전:  3.1.1\n",
      "설치 위치:  /data1/suhyuncho/.conda/envs/suhyun3/lib/python3.7/site-packages/matplotlib/__init__.py\n",
      "설정 위치:  /data1/suhyuncho/.config/matplotlib\n",
      "캐시 위치:  /data1/suhyuncho/.cache/matplotlib\n"
     ]
    }
   ],
   "source": [
    "print ('버전: ', mpl.__version__)\n",
    "print ('설치 위치: ', mpl.__file__)\n",
    "print ('설정 위치: ', mpl.get_configdir())\n",
    "print ('캐시 위치: ', mpl.get_cachedir())"
   ]
  },
  {
   "cell_type": "code",
   "execution_count": 8,
   "metadata": {},
   "outputs": [
    {
     "name": "stdout",
     "output_type": "stream",
     "text": [
      "설정파일 위치:  /data1/suhyuncho/.conda/envs/suhyun3/lib/python3.7/site-packages/matplotlib/mpl-data/matplotlibrc\n"
     ]
    }
   ],
   "source": [
    "print ('설정파일 위치: ', mpl.matplotlib_fname())"
   ]
  },
  {
   "cell_type": "markdown",
   "metadata": {},
   "source": [
    "### 시스템내에 설치되어있는 폰트 확인\n",
    "* /usr/share/fonts/liberation"
   ]
  },
  {
   "cell_type": "code",
   "execution_count": 6,
   "metadata": {},
   "outputs": [
    {
     "name": "stdout",
     "output_type": "stream",
     "text": [
      "53\n"
     ]
    },
    {
     "data": {
      "text/plain": [
       "['/usr/share/fonts/liberation/NanumGothicExtraBold.ttf',\n",
       " '/usr/share/fonts/liberation/LiberationSansNarrow-Regular.ttf',\n",
       " '/usr/share/fonts/liberation/LiberationSansNarrow-BoldItalic.ttf',\n",
       " '/usr/share/fonts/liberation/NanumBarunGothic-YetHangul.ttf',\n",
       " '/usr/share/fonts/liberation/NanumMyeongjoEcoR.ttf',\n",
       " '/usr/share/fonts/liberation/NanumSquareR.ttf',\n",
       " '/usr/share/fonts/liberation/NanumGothicCoding.ttf',\n",
       " '/usr/share/fonts/liberation/LiberationMono-BoldItalic.ttf',\n",
       " '/usr/share/fonts/liberation/NanumGothic.ttf',\n",
       " '/usr/share/fonts/liberation/LiberationMono-Regular.ttf']"
      ]
     },
     "execution_count": 6,
     "metadata": {},
     "output_type": "execute_result"
    }
   ],
   "source": [
    "font_list = fm.findSystemFonts(fontpaths=None, fontext='ttf')\n",
    "\n",
    "# ttf 폰트 전체갯수\n",
    "print(len(font_list)) \n",
    "\n",
    "# 시스템 폰트에서 읽어온 리스트에서 상위 10개만 출력\n",
    "## 나눔고딕 설치 요청해서 들어간거 확인.\n",
    "font_list[:10] "
   ]
  },
  {
   "cell_type": "markdown",
   "metadata": {},
   "source": [
    "### matplotlib fontManager에 있는 폰트 확인\n",
    "* /data1/suhyuncho/.conda/envs/suhyun3/lib/python3.7/site-packages/matplotlib/mpl-data/fonts/ttf\n",
    "    * 이 경로안에 나눔 폰트가 들어있어야함 (엔지니어에게 설치요청)"
   ]
  },
  {
   "cell_type": "code",
   "execution_count": 7,
   "metadata": {},
   "outputs": [
    {
     "name": "stdout",
     "output_type": "stream",
     "text": [
      "53\n"
     ]
    },
    {
     "data": {
      "text/plain": [
       "['NanumMyeongjo',\n",
       " 'NanumSquare',\n",
       " 'NanumBarunGothic YetHangul',\n",
       " 'NanumGothic',\n",
       " 'DejaVu Serif Display',\n",
       " 'STIXSizeOneSym',\n",
       " 'NanumSquare_ac',\n",
       " 'DejaVu Serif',\n",
       " 'DejaVu Sans',\n",
       " 'Nanum Brush Script']"
      ]
     },
     "execution_count": 7,
     "metadata": {},
     "output_type": "execute_result"
    }
   ],
   "source": [
    "f = [f.name for f in fm.fontManager.ttflist]\n",
    "print(len(font_list))\n",
    "# 10개의 폰트명 만 출력\n",
    "f[:10]"
   ]
  },
  {
   "cell_type": "code",
   "execution_count": 8,
   "metadata": {},
   "outputs": [
    {
     "data": {
      "text/plain": [
       "[<Font 'NanumMyeongjo' (NanumMyeongjoExtraBold.ttf) normal normal bold normal>,\n",
       " <Font 'NanumSquare' (NanumSquareL.ttf) normal normal light normal>,\n",
       " <Font 'NanumBarunGothic YetHangul' (NanumBarunGothic-YetHangul.ttf) normal normal 400 normal>,\n",
       " <Font 'NanumGothic' (NanumGothicExtraBold.ttf) normal normal bold normal>,\n",
       " <Font 'DejaVu Serif Display' (DejaVuSerifDisplay.ttf) normal normal 400 normal>,\n",
       " <Font 'STIXSizeOneSym' (STIXSizOneSymBol.ttf) normal normal bold normal>,\n",
       " <Font 'NanumSquare_ac' (NanumSquare_acB.ttf) normal normal bold normal>,\n",
       " <Font 'DejaVu Serif' (DejaVuSerif-Bold.ttf) normal normal bold normal>,\n",
       " <Font 'DejaVu Sans' (DejaVuSans.ttf) normal normal 400 normal>,\n",
       " <Font 'Nanum Brush Script' (NanumBrush.ttf) normal normal 400 normal>,\n",
       " <Font 'NanumSquareRound' (NanumSquareRoundR.ttf) normal normal regular normal>,\n",
       " <Font 'NanumBarunGothic' (NanumBarunGothicLight.ttf) normal normal light normal>,\n",
       " <Font 'DejaVu Sans' (DejaVuSans-Oblique.ttf) oblique normal 400 normal>,\n",
       " <Font 'NanumSquare' (NanumSquareEB.ttf) normal normal bold normal>,\n",
       " <Font 'DejaVu Sans Mono' (DejaVuSansMono-Bold.ttf) normal normal bold normal>,\n",
       " <Font 'NanumSquareRound' (NanumSquareRoundEB.ttf) normal normal bold normal>,\n",
       " <Font 'cmss10' (cmss10.ttf) normal normal 400 normal>,\n",
       " <Font 'STIXSizeThreeSym' (STIXSizThreeSymReg.ttf) normal normal regular normal>,\n",
       " <Font 'NanumMyeongjo' (NanumMyeongjoBold.ttf) normal normal bold normal>,\n",
       " <Font 'STIXGeneral' (STIXGeneral.ttf) normal normal regular normal>,\n",
       " <Font 'DejaVu Sans' (DejaVuSans-Bold.ttf) normal normal bold normal>,\n",
       " <Font 'NanumSquare' (NanumSquareB.ttf) normal normal bold normal>,\n",
       " <Font 'STIXSizeTwoSym' (STIXSizTwoSymReg.ttf) normal normal regular normal>,\n",
       " <Font 'NanumSquare_ac' (NanumSquare_acEB.ttf) normal normal bold normal>,\n",
       " <Font 'cmex10' (cmex10.ttf) normal normal 400 normal>,\n",
       " <Font 'DejaVu Serif' (DejaVuSerif-Italic.ttf) italic normal 400 normal>,\n",
       " <Font 'cmb10' (cmb10.ttf) normal normal 400 normal>,\n",
       " <Font 'NanumGothic' (NanumGothicLight.ttf) normal normal light normal>,\n",
       " <Font 'cmmi10' (cmmi10.ttf) normal normal 400 normal>,\n",
       " <Font 'NanumGothic Eco' (NanumGothicEcoR.ttf) normal normal 400 normal>,\n",
       " <Font 'STIXSizeThreeSym' (STIXSizThreeSymBol.ttf) normal normal bold normal>,\n",
       " <Font 'STIXSizeTwoSym' (STIXSizTwoSymBol.ttf) normal normal bold normal>,\n",
       " <Font 'NanumGothicCoding' (NanumGothicCoding.ttf) normal normal 400 normal>,\n",
       " <Font 'DejaVu Sans Mono' (DejaVuSansMono.ttf) normal normal 400 normal>,\n",
       " <Font 'cmr10' (cmr10.ttf) normal normal 400 normal>,\n",
       " <Font 'STIXSizeFiveSym' (STIXSizFiveSymReg.ttf) normal normal regular normal>,\n",
       " <Font 'NanumGothic' (NanumGothic.ttf) normal normal 400 normal>,\n",
       " <Font 'DejaVu Sans Mono' (DejaVuSansMono-BoldOblique.ttf) oblique normal bold normal>,\n",
       " <Font 'NanumSquare_ac' (NanumSquare_acR.ttf) normal normal regular normal>,\n",
       " <Font 'NanumBarunpen' (NanumBarunpenR.ttf) normal normal 400 normal>,\n",
       " <Font 'cmtt10' (cmtt10.ttf) normal normal 400 normal>,\n",
       " <Font 'STIXNonUnicode' (STIXNonUniBol.ttf) normal normal bold normal>,\n",
       " <Font 'NanumSquareRound' (NanumSquareRoundB.ttf) normal normal bold normal>,\n",
       " <Font 'STIXGeneral' (STIXGeneralBol.ttf) normal normal bold normal>,\n",
       " <Font 'DejaVu Serif' (DejaVuSerif.ttf) normal normal 400 normal>,\n",
       " <Font 'NanumSquare' (NanumSquareR.ttf) normal normal regular normal>,\n",
       " <Font 'STIXNonUnicode' (STIXNonUniIta.ttf) italic normal 400 normal>,\n",
       " <Font 'NanumBarunGothic' (NanumBarunGothic.ttf) normal normal 400 normal>,\n",
       " <Font 'cmsy10' (cmsy10.ttf) normal normal 400 normal>,\n",
       " <Font 'NanumBarunGothic' (NanumBarunGothicUltraLight.ttf) normal normal ultralight normal>,\n",
       " <Font 'DejaVu Sans Display' (DejaVuSansDisplay.ttf) normal normal 400 normal>,\n",
       " <Font 'DejaVu Sans' (DejaVuSans-BoldOblique.ttf) oblique normal bold normal>,\n",
       " <Font 'NanumMyeongjo YetHangul' (NanumMyeongjo-YetHangul.ttf) normal normal 400 normal>,\n",
       " <Font 'DejaVu Sans Mono' (DejaVuSansMono-Oblique.ttf) oblique normal 400 normal>,\n",
       " <Font 'NanumGothic' (NanumGothicBold.ttf) normal normal bold normal>,\n",
       " <Font 'NanumMyeongjo' (NanumMyeongjo.ttf) normal normal 400 normal>,\n",
       " <Font 'STIXNonUnicode' (STIXNonUni.ttf) normal normal regular normal>,\n",
       " <Font 'DejaVu Serif' (DejaVuSerif-BoldItalic.ttf) italic normal bold normal>,\n",
       " <Font 'STIXNonUnicode' (STIXNonUniBolIta.ttf) italic normal bold normal>,\n",
       " <Font 'NanumBarunpen' (NanumBarunpenB.ttf) normal normal bold normal>,\n",
       " <Font 'STIXGeneral' (STIXGeneralBolIta.ttf) italic normal bold normal>,\n",
       " <Font 'STIXSizeFourSym' (STIXSizFourSymBol.ttf) normal normal bold normal>,\n",
       " <Font 'Nanum Pen Script' (NanumPen.ttf) normal normal 400 normal>,\n",
       " <Font 'STIXSizeOneSym' (STIXSizOneSymReg.ttf) normal normal regular normal>,\n",
       " <Font 'NanumSquare_ac' (NanumSquare_acL.ttf) normal normal light normal>,\n",
       " <Font 'NanumBarunGothic' (NanumBarunGothicBold.ttf) normal normal bold normal>,\n",
       " <Font 'STIXSizeFourSym' (STIXSizFourSymReg.ttf) normal normal regular normal>,\n",
       " <Font 'NanumMyeongjo Eco' (NanumMyeongjoEcoR.ttf) normal normal 400 normal>,\n",
       " <Font 'NanumSquareRound' (NanumSquareRoundL.ttf) normal normal light normal>,\n",
       " <Font 'NanumGothicCoding' (NanumGothicCodingBold.ttf) normal normal bold normal>,\n",
       " <Font 'STIXGeneral' (STIXGeneralItalic.ttf) italic normal 400 normal>,\n",
       " <Font 'Liberation Sans Narrow' (LiberationSansNarrow-Regular.ttf) normal normal 400 condensed>,\n",
       " <Font 'Liberation Sans Narrow' (LiberationSansNarrow-BoldItalic.ttf) italic normal bold condensed>,\n",
       " <Font 'Liberation Mono' (LiberationMono-BoldItalic.ttf) italic normal bold normal>,\n",
       " <Font 'Liberation Mono' (LiberationMono-Regular.ttf) normal normal 400 normal>,\n",
       " <Font 'Liberation Sans' (LiberationSans-Italic.ttf) italic normal 400 normal>,\n",
       " <Font 'Liberation Mono' (LiberationMono-Bold.ttf) normal normal bold normal>,\n",
       " <Font 'Liberation Serif' (LiberationSerif-Bold.ttf) normal normal bold normal>,\n",
       " <Font 'Liberation Sans' (LiberationSans-Regular.ttf) normal normal 400 normal>,\n",
       " <Font 'Liberation Mono' (LiberationMono-Italic.ttf) italic normal 400 normal>,\n",
       " <Font 'Liberation Serif' (LiberationSerif-Regular.ttf) normal normal 400 normal>,\n",
       " <Font 'Liberation Serif' (LiberationSerif-BoldItalic.ttf) italic normal bold normal>,\n",
       " <Font 'Liberation Sans' (LiberationSans-BoldItalic.ttf) italic normal bold normal>,\n",
       " <Font 'Liberation Sans Narrow' (LiberationSansNarrow-Bold.ttf) normal normal bold condensed>,\n",
       " <Font 'Liberation Serif' (LiberationSerif-Italic.ttf) italic normal 400 normal>,\n",
       " <Font 'Liberation Sans Narrow' (LiberationSansNarrow-Italic.ttf) italic normal 400 condensed>,\n",
       " <Font 'Liberation Sans' (LiberationSans-Bold.ttf) normal normal bold normal>]"
      ]
     },
     "execution_count": 8,
     "metadata": {},
     "output_type": "execute_result"
    }
   ],
   "source": [
    "## 아래 경로에 있는 폰트리스트.여기안에 Nanum폰트가있어야됨.\n",
    "# /data1/suhyuncho/.conda/envs/suhyun3/lib/python3.7/site-packages/matplotlib/mpl-data/fonts/ttf\n",
    "fm.fontManager.ttflist"
   ]
  },
  {
   "cell_type": "code",
   "execution_count": 11,
   "metadata": {},
   "outputs": [
    {
     "data": {
      "text/plain": [
       "[('NanumMyeongjo',\n",
       "  '/data1/suhyuncho/.conda/envs/suhyun3/lib/python3.7/site-packages/matplotlib/mpl-data/fonts/ttf/NanumMyeongjoExtraBold.ttf'),\n",
       " ('NanumSquare',\n",
       "  '/data1/suhyuncho/.conda/envs/suhyun3/lib/python3.7/site-packages/matplotlib/mpl-data/fonts/ttf/NanumSquareL.ttf'),\n",
       " ('NanumBarunGothic YetHangul',\n",
       "  '/data1/suhyuncho/.conda/envs/suhyun3/lib/python3.7/site-packages/matplotlib/mpl-data/fonts/ttf/NanumBarunGothic-YetHangul.ttf'),\n",
       " ('NanumGothic',\n",
       "  '/data1/suhyuncho/.conda/envs/suhyun3/lib/python3.7/site-packages/matplotlib/mpl-data/fonts/ttf/NanumGothicExtraBold.ttf'),\n",
       " ('NanumSquare_ac',\n",
       "  '/data1/suhyuncho/.conda/envs/suhyun3/lib/python3.7/site-packages/matplotlib/mpl-data/fonts/ttf/NanumSquare_acB.ttf')]"
      ]
     },
     "execution_count": 11,
     "metadata": {},
     "output_type": "execute_result"
    }
   ],
   "source": [
    "# 나눔폰트확인\n",
    "[(f.name, f.fname) for f in fm.fontManager.ttflist if 'Nanum' in f.name][:5]"
   ]
  },
  {
   "cell_type": "code",
   "execution_count": 12,
   "metadata": {},
   "outputs": [
    {
     "name": "stdout",
     "output_type": "stream",
     "text": [
      "# 설정 되어있는 폰트 사이즈\n",
      "10.0\n",
      "# 설정 되어있는 폰트 글꼴\n",
      "['sans-serif']\n"
     ]
    }
   ],
   "source": [
    "# 기본 설정 읽기\n",
    "import matplotlib.pyplot as plt\n",
    "\n",
    "# size, family\n",
    "print('# 설정 되어있는 폰트 사이즈')\n",
    "print (plt.rcParams['font.size'] ) \n",
    "print('# 설정 되어있는 폰트 글꼴')\n",
    "print (plt.rcParams['font.family'] )"
   ]
  },
  {
   "cell_type": "code",
   "execution_count": 13,
   "metadata": {},
   "outputs": [
    {
     "name": "stdout",
     "output_type": "stream",
     "text": [
      "serif 세리프가 있는 폰트--------\n",
      "['DejaVu Serif', 'Bitstream Vera Serif', 'Computer Modern Roman', 'New Century Schoolbook', 'Century Schoolbook L', 'Utopia', 'ITC Bookman', 'Bookman', 'Nimbus Roman No9 L', 'Times New Roman', 'Times', 'Palatino', 'Charter', 'serif']\n",
      "sans-serif 세리프가 없는 폰트 --------\n",
      "['DejaVu Sans', 'Bitstream Vera Sans', 'Computer Modern Sans Serif', 'Lucida Grande', 'Verdana', 'Geneva', 'Lucid', 'Arial', 'Helvetica', 'Avant Garde', 'sans-serif']\n",
      "monospace 고정폭 글꼴--------\n",
      "['DejaVu Sans Mono', 'Bitstream Vera Sans Mono', 'Computer Modern Typewriter', 'Andale Mono', 'Nimbus Mono L', 'Courier New', 'Courier', 'Fixed', 'Terminal', 'monospace']\n"
     ]
    }
   ],
   "source": [
    "# serif, sans-serif, monospace\n",
    "print('serif 세리프가 있는 폰트--------')\n",
    "print (plt.rcParams['font.serif']) \n",
    "print('sans-serif 세리프가 없는 폰트 --------')\n",
    "print (plt.rcParams['font.sans-serif']) \n",
    "print('monospace 고정폭 글꼴--------')\n",
    "print (plt.rcParams['font.monospace']) "
   ]
  },
  {
   "cell_type": "code",
   "execution_count": 14,
   "metadata": {},
   "outputs": [
    {
     "data": {
      "text/plain": [
       "'/data1/suhyuncho/.cache/matplotlib'"
      ]
     },
     "execution_count": 14,
     "metadata": {},
     "output_type": "execute_result"
    }
   ],
   "source": [
    "# 참고) matplotlib cache 위치를  확인하는 방법\n",
    "mpl.get_cachedir()"
   ]
  },
  {
   "cell_type": "markdown",
   "metadata": {},
   "source": [
    "### matplotlib 기본폰트 변경"
   ]
  },
  {
   "cell_type": "code",
   "execution_count": 16,
   "metadata": {},
   "outputs": [
    {
     "name": "stdout",
     "output_type": "stream",
     "text": [
      "# 설정 되어있는 폰트 글꼴\n",
      "['NanumBarunGothic']\n"
     ]
    }
   ],
   "source": [
    "plt.rcParams[\"font.family\"] = 'NanumBarunGothic'\n",
    "print('# 설정 되어있는 폰트 글꼴')\n",
    "print (plt.rcParams['font.family'] )"
   ]
  },
  {
   "cell_type": "code",
   "execution_count": 18,
   "metadata": {},
   "outputs": [
    {
     "data": {
      "image/png": "[encoded data removed]",
      "text/plain": [
       "<Figure size 432x288 with 1 Axes>"
      ]
     },
     "metadata": {
      "needs_background": "light"
     },
     "output_type": "display_data"
    }
   ],
   "source": [
    "import matplotlib.pyplot as plt\n",
    "from matplotlib import font_manager\n",
    "\n",
    "# font_fname = '/usr/share/fonts/liberation/NanumBarunGothic.ttf'\n",
    "# font_family = font_manager.FontProperties(fname=font_fname).get_name()\n",
    "# plt.rcParams[\"font.family\"] = font_family\n",
    "\n",
    "plt.rcParams[\"font.family\"] = 'NanumBarunGothic'\n",
    "plt.plot(range(50), data, 'r')\n",
    "plt.title('시간별 가격 추이')\n",
    "plt.ylabel('주식 가격')\n",
    "plt.xlabel('시간(분)')\n",
    "plt.style.use('seaborn-pastel')\n",
    "plt.show()"
   ]
  },
  {
   "cell_type": "markdown",
   "metadata": {},
   "source": [
    "------------------------------------------------------------------------------------\n",
    "## 현재 디렉토리에 있는 폰트 지정해서 사용하는 방법\n",
    "* ttf 폰트 파일을 복사해서 바로 사용할 수 도 있다. \n",
    "* 현재 디렉토리에 NanumGothic.ttf 파일을 복사하여 다음과 같이 ttf 파일을 지정하여 사용할 수 있다.\n"
   ]
  },
  {
   "cell_type": "code",
   "execution_count": 17,
   "metadata": {},
   "outputs": [
    {
     "data": {
      "image/png": "[encoded data removed]",
      "text/plain": [
       "<Figure size 432x288 with 1 Axes>"
      ]
     },
     "metadata": {
      "needs_background": "light"
     },
     "output_type": "display_data"
    }
   ],
   "source": [
    "import matplotlib.font_manager as fm\n",
    "\n",
    "fontprop = fm.FontProperties(fname=\"NanumGothic.ttf\", size=24)\n",
    "#fontprop = fm.FontProperties(fname=\"./data1/suhyuncho/personal/fonts/NanumGothic.ttf\", size=24)\n",
    "plt.title('맑은고딕 제목', fontproperties=fontprop)\n",
    "plt.xlabel('시간')\n",
    "plt.plot(data)\n",
    "plt.show();"
   ]
  },
  {
   "cell_type": "code",
   "execution_count": 13,
   "metadata": {},
   "outputs": [
    {
     "data": {
      "text/plain": [
       "'/data1/suhyuncho/.conda/envs/suhyun3/lib/python3.7/site-packages/matplotlib/mpl-data'"
      ]
     },
     "execution_count": 13,
     "metadata": {},
     "output_type": "execute_result"
    }
   ],
   "source": [
    "mpl.get_data_path()"
   ]
  },
  {
   "cell_type": "code",
   "execution_count": 16,
   "metadata": {},
   "outputs": [
    {
     "data": {
      "text/plain": [
       "PosixPath('/data1/suhyuncho/.conda/envs/suhyun3/lib/python3.7/site-packages/matplotlib/mpl-data/fonts/ttf/NanumGothic.ttf')"
      ]
     },
     "execution_count": 16,
     "metadata": {},
     "output_type": "execute_result"
    }
   ],
   "source": [
    "Path(mpl.get_data_path(), \"fonts/ttf/NanumGothic.ttf\")"
   ]
  },
  {
   "cell_type": "code",
   "execution_count": 14,
   "metadata": {},
   "outputs": [
    {
     "data": {
      "text/plain": [
       "PosixPath('/data1/suhyuncho/personal/fonts/NanumGothic.ttf')"
      ]
     },
     "execution_count": 14,
     "metadata": {},
     "output_type": "execute_result"
    }
   ],
   "source": [
    "Path('/data1/suhyuncho/personal/fonts', \"NanumGothic.ttf\")"
   ]
  },
  {
   "cell_type": "code",
   "execution_count": 29,
   "metadata": {},
   "outputs": [
    {
     "data": {
      "image/png": "[encoded data removed]",
      "text/plain": [
       "<Figure size 432x288 with 1 Axes>"
      ]
     },
     "metadata": {
      "needs_background": "light"
     },
     "output_type": "display_data"
    }
   ],
   "source": [
    "from matplotlib import font_manager as fm\n",
    "prop = fm.FontProperties(fname='/data1/suhyuncho/personal/fonts/NanumGothic.ttf',size=15)\n",
    "\n",
    "fig, ax = plt.subplots()\n",
    "plt.title('나눔고딕 제목', fontproperties=prop)\n",
    "ax.set_xlabel('x축 라벨',fontproperties=prop);"
   ]
  }
 ],
 "metadata": {
  "kernelspec": {
   "display_name": "suhyun3",
   "language": "python",
   "name": "suhyun3"
  },
  "language_info": {
   "codemirror_mode": {
    "name": "ipython",
    "version": 3
   },
   "file_extension": ".py",
   "mimetype": "text/x-python",
   "name": "python",
   "nbconvert_exporter": "python",
   "pygments_lexer": "ipython3",
   "version": "3.7.4"
  }
 },
 "nbformat": 4,
 "nbformat_minor": 4
}
