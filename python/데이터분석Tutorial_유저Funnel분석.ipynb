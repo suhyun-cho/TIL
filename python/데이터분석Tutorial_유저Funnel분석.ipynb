{
 "cells": [
  {
   "cell_type": "markdown",
   "metadata": {},
   "source": [
    "# python데이터분석 실무\n",
    "\n",
    "출처 : https://wikidocs.net/16570 <br>\n",
    "2020-12-14\n",
    "\n",
    "### 03. 유저 Funnel 분석을 통해 이탈구간 개선\n",
    "\n",
    "**데이터 전처리 방식**\n",
    "> * 데이터 Type, Label 등이 일관적이지 않은 경우\n",
    "    * 프로그램에서 제공하는 함수를 통해 일괄적으로 변경 (예, SQL: Cast, Python: astype())\n",
    "* Missing Value\n",
    "    * 수치형인 경우 Mean, Median 등 대푯값으로 채우거나 실수 예측 모델링 활용 (예, Linear Regression)\n",
    "    * 카테고리형인 경우 Mode로 채우거나 분류 예측 모델링 활용 (예, Logistic Regression)\n",
    "* Errors, Typo 발생의 경우\n",
    "    * 텍스트 처리 함수 활용 (예, Python: str.replace())\n",
    "* 이상치(outlier)\n",
    "    * IQR, Z-score, MAD 등 방식으로 이상치 제거\n",
    "* 변수가 많은 경우(20개 이상)\n",
    "    * PCA 등으로 차원 축소하거나 변수 중요도 파악후 불필요 변수 제거\n",
    "* 편향된 분포의 변수가 존재하는 경우\n",
    "    * log, sqrt 등 함수로 분포 변환\n",
    "* 측정 단위(scale)이 차이가 클 경우\n",
    "    * StarndardScale or MinMaxScaler 통해 스케일링\n"
   ]
  },
  {
   "cell_type": "code",
   "execution_count": 1,
   "metadata": {},
   "outputs": [],
   "source": [
    "%matplotlib inline\n",
    "import pandas as pd\n",
    "import numpy as np\n",
    "import matplotlib.pyplot as plt\n",
    "import seaborn as sns\n",
    "\n",
    "import warnings\n",
    "warnings.filterwarnings('ignore')\n",
    "plt.style.use('seaborn-paper')"
   ]
  },
  {
   "cell_type": "markdown",
   "metadata": {},
   "source": [
    "-----\n",
    "## 1. Read the Dataset\n",
    "### 1.1 File Info.\n",
    "* 문서 앱내 사용시 발생하는 클라이언 로그 데이터 (after parsed)\n",
    "* 서버로그와 달리, 유저의 행동이 발생할 경우 로그 수집 (유저 행동 패턴 파악에 용이)\n",
    "    * 클라이언트(앱) 로그\n",
    "    * 서버 로그"
   ]
  },
  {
   "cell_type": "code",
   "execution_count": 2,
   "metadata": {},
   "outputs": [],
   "source": [
    "df = pd.read_csv(\"df_funnel.csv\", index_col=0)"
   ]
  },
  {
   "cell_type": "markdown",
   "metadata": {},
   "source": [
    "### 1.2 Columns Info.\n",
    "* actiontype: 문서 이용시 행동(OPEN, CLOSE, SAVE,,)\n",
    "* ismydoc: 내문서 해당 여부(중요x)\n",
    "* ext: 문서 확장자\n",
    "* sessionid: 유저 식별자\n",
    "* documentposition: 문서 이용시 위치 정보(CLOUD, OTHERAPP)\n",
    "* datetime: Timestamp\n",
    "* screen: 앱내 화면 이름"
   ]
  },
  {
   "cell_type": "code",
   "execution_count": 3,
   "metadata": {},
   "outputs": [
    {
     "data": {
      "text/html": [
       "<div>\n",
       "<style scoped>\n",
       "    .dataframe tbody tr th:only-of-type {\n",
       "        vertical-align: middle;\n",
       "    }\n",
       "\n",
       "    .dataframe tbody tr th {\n",
       "        vertical-align: top;\n",
       "    }\n",
       "\n",
       "    .dataframe thead th {\n",
       "        text-align: right;\n",
       "    }\n",
       "</style>\n",
       "<table border=\"1\" class=\"dataframe\">\n",
       "  <thead>\n",
       "    <tr style=\"text-align: right;\">\n",
       "      <th></th>\n",
       "      <th>actiontype</th>\n",
       "      <th>ismydoc</th>\n",
       "      <th>ext</th>\n",
       "      <th>sessionid</th>\n",
       "      <th>documentposition</th>\n",
       "      <th>datetime</th>\n",
       "      <th>screen</th>\n",
       "    </tr>\n",
       "  </thead>\n",
       "  <tbody>\n",
       "    <tr>\n",
       "      <th>0</th>\n",
       "      <td>OPEN</td>\n",
       "      <td>NoView</td>\n",
       "      <td>PDF</td>\n",
       "      <td>9400fd2e43d7dc2d054ca78806236ee1</td>\n",
       "      <td>LOCALSTORAGE</td>\n",
       "      <td>2016.7.18</td>\n",
       "      <td>Per_Dir</td>\n",
       "    </tr>\n",
       "    <tr>\n",
       "      <th>1</th>\n",
       "      <td>CLOSE</td>\n",
       "      <td>NoView</td>\n",
       "      <td>PDF</td>\n",
       "      <td>9400fd2e43d7dc2d054ca78806236ee1</td>\n",
       "      <td>LOCALSTORAGE</td>\n",
       "      <td>2016.7.18</td>\n",
       "      <td>Per_Dir</td>\n",
       "    </tr>\n",
       "    <tr>\n",
       "      <th>2</th>\n",
       "      <td>OPEN</td>\n",
       "      <td>View</td>\n",
       "      <td>PDF</td>\n",
       "      <td>9400fd2e43d7dc2d054ca78806236ee1</td>\n",
       "      <td>MYPOLARISDRIVE</td>\n",
       "      <td>2016.7.18</td>\n",
       "      <td>Pub_Dir</td>\n",
       "    </tr>\n",
       "    <tr>\n",
       "      <th>3</th>\n",
       "      <td>CLOSE</td>\n",
       "      <td>View</td>\n",
       "      <td>PDF</td>\n",
       "      <td>9400fd2e43d7dc2d054ca78806236ee1</td>\n",
       "      <td>MYPOLARISDRIVE</td>\n",
       "      <td>2016.7.18</td>\n",
       "      <td>Pub_Dir</td>\n",
       "    </tr>\n",
       "    <tr>\n",
       "      <th>4</th>\n",
       "      <td>OPEN</td>\n",
       "      <td>NoView</td>\n",
       "      <td>PDF</td>\n",
       "      <td>f191063c562691041dfa935ff0876975</td>\n",
       "      <td>OTHERAPP</td>\n",
       "      <td>2016.7.6</td>\n",
       "      <td>Main</td>\n",
       "    </tr>\n",
       "  </tbody>\n",
       "</table>\n",
       "</div>"
      ],
      "text/plain": [
       "  actiontype ismydoc  ext                         sessionid documentposition  \\\n",
       "0       OPEN  NoView  PDF  9400fd2e43d7dc2d054ca78806236ee1     LOCALSTORAGE   \n",
       "1      CLOSE  NoView  PDF  9400fd2e43d7dc2d054ca78806236ee1     LOCALSTORAGE   \n",
       "2       OPEN    View  PDF  9400fd2e43d7dc2d054ca78806236ee1   MYPOLARISDRIVE   \n",
       "3      CLOSE    View  PDF  9400fd2e43d7dc2d054ca78806236ee1   MYPOLARISDRIVE   \n",
       "4       OPEN  NoView  PDF  f191063c562691041dfa935ff0876975         OTHERAPP   \n",
       "\n",
       "    datetime   screen  \n",
       "0  2016.7.18  Per_Dir  \n",
       "1  2016.7.18  Per_Dir  \n",
       "2  2016.7.18  Pub_Dir  \n",
       "3  2016.7.18  Pub_Dir  \n",
       "4   2016.7.6     Main  "
      ]
     },
     "execution_count": 3,
     "metadata": {},
     "output_type": "execute_result"
    }
   ],
   "source": [
    "df.head(5)"
   ]
  },
  {
   "cell_type": "code",
   "execution_count": 4,
   "metadata": {},
   "outputs": [
    {
     "data": {
      "text/html": [
       "<div>\n",
       "<style scoped>\n",
       "    .dataframe tbody tr th:only-of-type {\n",
       "        vertical-align: middle;\n",
       "    }\n",
       "\n",
       "    .dataframe tbody tr th {\n",
       "        vertical-align: top;\n",
       "    }\n",
       "\n",
       "    .dataframe thead th {\n",
       "        text-align: right;\n",
       "    }\n",
       "</style>\n",
       "<table border=\"1\" class=\"dataframe\">\n",
       "  <thead>\n",
       "    <tr style=\"text-align: right;\">\n",
       "      <th></th>\n",
       "      <th>actiontype</th>\n",
       "      <th>ismydoc</th>\n",
       "      <th>ext</th>\n",
       "      <th>sessionid</th>\n",
       "      <th>documentposition</th>\n",
       "      <th>datetime</th>\n",
       "      <th>screen</th>\n",
       "    </tr>\n",
       "  </thead>\n",
       "  <tbody>\n",
       "    <tr>\n",
       "      <th>301856</th>\n",
       "      <td>CLOSE</td>\n",
       "      <td>View</td>\n",
       "      <td>XLSX</td>\n",
       "      <td>2ed068d5e6a72e80e4a997c01c59f782</td>\n",
       "      <td>OTHERAPP</td>\n",
       "      <td>2016.7.7</td>\n",
       "      <td>Main</td>\n",
       "    </tr>\n",
       "    <tr>\n",
       "      <th>301857</th>\n",
       "      <td>OPEN</td>\n",
       "      <td>NoView</td>\n",
       "      <td>DOCX</td>\n",
       "      <td>41b8c1df291edd2aec30fc610e5b676e</td>\n",
       "      <td>OTHERAPP</td>\n",
       "      <td>2016.7.5</td>\n",
       "      <td>Main</td>\n",
       "    </tr>\n",
       "    <tr>\n",
       "      <th>301858</th>\n",
       "      <td>RESET</td>\n",
       "      <td>View</td>\n",
       "      <td>DOCX</td>\n",
       "      <td>41b8c1df291edd2aec30fc610e5b676e</td>\n",
       "      <td>OTHERAPP</td>\n",
       "      <td>2016.7.5</td>\n",
       "      <td>Main</td>\n",
       "    </tr>\n",
       "    <tr>\n",
       "      <th>301859</th>\n",
       "      <td>OPEN</td>\n",
       "      <td>NoView</td>\n",
       "      <td>PPT</td>\n",
       "      <td>9b5ee236571c2fcbe25132b6ba71d764</td>\n",
       "      <td>OTHERAPP</td>\n",
       "      <td>2016.7.14</td>\n",
       "      <td>Main</td>\n",
       "    </tr>\n",
       "    <tr>\n",
       "      <th>301860</th>\n",
       "      <td>CLOSE</td>\n",
       "      <td>NoView</td>\n",
       "      <td>PPT</td>\n",
       "      <td>9b5ee236571c2fcbe25132b6ba71d764</td>\n",
       "      <td>OTHERAPP</td>\n",
       "      <td>2016.7.14</td>\n",
       "      <td>Main</td>\n",
       "    </tr>\n",
       "  </tbody>\n",
       "</table>\n",
       "</div>"
      ],
      "text/plain": [
       "       actiontype ismydoc   ext                         sessionid  \\\n",
       "301856      CLOSE    View  XLSX  2ed068d5e6a72e80e4a997c01c59f782   \n",
       "301857       OPEN  NoView  DOCX  41b8c1df291edd2aec30fc610e5b676e   \n",
       "301858      RESET    View  DOCX  41b8c1df291edd2aec30fc610e5b676e   \n",
       "301859       OPEN  NoView   PPT  9b5ee236571c2fcbe25132b6ba71d764   \n",
       "301860      CLOSE  NoView   PPT  9b5ee236571c2fcbe25132b6ba71d764   \n",
       "\n",
       "       documentposition   datetime screen  \n",
       "301856         OTHERAPP   2016.7.7   Main  \n",
       "301857         OTHERAPP   2016.7.5   Main  \n",
       "301858         OTHERAPP   2016.7.5   Main  \n",
       "301859         OTHERAPP  2016.7.14   Main  \n",
       "301860         OTHERAPP  2016.7.14   Main  "
      ]
     },
     "execution_count": 4,
     "metadata": {},
     "output_type": "execute_result"
    }
   ],
   "source": [
    "df.tail(5)"
   ]
  },
  {
   "cell_type": "code",
   "execution_count": 5,
   "metadata": {},
   "outputs": [
    {
     "data": {
      "text/plain": [
       "(301861, 7)"
      ]
     },
     "execution_count": 5,
     "metadata": {},
     "output_type": "execute_result"
    }
   ],
   "source": [
    "df.shape"
   ]
  },
  {
   "cell_type": "code",
   "execution_count": 6,
   "metadata": {},
   "outputs": [
    {
     "name": "stdout",
     "output_type": "stream",
     "text": [
      "<class 'pandas.core.frame.DataFrame'>\n",
      "Int64Index: 301861 entries, 0 to 301860\n",
      "Data columns (total 7 columns):\n",
      " #   Column            Non-Null Count   Dtype \n",
      "---  ------            --------------   ----- \n",
      " 0   actiontype        301861 non-null  object\n",
      " 1   ismydoc           301861 non-null  object\n",
      " 2   ext               301861 non-null  object\n",
      " 3   sessionid         301861 non-null  object\n",
      " 4   documentposition  301861 non-null  object\n",
      " 5   datetime          301861 non-null  object\n",
      " 6   screen            301861 non-null  object\n",
      "dtypes: object(7)\n",
      "memory usage: 18.4+ MB\n"
     ]
    }
   ],
   "source": [
    "# key info => data entires, missing values, type\n",
    "df.info()"
   ]
  },
  {
   "cell_type": "markdown",
   "metadata": {},
   "source": [
    "--------\n",
    "## 2. Preprocessing\n",
    "* 데이터 타입 변환\n",
    "* 데이터 값 변경\n",
    "* 결측치 처리\n",
    "* 신규 session id 부여\n",
    "* 대소문자 처리"
   ]
  },
  {
   "cell_type": "markdown",
   "metadata": {},
   "source": [
    "### 2.1 날짜를 pandas datetime 형태로 변환하기"
   ]
  },
  {
   "cell_type": "code",
   "execution_count": 7,
   "metadata": {},
   "outputs": [
    {
     "data": {
      "text/plain": [
       "datetime\n",
       "2016.7.1     11836\n",
       "2016.7.10     6750\n",
       "2016.7.11    10075\n",
       "2016.7.12    12340\n",
       "2016.7.13    12159\n",
       "2016.7.14    11721\n",
       "2016.7.15    11057\n",
       "2016.7.16     8513\n",
       "2016.7.17     6906\n",
       "2016.7.18     9987\n",
       "2016.7.19    11872\n",
       "2016.7.2      8884\n",
       "2016.7.20    11912\n",
       "2016.7.21    11599\n",
       "2016.7.22    11250\n",
       "dtype: int64"
      ]
     },
     "execution_count": 7,
     "metadata": {},
     "output_type": "execute_result"
    }
   ],
   "source": [
    "df.groupby('datetime').size().head(15)"
   ]
  },
  {
   "cell_type": "code",
   "execution_count": 8,
   "metadata": {},
   "outputs": [
    {
     "data": {
      "text/plain": [
       "['2018/01/01', '2018.01.02', '2018-01-03', '2018-01-04', '2018/01/05']"
      ]
     },
     "execution_count": 8,
     "metadata": {},
     "output_type": "execute_result"
    }
   ],
   "source": [
    "## case 1. if date type is string,\n",
    "str_date = ['2018/01/01', '2018.01.02', '2018-01-03', '2018-01-04', '2018/01/05'] # string type\n",
    "str_date"
   ]
  },
  {
   "cell_type": "code",
   "execution_count": 9,
   "metadata": {
    "scrolled": true
   },
   "outputs": [
    {
     "data": {
      "text/plain": [
       "DatetimeIndex(['2018-01-01', '2018-01-02', '2018-01-03', '2018-01-04',\n",
       "               '2018-01-05'],\n",
       "              dtype='datetime64[ns]', freq=None)"
      ]
     },
     "execution_count": 9,
     "metadata": {},
     "output_type": "execute_result"
    }
   ],
   "source": [
    "pd.to_datetime(str_date)"
   ]
  },
  {
   "cell_type": "code",
   "execution_count": 10,
   "metadata": {},
   "outputs": [
    {
     "data": {
      "text/plain": [
       "0   2018-01-01\n",
       "1   2018-01-02\n",
       "2   2018-01-03\n",
       "3   2018-01-04\n",
       "4   2018-01-05\n",
       "dtype: datetime64[ns]"
      ]
     },
     "execution_count": 10,
     "metadata": {},
     "output_type": "execute_result"
    }
   ],
   "source": [
    "pd.Series(pd.to_datetime(str_date))  # to pd.series"
   ]
  },
  {
   "cell_type": "code",
   "execution_count": 11,
   "metadata": {},
   "outputs": [
    {
     "data": {
      "text/plain": [
       "[1349720105, 1349806505, 1349892905, 1349979305, 1350065705]"
      ]
     },
     "execution_count": 11,
     "metadata": {},
     "output_type": "execute_result"
    }
   ],
   "source": [
    "## case 2. 날짜가 timestamp인 경우\n",
    "ts_date = [1349720105, 1349806505, 1349892905, 1349979305, 1350065705]\n",
    "ts_date"
   ]
  },
  {
   "cell_type": "code",
   "execution_count": 12,
   "metadata": {},
   "outputs": [
    {
     "data": {
      "text/plain": [
       "0    2012-10-08\n",
       "1    2012-10-09\n",
       "2    2012-10-10\n",
       "3    2012-10-11\n",
       "4    2012-10-12\n",
       "dtype: object"
      ]
     },
     "execution_count": 12,
     "metadata": {},
     "output_type": "execute_result"
    }
   ],
   "source": [
    "pd.Series(pd.to_datetime(ts_date, unit='s')).dt.date"
   ]
  },
  {
   "cell_type": "code",
   "execution_count": 13,
   "metadata": {},
   "outputs": [
    {
     "name": "stdout",
     "output_type": "stream",
     "text": [
      "<class 'pandas.core.frame.DataFrame'>\n",
      "Int64Index: 301861 entries, 0 to 301860\n",
      "Data columns (total 7 columns):\n",
      " #   Column            Non-Null Count   Dtype \n",
      "---  ------            --------------   ----- \n",
      " 0   actiontype        301861 non-null  object\n",
      " 1   ismydoc           301861 non-null  object\n",
      " 2   ext               301861 non-null  object\n",
      " 3   sessionid         301861 non-null  object\n",
      " 4   documentposition  301861 non-null  object\n",
      " 5   datetime          301861 non-null  object\n",
      " 6   screen            301861 non-null  object\n",
      "dtypes: object(7)\n",
      "memory usage: 18.4+ MB\n"
     ]
    }
   ],
   "source": [
    "## case 3. 컬럼 타입만 바꾸는 경우\n",
    "df.info()"
   ]
  },
  {
   "cell_type": "code",
   "execution_count": 14,
   "metadata": {},
   "outputs": [
    {
     "data": {
      "text/plain": [
       "0   2016-07-18\n",
       "1   2016-07-18\n",
       "2   2016-07-18\n",
       "3   2016-07-18\n",
       "4   2016-07-06\n",
       "Name: datetime, dtype: datetime64[ns]"
      ]
     },
     "execution_count": 14,
     "metadata": {},
     "output_type": "execute_result"
    }
   ],
   "source": [
    "# option1. string to datetime\n",
    "df['datetime'].astype('datetime64[ns]').head()"
   ]
  },
  {
   "cell_type": "code",
   "execution_count": 15,
   "metadata": {},
   "outputs": [
    {
     "data": {
      "text/plain": [
       "0   2016-07-18\n",
       "1   2016-07-18\n",
       "2   2016-07-18\n",
       "3   2016-07-18\n",
       "4   2016-07-06\n",
       "Name: datetime, dtype: datetime64[ns]"
      ]
     },
     "execution_count": 15,
     "metadata": {},
     "output_type": "execute_result"
    }
   ],
   "source": [
    "#option2.\n",
    "pd.to_datetime(df['datetime']).head()"
   ]
  },
  {
   "cell_type": "code",
   "execution_count": 16,
   "metadata": {},
   "outputs": [],
   "source": [
    "df['datetime']=pd.to_datetime(df['datetime'])"
   ]
  },
  {
   "cell_type": "code",
   "execution_count": 17,
   "metadata": {},
   "outputs": [
    {
     "name": "stdout",
     "output_type": "stream",
     "text": [
      "<class 'pandas.core.frame.DataFrame'>\n",
      "Int64Index: 301861 entries, 0 to 301860\n",
      "Data columns (total 7 columns):\n",
      " #   Column            Non-Null Count   Dtype         \n",
      "---  ------            --------------   -----         \n",
      " 0   actiontype        301861 non-null  object        \n",
      " 1   ismydoc           301861 non-null  object        \n",
      " 2   ext               301861 non-null  object        \n",
      " 3   sessionid         301861 non-null  object        \n",
      " 4   documentposition  301861 non-null  object        \n",
      " 5   datetime          301861 non-null  datetime64[ns]\n",
      " 6   screen            301861 non-null  object        \n",
      "dtypes: datetime64[ns](1), object(6)\n",
      "memory usage: 18.4+ MB\n"
     ]
    }
   ],
   "source": [
    "df.info()"
   ]
  },
  {
   "cell_type": "code",
   "execution_count": 18,
   "metadata": {},
   "outputs": [
    {
     "data": {
      "text/plain": [
       "datetime\n",
       "2016-07-01    11836\n",
       "2016-07-02     8884\n",
       "2016-07-03     6334\n",
       "2016-07-04     9260\n",
       "2016-07-05    10988\n",
       "2016-07-06    10525\n",
       "2016-07-07    10153\n",
       "2016-07-08    10522\n",
       "2016-07-09     8283\n",
       "2016-07-10     6750\n",
       "2016-07-11    10075\n",
       "2016-07-12    12340\n",
       "2016-07-13    12159\n",
       "2016-07-14    11721\n",
       "2016-07-15    11057\n",
       "2016-07-16     8513\n",
       "2016-07-17     6906\n",
       "2016-07-18     9987\n",
       "2016-07-19    11872\n",
       "2016-07-20    11912\n",
       "2016-07-21    11599\n",
       "2016-07-22    11250\n",
       "2016-07-23     8390\n",
       "2016-07-24     6813\n",
       "2016-07-25    10081\n",
       "2016-07-26    12034\n",
       "2016-07-27    11593\n",
       "2016-07-28    11216\n",
       "2016-07-29    10721\n",
       "2016-07-30     8087\n",
       "dtype: int64"
      ]
     },
     "execution_count": 18,
     "metadata": {},
     "output_type": "execute_result"
    }
   ],
   "source": [
    "df.groupby('datetime').size()"
   ]
  },
  {
   "cell_type": "code",
   "execution_count": 19,
   "metadata": {},
   "outputs": [
    {
     "data": {
      "text/plain": [
       "0    2016\n",
       "1    2016\n",
       "2    2016\n",
       "3    2016\n",
       "4    2016\n",
       "5    2016\n",
       "6    2016\n",
       "7    2016\n",
       "8    2016\n",
       "9    2016\n",
       "Name: datetime, dtype: int64"
      ]
     },
     "execution_count": 19,
     "metadata": {},
     "output_type": "execute_result"
    }
   ],
   "source": [
    "df['datetime'].dt.year[:10]"
   ]
  },
  {
   "cell_type": "code",
   "execution_count": 20,
   "metadata": {},
   "outputs": [
    {
     "data": {
      "text/plain": [
       "0    7\n",
       "1    7\n",
       "2    7\n",
       "3    7\n",
       "4    7\n",
       "5    7\n",
       "6    7\n",
       "7    7\n",
       "8    7\n",
       "9    7\n",
       "Name: datetime, dtype: int64"
      ]
     },
     "execution_count": 20,
     "metadata": {},
     "output_type": "execute_result"
    }
   ],
   "source": [
    "df['datetime'].dt.month[:10]"
   ]
  },
  {
   "cell_type": "markdown",
   "metadata": {},
   "source": [
    "#### Quiz. df 데이터 프레임에 새로운 컬럼(요일) 생성\n",
    "1. df['dayofweek']: 요일\n",
    "2. 요일별 로그 수 카운트\n",
    "3. 요일 컬럼 삭제"
   ]
  },
  {
   "cell_type": "code",
   "execution_count": 21,
   "metadata": {},
   "outputs": [
    {
     "data": {
      "text/plain": [
       "0         월요일\n",
       "1         월요일\n",
       "2         월요일\n",
       "3         월요일\n",
       "4         수요일\n",
       "         ... \n",
       "301856    목요일\n",
       "301857    화요일\n",
       "301858    화요일\n",
       "301859    목요일\n",
       "301860    목요일\n",
       "Name: day_of_week, Length: 301861, dtype: object"
      ]
     },
     "execution_count": 21,
     "metadata": {},
     "output_type": "execute_result"
    }
   ],
   "source": [
    "days={0:'월요일',1:'화요일', 2:'수요일', 3:'목요일', 4:'금요일', 5:'토요일', 6:'일요일'}\n",
    "# dayofweek 으로 0~6까지 요일 나타냄.\n",
    "df['day_of_week']=df['datetime'].dt.dayofweek\n",
    "df['day_of_week']=df['day_of_week'].apply(lambda x:days[x])\n",
    "df['day_of_week']"
   ]
  },
  {
   "cell_type": "markdown",
   "metadata": {},
   "source": [
    "맥 matplotlib 한글깨짐 문제 해결"
   ]
  },
  {
   "cell_type": "code",
   "execution_count": 22,
   "metadata": {},
   "outputs": [],
   "source": [
    "from matplotlib import rc\n",
    "rc('font', family='AppleGothic')\n",
    "plt.rcParams['axes.unicode_minus'] = False"
   ]
  },
  {
   "cell_type": "code",
   "execution_count": 23,
   "metadata": {},
   "outputs": [
    {
     "data": {
      "image/png": "[encoded data removed]",
      "text/plain": [
       "<Figure size 432x288 with 1 Axes>"
      ]
     },
     "metadata": {
      "needs_background": "light"
     },
     "output_type": "display_data"
    }
   ],
   "source": [
    "# 한글깨짐\n",
    "df.groupby(['day_of_week']).count()['actiontype'].plot.bar();"
   ]
  },
  {
   "cell_type": "code",
   "execution_count": 24,
   "metadata": {},
   "outputs": [],
   "source": [
    "df=df.drop(['day_of_week'],axis=1)"
   ]
  },
  {
   "cell_type": "code",
   "execution_count": 25,
   "metadata": {},
   "outputs": [
    {
     "data": {
      "text/html": [
       "<div>\n",
       "<style scoped>\n",
       "    .dataframe tbody tr th:only-of-type {\n",
       "        vertical-align: middle;\n",
       "    }\n",
       "\n",
       "    .dataframe tbody tr th {\n",
       "        vertical-align: top;\n",
       "    }\n",
       "\n",
       "    .dataframe thead th {\n",
       "        text-align: right;\n",
       "    }\n",
       "</style>\n",
       "<table border=\"1\" class=\"dataframe\">\n",
       "  <thead>\n",
       "    <tr style=\"text-align: right;\">\n",
       "      <th></th>\n",
       "      <th>actiontype</th>\n",
       "      <th>ismydoc</th>\n",
       "      <th>ext</th>\n",
       "      <th>sessionid</th>\n",
       "      <th>documentposition</th>\n",
       "      <th>datetime</th>\n",
       "      <th>screen</th>\n",
       "    </tr>\n",
       "  </thead>\n",
       "  <tbody>\n",
       "    <tr>\n",
       "      <th>0</th>\n",
       "      <td>OPEN</td>\n",
       "      <td>NoView</td>\n",
       "      <td>PDF</td>\n",
       "      <td>9400fd2e43d7dc2d054ca78806236ee1</td>\n",
       "      <td>LOCALSTORAGE</td>\n",
       "      <td>2016-07-18</td>\n",
       "      <td>Per_Dir</td>\n",
       "    </tr>\n",
       "    <tr>\n",
       "      <th>1</th>\n",
       "      <td>CLOSE</td>\n",
       "      <td>NoView</td>\n",
       "      <td>PDF</td>\n",
       "      <td>9400fd2e43d7dc2d054ca78806236ee1</td>\n",
       "      <td>LOCALSTORAGE</td>\n",
       "      <td>2016-07-18</td>\n",
       "      <td>Per_Dir</td>\n",
       "    </tr>\n",
       "    <tr>\n",
       "      <th>2</th>\n",
       "      <td>OPEN</td>\n",
       "      <td>View</td>\n",
       "      <td>PDF</td>\n",
       "      <td>9400fd2e43d7dc2d054ca78806236ee1</td>\n",
       "      <td>MYPOLARISDRIVE</td>\n",
       "      <td>2016-07-18</td>\n",
       "      <td>Pub_Dir</td>\n",
       "    </tr>\n",
       "    <tr>\n",
       "      <th>3</th>\n",
       "      <td>CLOSE</td>\n",
       "      <td>View</td>\n",
       "      <td>PDF</td>\n",
       "      <td>9400fd2e43d7dc2d054ca78806236ee1</td>\n",
       "      <td>MYPOLARISDRIVE</td>\n",
       "      <td>2016-07-18</td>\n",
       "      <td>Pub_Dir</td>\n",
       "    </tr>\n",
       "    <tr>\n",
       "      <th>4</th>\n",
       "      <td>OPEN</td>\n",
       "      <td>NoView</td>\n",
       "      <td>PDF</td>\n",
       "      <td>f191063c562691041dfa935ff0876975</td>\n",
       "      <td>OTHERAPP</td>\n",
       "      <td>2016-07-06</td>\n",
       "      <td>Main</td>\n",
       "    </tr>\n",
       "  </tbody>\n",
       "</table>\n",
       "</div>"
      ],
      "text/plain": [
       "  actiontype ismydoc  ext                         sessionid documentposition  \\\n",
       "0       OPEN  NoView  PDF  9400fd2e43d7dc2d054ca78806236ee1     LOCALSTORAGE   \n",
       "1      CLOSE  NoView  PDF  9400fd2e43d7dc2d054ca78806236ee1     LOCALSTORAGE   \n",
       "2       OPEN    View  PDF  9400fd2e43d7dc2d054ca78806236ee1   MYPOLARISDRIVE   \n",
       "3      CLOSE    View  PDF  9400fd2e43d7dc2d054ca78806236ee1   MYPOLARISDRIVE   \n",
       "4       OPEN  NoView  PDF  f191063c562691041dfa935ff0876975         OTHERAPP   \n",
       "\n",
       "    datetime   screen  \n",
       "0 2016-07-18  Per_Dir  \n",
       "1 2016-07-18  Per_Dir  \n",
       "2 2016-07-18  Pub_Dir  \n",
       "3 2016-07-18  Pub_Dir  \n",
       "4 2016-07-06     Main  "
      ]
     },
     "execution_count": 25,
     "metadata": {},
     "output_type": "execute_result"
    }
   ],
   "source": [
    "df.head()"
   ]
  },
  {
   "cell_type": "markdown",
   "metadata": {},
   "source": [
    "### 2.2 Missing value 확인"
   ]
  },
  {
   "cell_type": "code",
   "execution_count": 26,
   "metadata": {},
   "outputs": [
    {
     "data": {
      "text/plain": [
       "actiontype          0\n",
       "ismydoc             0\n",
       "ext                 0\n",
       "sessionid           0\n",
       "documentposition    0\n",
       "datetime            0\n",
       "screen              0\n",
       "dtype: int64"
      ]
     },
     "execution_count": 26,
     "metadata": {},
     "output_type": "execute_result"
    }
   ],
   "source": [
    "df.isnull().sum()"
   ]
  },
  {
   "cell_type": "markdown",
   "metadata": {},
   "source": [
    "### 2.3 결측치 처리\n",
    "* Drop\n",
    "    * 경우에 따라 결측치 처리 방법이 달라진다.\n",
    "    * 샘플수가 많다면 missing values 를 포함하는 행을 모두 삭제하는 것이 가능하다"
   ]
  },
  {
   "cell_type": "code",
   "execution_count": 27,
   "metadata": {},
   "outputs": [
    {
     "data": {
      "text/html": [
       "<div>\n",
       "<style scoped>\n",
       "    .dataframe tbody tr th:only-of-type {\n",
       "        vertical-align: middle;\n",
       "    }\n",
       "\n",
       "    .dataframe tbody tr th {\n",
       "        vertical-align: top;\n",
       "    }\n",
       "\n",
       "    .dataframe thead th {\n",
       "        text-align: right;\n",
       "    }\n",
       "</style>\n",
       "<table border=\"1\" class=\"dataframe\">\n",
       "  <thead>\n",
       "    <tr style=\"text-align: right;\">\n",
       "      <th></th>\n",
       "      <th>actiontype</th>\n",
       "      <th>ismydoc</th>\n",
       "      <th>ext</th>\n",
       "      <th>sessionid</th>\n",
       "      <th>documentposition</th>\n",
       "      <th>datetime</th>\n",
       "      <th>screen</th>\n",
       "    </tr>\n",
       "  </thead>\n",
       "  <tbody>\n",
       "  </tbody>\n",
       "</table>\n",
       "</div>"
      ],
      "text/plain": [
       "Empty DataFrame\n",
       "Columns: [actiontype, ismydoc, ext, sessionid, documentposition, datetime, screen]\n",
       "Index: []"
      ]
     },
     "execution_count": 27,
     "metadata": {},
     "output_type": "execute_result"
    }
   ],
   "source": [
    "# 결측치가 하나라도 있으면 버리는 코드 예제\n",
    "df.dropna()\n",
    "\n",
    "# 모든 값이 Null일 경우만 버리는 코드 예제\n",
    "df.dropna(how='all')\n",
    "\n",
    "# 결측치가 하나 이상 있는 Case만 선택하는 코드 예제\n",
    "df[df.isnull().any(axis=1)]"
   ]
  },
  {
   "cell_type": "markdown",
   "metadata": {},
   "source": [
    "* Imputation\n",
    "    * 만약 샘플수가 충분하지 않을 경우, Pandas의 fillna() 명령어로 Null 값을 채우는 것이 가능하다.\n",
    "    * 연속형인 경우 Mean이나 Median을 이용하고 명목형인 경우 Mode(최빈치)나 예측 모형을 통해 Null 값을 대체할 수 있다."
   ]
  },
  {
   "cell_type": "code",
   "execution_count": 28,
   "metadata": {},
   "outputs": [
    {
     "data": {
      "text/html": [
       "<div>\n",
       "<style scoped>\n",
       "    .dataframe tbody tr th:only-of-type {\n",
       "        vertical-align: middle;\n",
       "    }\n",
       "\n",
       "    .dataframe tbody tr th {\n",
       "        vertical-align: top;\n",
       "    }\n",
       "\n",
       "    .dataframe thead th {\n",
       "        text-align: right;\n",
       "    }\n",
       "</style>\n",
       "<table border=\"1\" class=\"dataframe\">\n",
       "  <thead>\n",
       "    <tr style=\"text-align: right;\">\n",
       "      <th>screen</th>\n",
       "      <th>InProduct_Mob</th>\n",
       "      <th>InProduct_Web</th>\n",
       "      <th>Main</th>\n",
       "      <th>Per_Dir</th>\n",
       "      <th>Pub_Dir</th>\n",
       "      <th>Purchase_done</th>\n",
       "      <th>Purchase_page</th>\n",
       "    </tr>\n",
       "    <tr>\n",
       "      <th>datetime</th>\n",
       "      <th></th>\n",
       "      <th></th>\n",
       "      <th></th>\n",
       "      <th></th>\n",
       "      <th></th>\n",
       "      <th></th>\n",
       "      <th></th>\n",
       "    </tr>\n",
       "  </thead>\n",
       "  <tbody>\n",
       "    <tr>\n",
       "      <th>2016-07-01</th>\n",
       "      <td>137.0</td>\n",
       "      <td>147.0</td>\n",
       "      <td>3582.0</td>\n",
       "      <td>296.0</td>\n",
       "      <td>1008.0</td>\n",
       "      <td>2.0</td>\n",
       "      <td>23.0</td>\n",
       "    </tr>\n",
       "    <tr>\n",
       "      <th>2016-07-02</th>\n",
       "      <td>89.0</td>\n",
       "      <td>124.0</td>\n",
       "      <td>2683.0</td>\n",
       "      <td>206.0</td>\n",
       "      <td>801.0</td>\n",
       "      <td>2.0</td>\n",
       "      <td>15.0</td>\n",
       "    </tr>\n",
       "    <tr>\n",
       "      <th>2016-07-03</th>\n",
       "      <td>50.0</td>\n",
       "      <td>83.0</td>\n",
       "      <td>1886.0</td>\n",
       "      <td>165.0</td>\n",
       "      <td>590.0</td>\n",
       "      <td>NaN</td>\n",
       "      <td>28.0</td>\n",
       "    </tr>\n",
       "    <tr>\n",
       "      <th>2016-07-04</th>\n",
       "      <td>112.0</td>\n",
       "      <td>104.0</td>\n",
       "      <td>2808.0</td>\n",
       "      <td>281.0</td>\n",
       "      <td>764.0</td>\n",
       "      <td>NaN</td>\n",
       "      <td>29.0</td>\n",
       "    </tr>\n",
       "    <tr>\n",
       "      <th>2016-07-05</th>\n",
       "      <td>118.0</td>\n",
       "      <td>138.0</td>\n",
       "      <td>3335.0</td>\n",
       "      <td>300.0</td>\n",
       "      <td>842.0</td>\n",
       "      <td>1.0</td>\n",
       "      <td>26.0</td>\n",
       "    </tr>\n",
       "    <tr>\n",
       "      <th>2016-07-06</th>\n",
       "      <td>138.0</td>\n",
       "      <td>145.0</td>\n",
       "      <td>3256.0</td>\n",
       "      <td>293.0</td>\n",
       "      <td>855.0</td>\n",
       "      <td>1.0</td>\n",
       "      <td>30.0</td>\n",
       "    </tr>\n",
       "    <tr>\n",
       "      <th>2016-07-07</th>\n",
       "      <td>110.0</td>\n",
       "      <td>117.0</td>\n",
       "      <td>3150.0</td>\n",
       "      <td>266.0</td>\n",
       "      <td>807.0</td>\n",
       "      <td>NaN</td>\n",
       "      <td>18.0</td>\n",
       "    </tr>\n",
       "    <tr>\n",
       "      <th>2016-07-08</th>\n",
       "      <td>117.0</td>\n",
       "      <td>148.0</td>\n",
       "      <td>3208.0</td>\n",
       "      <td>273.0</td>\n",
       "      <td>865.0</td>\n",
       "      <td>2.0</td>\n",
       "      <td>20.0</td>\n",
       "    </tr>\n",
       "    <tr>\n",
       "      <th>2016-07-09</th>\n",
       "      <td>102.0</td>\n",
       "      <td>138.0</td>\n",
       "      <td>2381.0</td>\n",
       "      <td>229.0</td>\n",
       "      <td>748.0</td>\n",
       "      <td>2.0</td>\n",
       "      <td>23.0</td>\n",
       "    </tr>\n",
       "    <tr>\n",
       "      <th>2016-07-10</th>\n",
       "      <td>62.0</td>\n",
       "      <td>122.0</td>\n",
       "      <td>1872.0</td>\n",
       "      <td>230.0</td>\n",
       "      <td>636.0</td>\n",
       "      <td>2.0</td>\n",
       "      <td>18.0</td>\n",
       "    </tr>\n",
       "  </tbody>\n",
       "</table>\n",
       "</div>"
      ],
      "text/plain": [
       "screen      InProduct_Mob  InProduct_Web    Main  Per_Dir  Pub_Dir  \\\n",
       "datetime                                                             \n",
       "2016-07-01          137.0          147.0  3582.0    296.0   1008.0   \n",
       "2016-07-02           89.0          124.0  2683.0    206.0    801.0   \n",
       "2016-07-03           50.0           83.0  1886.0    165.0    590.0   \n",
       "2016-07-04          112.0          104.0  2808.0    281.0    764.0   \n",
       "2016-07-05          118.0          138.0  3335.0    300.0    842.0   \n",
       "2016-07-06          138.0          145.0  3256.0    293.0    855.0   \n",
       "2016-07-07          110.0          117.0  3150.0    266.0    807.0   \n",
       "2016-07-08          117.0          148.0  3208.0    273.0    865.0   \n",
       "2016-07-09          102.0          138.0  2381.0    229.0    748.0   \n",
       "2016-07-10           62.0          122.0  1872.0    230.0    636.0   \n",
       "\n",
       "screen      Purchase_done  Purchase_page  \n",
       "datetime                                  \n",
       "2016-07-01            2.0           23.0  \n",
       "2016-07-02            2.0           15.0  \n",
       "2016-07-03            NaN           28.0  \n",
       "2016-07-04            NaN           29.0  \n",
       "2016-07-05            1.0           26.0  \n",
       "2016-07-06            1.0           30.0  \n",
       "2016-07-07            NaN           18.0  \n",
       "2016-07-08            2.0           20.0  \n",
       "2016-07-09            2.0           23.0  \n",
       "2016-07-10            2.0           18.0  "
      ]
     },
     "execution_count": 28,
     "metadata": {},
     "output_type": "execute_result"
    }
   ],
   "source": [
    "# 날짜별,screen별 sessionid의 유니크한 개수카운트\n",
    "# unstack() 을하면 컬럼별로 나열된 값을 행으로올려줌.\n",
    "df_by_screen=df.groupby(['datetime','screen'])['sessionid'].nunique().unstack()\n",
    "df_by_screen[:10]"
   ]
  },
  {
   "cell_type": "code",
   "execution_count": 29,
   "metadata": {},
   "outputs": [
    {
     "data": {
      "text/plain": [
       "screen\n",
       "InProduct_Mob    0\n",
       "InProduct_Web    0\n",
       "Main             0\n",
       "Per_Dir          0\n",
       "Pub_Dir          0\n",
       "Purchase_done    6\n",
       "Purchase_page    0\n",
       "dtype: int64"
      ]
     },
     "execution_count": 29,
     "metadata": {},
     "output_type": "execute_result"
    }
   ],
   "source": [
    "df_by_screen.isnull().sum()"
   ]
  },
  {
   "cell_type": "code",
   "execution_count": 30,
   "metadata": {},
   "outputs": [
    {
     "name": "stdout",
     "output_type": "stream",
     "text": [
      "<class 'pandas.core.frame.DataFrame'>\n",
      "DatetimeIndex: 30 entries, 2016-07-01 to 2016-07-30\n",
      "Data columns (total 7 columns):\n",
      " #   Column         Non-Null Count  Dtype  \n",
      "---  ------         --------------  -----  \n",
      " 0   InProduct_Mob  30 non-null     float64\n",
      " 1   InProduct_Web  30 non-null     float64\n",
      " 2   Main           30 non-null     float64\n",
      " 3   Per_Dir        30 non-null     float64\n",
      " 4   Pub_Dir        30 non-null     float64\n",
      " 5   Purchase_done  24 non-null     float64\n",
      " 6   Purchase_page  30 non-null     float64\n",
      "dtypes: float64(7)\n",
      "memory usage: 1.9 KB\n"
     ]
    }
   ],
   "source": [
    "df_by_screen.info()"
   ]
  },
  {
   "cell_type": "markdown",
   "metadata": {},
   "source": [
    "* 비즈니스 맥락 및 목적(퍼널분석)을 고려했을 때, 이 경우는 결측치를 0으로 처리하는 것이 적당하다고 판단됨.\n",
    "    * 해당 날짜에 구매완료 페이지에 도달한 사용자가 없는 개념 = 0"
   ]
  },
  {
   "cell_type": "code",
   "execution_count": 31,
   "metadata": {},
   "outputs": [
    {
     "data": {
      "text/html": [
       "<div>\n",
       "<style scoped>\n",
       "    .dataframe tbody tr th:only-of-type {\n",
       "        vertical-align: middle;\n",
       "    }\n",
       "\n",
       "    .dataframe tbody tr th {\n",
       "        vertical-align: top;\n",
       "    }\n",
       "\n",
       "    .dataframe thead th {\n",
       "        text-align: right;\n",
       "    }\n",
       "</style>\n",
       "<table border=\"1\" class=\"dataframe\">\n",
       "  <thead>\n",
       "    <tr style=\"text-align: right;\">\n",
       "      <th>screen</th>\n",
       "      <th>InProduct_Mob</th>\n",
       "      <th>InProduct_Web</th>\n",
       "      <th>Main</th>\n",
       "      <th>Per_Dir</th>\n",
       "      <th>Pub_Dir</th>\n",
       "      <th>Purchase_done</th>\n",
       "      <th>Purchase_page</th>\n",
       "    </tr>\n",
       "    <tr>\n",
       "      <th>datetime</th>\n",
       "      <th></th>\n",
       "      <th></th>\n",
       "      <th></th>\n",
       "      <th></th>\n",
       "      <th></th>\n",
       "      <th></th>\n",
       "      <th></th>\n",
       "    </tr>\n",
       "  </thead>\n",
       "  <tbody>\n",
       "    <tr>\n",
       "      <th>2016-07-01</th>\n",
       "      <td>137.0</td>\n",
       "      <td>147.0</td>\n",
       "      <td>3582.0</td>\n",
       "      <td>296.0</td>\n",
       "      <td>1008.0</td>\n",
       "      <td>2.0</td>\n",
       "      <td>23.0</td>\n",
       "    </tr>\n",
       "    <tr>\n",
       "      <th>2016-07-02</th>\n",
       "      <td>89.0</td>\n",
       "      <td>124.0</td>\n",
       "      <td>2683.0</td>\n",
       "      <td>206.0</td>\n",
       "      <td>801.0</td>\n",
       "      <td>2.0</td>\n",
       "      <td>15.0</td>\n",
       "    </tr>\n",
       "    <tr>\n",
       "      <th>2016-07-03</th>\n",
       "      <td>50.0</td>\n",
       "      <td>83.0</td>\n",
       "      <td>1886.0</td>\n",
       "      <td>165.0</td>\n",
       "      <td>590.0</td>\n",
       "      <td>0.0</td>\n",
       "      <td>28.0</td>\n",
       "    </tr>\n",
       "    <tr>\n",
       "      <th>2016-07-04</th>\n",
       "      <td>112.0</td>\n",
       "      <td>104.0</td>\n",
       "      <td>2808.0</td>\n",
       "      <td>281.0</td>\n",
       "      <td>764.0</td>\n",
       "      <td>0.0</td>\n",
       "      <td>29.0</td>\n",
       "    </tr>\n",
       "    <tr>\n",
       "      <th>2016-07-05</th>\n",
       "      <td>118.0</td>\n",
       "      <td>138.0</td>\n",
       "      <td>3335.0</td>\n",
       "      <td>300.0</td>\n",
       "      <td>842.0</td>\n",
       "      <td>1.0</td>\n",
       "      <td>26.0</td>\n",
       "    </tr>\n",
       "    <tr>\n",
       "      <th>2016-07-06</th>\n",
       "      <td>138.0</td>\n",
       "      <td>145.0</td>\n",
       "      <td>3256.0</td>\n",
       "      <td>293.0</td>\n",
       "      <td>855.0</td>\n",
       "      <td>1.0</td>\n",
       "      <td>30.0</td>\n",
       "    </tr>\n",
       "    <tr>\n",
       "      <th>2016-07-07</th>\n",
       "      <td>110.0</td>\n",
       "      <td>117.0</td>\n",
       "      <td>3150.0</td>\n",
       "      <td>266.0</td>\n",
       "      <td>807.0</td>\n",
       "      <td>0.0</td>\n",
       "      <td>18.0</td>\n",
       "    </tr>\n",
       "    <tr>\n",
       "      <th>2016-07-08</th>\n",
       "      <td>117.0</td>\n",
       "      <td>148.0</td>\n",
       "      <td>3208.0</td>\n",
       "      <td>273.0</td>\n",
       "      <td>865.0</td>\n",
       "      <td>2.0</td>\n",
       "      <td>20.0</td>\n",
       "    </tr>\n",
       "    <tr>\n",
       "      <th>2016-07-09</th>\n",
       "      <td>102.0</td>\n",
       "      <td>138.0</td>\n",
       "      <td>2381.0</td>\n",
       "      <td>229.0</td>\n",
       "      <td>748.0</td>\n",
       "      <td>2.0</td>\n",
       "      <td>23.0</td>\n",
       "    </tr>\n",
       "    <tr>\n",
       "      <th>2016-07-10</th>\n",
       "      <td>62.0</td>\n",
       "      <td>122.0</td>\n",
       "      <td>1872.0</td>\n",
       "      <td>230.0</td>\n",
       "      <td>636.0</td>\n",
       "      <td>2.0</td>\n",
       "      <td>18.0</td>\n",
       "    </tr>\n",
       "  </tbody>\n",
       "</table>\n",
       "</div>"
      ],
      "text/plain": [
       "screen      InProduct_Mob  InProduct_Web    Main  Per_Dir  Pub_Dir  \\\n",
       "datetime                                                             \n",
       "2016-07-01          137.0          147.0  3582.0    296.0   1008.0   \n",
       "2016-07-02           89.0          124.0  2683.0    206.0    801.0   \n",
       "2016-07-03           50.0           83.0  1886.0    165.0    590.0   \n",
       "2016-07-04          112.0          104.0  2808.0    281.0    764.0   \n",
       "2016-07-05          118.0          138.0  3335.0    300.0    842.0   \n",
       "2016-07-06          138.0          145.0  3256.0    293.0    855.0   \n",
       "2016-07-07          110.0          117.0  3150.0    266.0    807.0   \n",
       "2016-07-08          117.0          148.0  3208.0    273.0    865.0   \n",
       "2016-07-09          102.0          138.0  2381.0    229.0    748.0   \n",
       "2016-07-10           62.0          122.0  1872.0    230.0    636.0   \n",
       "\n",
       "screen      Purchase_done  Purchase_page  \n",
       "datetime                                  \n",
       "2016-07-01            2.0           23.0  \n",
       "2016-07-02            2.0           15.0  \n",
       "2016-07-03            0.0           28.0  \n",
       "2016-07-04            0.0           29.0  \n",
       "2016-07-05            1.0           26.0  \n",
       "2016-07-06            1.0           30.0  \n",
       "2016-07-07            0.0           18.0  \n",
       "2016-07-08            2.0           20.0  \n",
       "2016-07-09            2.0           23.0  \n",
       "2016-07-10            2.0           18.0  "
      ]
     },
     "execution_count": 31,
     "metadata": {},
     "output_type": "execute_result"
    }
   ],
   "source": [
    "df_by_screen.fillna(0)[:10]"
   ]
  },
  {
   "cell_type": "code",
   "execution_count": 32,
   "metadata": {},
   "outputs": [
    {
     "data": {
      "text/html": [
       "<div>\n",
       "<style scoped>\n",
       "    .dataframe tbody tr th:only-of-type {\n",
       "        vertical-align: middle;\n",
       "    }\n",
       "\n",
       "    .dataframe tbody tr th {\n",
       "        vertical-align: top;\n",
       "    }\n",
       "\n",
       "    .dataframe thead th {\n",
       "        text-align: right;\n",
       "    }\n",
       "</style>\n",
       "<table border=\"1\" class=\"dataframe\">\n",
       "  <thead>\n",
       "    <tr style=\"text-align: right;\">\n",
       "      <th>screen</th>\n",
       "      <th>InProduct_Mob</th>\n",
       "      <th>InProduct_Web</th>\n",
       "      <th>Main</th>\n",
       "      <th>Per_Dir</th>\n",
       "      <th>Pub_Dir</th>\n",
       "      <th>Purchase_done</th>\n",
       "      <th>Purchase_page</th>\n",
       "    </tr>\n",
       "    <tr>\n",
       "      <th>datetime</th>\n",
       "      <th></th>\n",
       "      <th></th>\n",
       "      <th></th>\n",
       "      <th></th>\n",
       "      <th></th>\n",
       "      <th></th>\n",
       "      <th></th>\n",
       "    </tr>\n",
       "  </thead>\n",
       "  <tbody>\n",
       "    <tr>\n",
       "      <th>2016-07-01</th>\n",
       "      <td>137.0</td>\n",
       "      <td>147.0</td>\n",
       "      <td>3582.0</td>\n",
       "      <td>296.0</td>\n",
       "      <td>1008.0</td>\n",
       "      <td>2.0</td>\n",
       "      <td>23.0</td>\n",
       "    </tr>\n",
       "    <tr>\n",
       "      <th>2016-07-02</th>\n",
       "      <td>89.0</td>\n",
       "      <td>124.0</td>\n",
       "      <td>2683.0</td>\n",
       "      <td>206.0</td>\n",
       "      <td>801.0</td>\n",
       "      <td>2.0</td>\n",
       "      <td>15.0</td>\n",
       "    </tr>\n",
       "    <tr>\n",
       "      <th>2016-07-05</th>\n",
       "      <td>118.0</td>\n",
       "      <td>138.0</td>\n",
       "      <td>3335.0</td>\n",
       "      <td>300.0</td>\n",
       "      <td>842.0</td>\n",
       "      <td>1.0</td>\n",
       "      <td>26.0</td>\n",
       "    </tr>\n",
       "    <tr>\n",
       "      <th>2016-07-06</th>\n",
       "      <td>138.0</td>\n",
       "      <td>145.0</td>\n",
       "      <td>3256.0</td>\n",
       "      <td>293.0</td>\n",
       "      <td>855.0</td>\n",
       "      <td>1.0</td>\n",
       "      <td>30.0</td>\n",
       "    </tr>\n",
       "    <tr>\n",
       "      <th>2016-07-08</th>\n",
       "      <td>117.0</td>\n",
       "      <td>148.0</td>\n",
       "      <td>3208.0</td>\n",
       "      <td>273.0</td>\n",
       "      <td>865.0</td>\n",
       "      <td>2.0</td>\n",
       "      <td>20.0</td>\n",
       "    </tr>\n",
       "    <tr>\n",
       "      <th>2016-07-09</th>\n",
       "      <td>102.0</td>\n",
       "      <td>138.0</td>\n",
       "      <td>2381.0</td>\n",
       "      <td>229.0</td>\n",
       "      <td>748.0</td>\n",
       "      <td>2.0</td>\n",
       "      <td>23.0</td>\n",
       "    </tr>\n",
       "    <tr>\n",
       "      <th>2016-07-10</th>\n",
       "      <td>62.0</td>\n",
       "      <td>122.0</td>\n",
       "      <td>1872.0</td>\n",
       "      <td>230.0</td>\n",
       "      <td>636.0</td>\n",
       "      <td>2.0</td>\n",
       "      <td>18.0</td>\n",
       "    </tr>\n",
       "    <tr>\n",
       "      <th>2016-07-12</th>\n",
       "      <td>138.0</td>\n",
       "      <td>157.0</td>\n",
       "      <td>3646.0</td>\n",
       "      <td>371.0</td>\n",
       "      <td>1000.0</td>\n",
       "      <td>4.0</td>\n",
       "      <td>26.0</td>\n",
       "    </tr>\n",
       "    <tr>\n",
       "      <th>2016-07-13</th>\n",
       "      <td>132.0</td>\n",
       "      <td>172.0</td>\n",
       "      <td>3544.0</td>\n",
       "      <td>334.0</td>\n",
       "      <td>988.0</td>\n",
       "      <td>1.0</td>\n",
       "      <td>35.0</td>\n",
       "    </tr>\n",
       "    <tr>\n",
       "      <th>2016-07-14</th>\n",
       "      <td>131.0</td>\n",
       "      <td>153.0</td>\n",
       "      <td>3479.0</td>\n",
       "      <td>364.0</td>\n",
       "      <td>923.0</td>\n",
       "      <td>5.0</td>\n",
       "      <td>16.0</td>\n",
       "    </tr>\n",
       "  </tbody>\n",
       "</table>\n",
       "</div>"
      ],
      "text/plain": [
       "screen      InProduct_Mob  InProduct_Web    Main  Per_Dir  Pub_Dir  \\\n",
       "datetime                                                             \n",
       "2016-07-01          137.0          147.0  3582.0    296.0   1008.0   \n",
       "2016-07-02           89.0          124.0  2683.0    206.0    801.0   \n",
       "2016-07-05          118.0          138.0  3335.0    300.0    842.0   \n",
       "2016-07-06          138.0          145.0  3256.0    293.0    855.0   \n",
       "2016-07-08          117.0          148.0  3208.0    273.0    865.0   \n",
       "2016-07-09          102.0          138.0  2381.0    229.0    748.0   \n",
       "2016-07-10           62.0          122.0  1872.0    230.0    636.0   \n",
       "2016-07-12          138.0          157.0  3646.0    371.0   1000.0   \n",
       "2016-07-13          132.0          172.0  3544.0    334.0    988.0   \n",
       "2016-07-14          131.0          153.0  3479.0    364.0    923.0   \n",
       "\n",
       "screen      Purchase_done  Purchase_page  \n",
       "datetime                                  \n",
       "2016-07-01            2.0           23.0  \n",
       "2016-07-02            2.0           15.0  \n",
       "2016-07-05            1.0           26.0  \n",
       "2016-07-06            1.0           30.0  \n",
       "2016-07-08            2.0           20.0  \n",
       "2016-07-09            2.0           23.0  \n",
       "2016-07-10            2.0           18.0  \n",
       "2016-07-12            4.0           26.0  \n",
       "2016-07-13            1.0           35.0  \n",
       "2016-07-14            5.0           16.0  "
      ]
     },
     "execution_count": 32,
     "metadata": {},
     "output_type": "execute_result"
    }
   ],
   "source": [
    "df_by_screen.dropna(how='any')[:10]"
   ]
  },
  {
   "cell_type": "code",
   "execution_count": 33,
   "metadata": {},
   "outputs": [
    {
     "data": {
      "text/html": [
       "<div>\n",
       "<style scoped>\n",
       "    .dataframe tbody tr th:only-of-type {\n",
       "        vertical-align: middle;\n",
       "    }\n",
       "\n",
       "    .dataframe tbody tr th {\n",
       "        vertical-align: top;\n",
       "    }\n",
       "\n",
       "    .dataframe thead th {\n",
       "        text-align: right;\n",
       "    }\n",
       "</style>\n",
       "<table border=\"1\" class=\"dataframe\">\n",
       "  <thead>\n",
       "    <tr style=\"text-align: right;\">\n",
       "      <th>screen</th>\n",
       "      <th>InProduct_Mob</th>\n",
       "      <th>InProduct_Web</th>\n",
       "      <th>Main</th>\n",
       "      <th>Per_Dir</th>\n",
       "      <th>Pub_Dir</th>\n",
       "      <th>Purchase_done</th>\n",
       "      <th>Purchase_page</th>\n",
       "    </tr>\n",
       "    <tr>\n",
       "      <th>datetime</th>\n",
       "      <th></th>\n",
       "      <th></th>\n",
       "      <th></th>\n",
       "      <th></th>\n",
       "      <th></th>\n",
       "      <th></th>\n",
       "      <th></th>\n",
       "    </tr>\n",
       "  </thead>\n",
       "  <tbody>\n",
       "    <tr>\n",
       "      <th>2016-07-03</th>\n",
       "      <td>50.0</td>\n",
       "      <td>83.0</td>\n",
       "      <td>1886.0</td>\n",
       "      <td>165.0</td>\n",
       "      <td>590.0</td>\n",
       "      <td>NaN</td>\n",
       "      <td>28.0</td>\n",
       "    </tr>\n",
       "    <tr>\n",
       "      <th>2016-07-04</th>\n",
       "      <td>112.0</td>\n",
       "      <td>104.0</td>\n",
       "      <td>2808.0</td>\n",
       "      <td>281.0</td>\n",
       "      <td>764.0</td>\n",
       "      <td>NaN</td>\n",
       "      <td>29.0</td>\n",
       "    </tr>\n",
       "    <tr>\n",
       "      <th>2016-07-07</th>\n",
       "      <td>110.0</td>\n",
       "      <td>117.0</td>\n",
       "      <td>3150.0</td>\n",
       "      <td>266.0</td>\n",
       "      <td>807.0</td>\n",
       "      <td>NaN</td>\n",
       "      <td>18.0</td>\n",
       "    </tr>\n",
       "    <tr>\n",
       "      <th>2016-07-11</th>\n",
       "      <td>125.0</td>\n",
       "      <td>139.0</td>\n",
       "      <td>2944.0</td>\n",
       "      <td>332.0</td>\n",
       "      <td>801.0</td>\n",
       "      <td>NaN</td>\n",
       "      <td>26.0</td>\n",
       "    </tr>\n",
       "    <tr>\n",
       "      <th>2016-07-18</th>\n",
       "      <td>133.0</td>\n",
       "      <td>162.0</td>\n",
       "      <td>2882.0</td>\n",
       "      <td>317.0</td>\n",
       "      <td>841.0</td>\n",
       "      <td>NaN</td>\n",
       "      <td>30.0</td>\n",
       "    </tr>\n",
       "    <tr>\n",
       "      <th>2016-07-19</th>\n",
       "      <td>124.0</td>\n",
       "      <td>137.0</td>\n",
       "      <td>3552.0</td>\n",
       "      <td>331.0</td>\n",
       "      <td>934.0</td>\n",
       "      <td>NaN</td>\n",
       "      <td>24.0</td>\n",
       "    </tr>\n",
       "  </tbody>\n",
       "</table>\n",
       "</div>"
      ],
      "text/plain": [
       "screen      InProduct_Mob  InProduct_Web    Main  Per_Dir  Pub_Dir  \\\n",
       "datetime                                                             \n",
       "2016-07-03           50.0           83.0  1886.0    165.0    590.0   \n",
       "2016-07-04          112.0          104.0  2808.0    281.0    764.0   \n",
       "2016-07-07          110.0          117.0  3150.0    266.0    807.0   \n",
       "2016-07-11          125.0          139.0  2944.0    332.0    801.0   \n",
       "2016-07-18          133.0          162.0  2882.0    317.0    841.0   \n",
       "2016-07-19          124.0          137.0  3552.0    331.0    934.0   \n",
       "\n",
       "screen      Purchase_done  Purchase_page  \n",
       "datetime                                  \n",
       "2016-07-03            NaN           28.0  \n",
       "2016-07-04            NaN           29.0  \n",
       "2016-07-07            NaN           18.0  \n",
       "2016-07-11            NaN           26.0  \n",
       "2016-07-18            NaN           30.0  \n",
       "2016-07-19            NaN           24.0  "
      ]
     },
     "execution_count": 33,
     "metadata": {},
     "output_type": "execute_result"
    }
   ],
   "source": [
    "# NaN이 하나라도있는 것만 추출.\n",
    "df_by_screen[df_by_screen.isnull().any(axis=1)]"
   ]
  },
  {
   "cell_type": "code",
   "execution_count": 34,
   "metadata": {},
   "outputs": [
    {
     "data": {
      "text/html": [
       "<div>\n",
       "<style scoped>\n",
       "    .dataframe tbody tr th:only-of-type {\n",
       "        vertical-align: middle;\n",
       "    }\n",
       "\n",
       "    .dataframe tbody tr th {\n",
       "        vertical-align: top;\n",
       "    }\n",
       "\n",
       "    .dataframe thead th {\n",
       "        text-align: right;\n",
       "    }\n",
       "</style>\n",
       "<table border=\"1\" class=\"dataframe\">\n",
       "  <thead>\n",
       "    <tr style=\"text-align: right;\">\n",
       "      <th>screen</th>\n",
       "      <th>InProduct_Mob</th>\n",
       "      <th>InProduct_Web</th>\n",
       "      <th>Main</th>\n",
       "      <th>Per_Dir</th>\n",
       "      <th>Pub_Dir</th>\n",
       "      <th>Purchase_done</th>\n",
       "      <th>Purchase_page</th>\n",
       "    </tr>\n",
       "    <tr>\n",
       "      <th>datetime</th>\n",
       "      <th></th>\n",
       "      <th></th>\n",
       "      <th></th>\n",
       "      <th></th>\n",
       "      <th></th>\n",
       "      <th></th>\n",
       "      <th></th>\n",
       "    </tr>\n",
       "  </thead>\n",
       "  <tbody>\n",
       "    <tr>\n",
       "      <th>2016-07-01</th>\n",
       "      <td>137.0</td>\n",
       "      <td>147.0</td>\n",
       "      <td>3582.0</td>\n",
       "      <td>296.0</td>\n",
       "      <td>1008.0</td>\n",
       "      <td>2.0</td>\n",
       "      <td>23.0</td>\n",
       "    </tr>\n",
       "    <tr>\n",
       "      <th>2016-07-02</th>\n",
       "      <td>89.0</td>\n",
       "      <td>124.0</td>\n",
       "      <td>2683.0</td>\n",
       "      <td>206.0</td>\n",
       "      <td>801.0</td>\n",
       "      <td>2.0</td>\n",
       "      <td>15.0</td>\n",
       "    </tr>\n",
       "    <tr>\n",
       "      <th>2016-07-03</th>\n",
       "      <td>50.0</td>\n",
       "      <td>83.0</td>\n",
       "      <td>1886.0</td>\n",
       "      <td>165.0</td>\n",
       "      <td>590.0</td>\n",
       "      <td>2.0</td>\n",
       "      <td>28.0</td>\n",
       "    </tr>\n",
       "    <tr>\n",
       "      <th>2016-07-04</th>\n",
       "      <td>112.0</td>\n",
       "      <td>104.0</td>\n",
       "      <td>2808.0</td>\n",
       "      <td>281.0</td>\n",
       "      <td>764.0</td>\n",
       "      <td>2.0</td>\n",
       "      <td>29.0</td>\n",
       "    </tr>\n",
       "    <tr>\n",
       "      <th>2016-07-05</th>\n",
       "      <td>118.0</td>\n",
       "      <td>138.0</td>\n",
       "      <td>3335.0</td>\n",
       "      <td>300.0</td>\n",
       "      <td>842.0</td>\n",
       "      <td>1.0</td>\n",
       "      <td>26.0</td>\n",
       "    </tr>\n",
       "    <tr>\n",
       "      <th>2016-07-06</th>\n",
       "      <td>138.0</td>\n",
       "      <td>145.0</td>\n",
       "      <td>3256.0</td>\n",
       "      <td>293.0</td>\n",
       "      <td>855.0</td>\n",
       "      <td>1.0</td>\n",
       "      <td>30.0</td>\n",
       "    </tr>\n",
       "    <tr>\n",
       "      <th>2016-07-07</th>\n",
       "      <td>110.0</td>\n",
       "      <td>117.0</td>\n",
       "      <td>3150.0</td>\n",
       "      <td>266.0</td>\n",
       "      <td>807.0</td>\n",
       "      <td>2.0</td>\n",
       "      <td>18.0</td>\n",
       "    </tr>\n",
       "    <tr>\n",
       "      <th>2016-07-08</th>\n",
       "      <td>117.0</td>\n",
       "      <td>148.0</td>\n",
       "      <td>3208.0</td>\n",
       "      <td>273.0</td>\n",
       "      <td>865.0</td>\n",
       "      <td>2.0</td>\n",
       "      <td>20.0</td>\n",
       "    </tr>\n",
       "    <tr>\n",
       "      <th>2016-07-09</th>\n",
       "      <td>102.0</td>\n",
       "      <td>138.0</td>\n",
       "      <td>2381.0</td>\n",
       "      <td>229.0</td>\n",
       "      <td>748.0</td>\n",
       "      <td>2.0</td>\n",
       "      <td>23.0</td>\n",
       "    </tr>\n",
       "    <tr>\n",
       "      <th>2016-07-10</th>\n",
       "      <td>62.0</td>\n",
       "      <td>122.0</td>\n",
       "      <td>1872.0</td>\n",
       "      <td>230.0</td>\n",
       "      <td>636.0</td>\n",
       "      <td>2.0</td>\n",
       "      <td>18.0</td>\n",
       "    </tr>\n",
       "  </tbody>\n",
       "</table>\n",
       "</div>"
      ],
      "text/plain": [
       "screen      InProduct_Mob  InProduct_Web    Main  Per_Dir  Pub_Dir  \\\n",
       "datetime                                                             \n",
       "2016-07-01          137.0          147.0  3582.0    296.0   1008.0   \n",
       "2016-07-02           89.0          124.0  2683.0    206.0    801.0   \n",
       "2016-07-03           50.0           83.0  1886.0    165.0    590.0   \n",
       "2016-07-04          112.0          104.0  2808.0    281.0    764.0   \n",
       "2016-07-05          118.0          138.0  3335.0    300.0    842.0   \n",
       "2016-07-06          138.0          145.0  3256.0    293.0    855.0   \n",
       "2016-07-07          110.0          117.0  3150.0    266.0    807.0   \n",
       "2016-07-08          117.0          148.0  3208.0    273.0    865.0   \n",
       "2016-07-09          102.0          138.0  2381.0    229.0    748.0   \n",
       "2016-07-10           62.0          122.0  1872.0    230.0    636.0   \n",
       "\n",
       "screen      Purchase_done  Purchase_page  \n",
       "datetime                                  \n",
       "2016-07-01            2.0           23.0  \n",
       "2016-07-02            2.0           15.0  \n",
       "2016-07-03            2.0           28.0  \n",
       "2016-07-04            2.0           29.0  \n",
       "2016-07-05            1.0           26.0  \n",
       "2016-07-06            1.0           30.0  \n",
       "2016-07-07            2.0           18.0  \n",
       "2016-07-08            2.0           20.0  \n",
       "2016-07-09            2.0           23.0  \n",
       "2016-07-10            2.0           18.0  "
      ]
     },
     "execution_count": 34,
     "metadata": {},
     "output_type": "execute_result"
    }
   ],
   "source": [
    "# median값으로 결측치 채우기\n",
    "df_by_screen.fillna(df_by_screen.median())[:10]"
   ]
  },
  {
   "cell_type": "markdown",
   "metadata": {},
   "source": [
    "### 2.4 결측치가 카테고리 변수인 경우\n",
    "* Option 1. 최빈치(mode)\n",
    "    * 쉽고 빠르게 이용가능하나, 낮은 적절성\n",
    "* Option 2. 예측모형으로 예측치\n",
    "    * 적절성은 비교적 높으나 별도의 모형과 계산량 필요"
   ]
  },
  {
   "cell_type": "code",
   "execution_count": 35,
   "metadata": {},
   "outputs": [],
   "source": [
    "df_ms=df.copy()  # it helps to test any code or functions\n",
    "\n",
    "# 임의로 nan값 으로 변경함.\n",
    "## ix대신 iloc, loc 사용 \n",
    "df_ms.loc[2,'documentposition']=np.nan\n",
    "df_ms.loc[5,'documentposition']=np.nan\n",
    "df_ms.loc[7,'documentposition']=np.nan\n",
    "df_ms.loc[10,'documentposition']=np.nan\n",
    "df_ms.loc[11,'documentposition']=np.nan\n",
    "df_ms.loc[15,'documentposition']=np.nan"
   ]
  },
  {
   "cell_type": "code",
   "execution_count": 36,
   "metadata": {},
   "outputs": [
    {
     "data": {
      "text/plain": [
       "nan"
      ]
     },
     "execution_count": 36,
     "metadata": {},
     "output_type": "execute_result"
    }
   ],
   "source": [
    "df_ms.loc[2,'documentposition']"
   ]
  },
  {
   "cell_type": "code",
   "execution_count": 37,
   "metadata": {},
   "outputs": [
    {
     "data": {
      "text/plain": [
       "nan"
      ]
     },
     "execution_count": 37,
     "metadata": {},
     "output_type": "execute_result"
    }
   ],
   "source": [
    "df_ms.iloc[2,4]"
   ]
  },
  {
   "cell_type": "code",
   "execution_count": 38,
   "metadata": {},
   "outputs": [
    {
     "data": {
      "text/html": [
       "<div>\n",
       "<style scoped>\n",
       "    .dataframe tbody tr th:only-of-type {\n",
       "        vertical-align: middle;\n",
       "    }\n",
       "\n",
       "    .dataframe tbody tr th {\n",
       "        vertical-align: top;\n",
       "    }\n",
       "\n",
       "    .dataframe thead th {\n",
       "        text-align: right;\n",
       "    }\n",
       "</style>\n",
       "<table border=\"1\" class=\"dataframe\">\n",
       "  <thead>\n",
       "    <tr style=\"text-align: right;\">\n",
       "      <th></th>\n",
       "      <th>actiontype</th>\n",
       "      <th>ismydoc</th>\n",
       "      <th>ext</th>\n",
       "      <th>sessionid</th>\n",
       "      <th>documentposition</th>\n",
       "      <th>datetime</th>\n",
       "      <th>screen</th>\n",
       "    </tr>\n",
       "  </thead>\n",
       "  <tbody>\n",
       "    <tr>\n",
       "      <th>0</th>\n",
       "      <td>OPEN</td>\n",
       "      <td>NoView</td>\n",
       "      <td>PDF</td>\n",
       "      <td>9400fd2e43d7dc2d054ca78806236ee1</td>\n",
       "      <td>LOCALSTORAGE</td>\n",
       "      <td>2016-07-18</td>\n",
       "      <td>Per_Dir</td>\n",
       "    </tr>\n",
       "    <tr>\n",
       "      <th>1</th>\n",
       "      <td>CLOSE</td>\n",
       "      <td>NoView</td>\n",
       "      <td>PDF</td>\n",
       "      <td>9400fd2e43d7dc2d054ca78806236ee1</td>\n",
       "      <td>LOCALSTORAGE</td>\n",
       "      <td>2016-07-18</td>\n",
       "      <td>Per_Dir</td>\n",
       "    </tr>\n",
       "    <tr>\n",
       "      <th>2</th>\n",
       "      <td>OPEN</td>\n",
       "      <td>View</td>\n",
       "      <td>PDF</td>\n",
       "      <td>9400fd2e43d7dc2d054ca78806236ee1</td>\n",
       "      <td>NaN</td>\n",
       "      <td>2016-07-18</td>\n",
       "      <td>Pub_Dir</td>\n",
       "    </tr>\n",
       "    <tr>\n",
       "      <th>3</th>\n",
       "      <td>CLOSE</td>\n",
       "      <td>View</td>\n",
       "      <td>PDF</td>\n",
       "      <td>9400fd2e43d7dc2d054ca78806236ee1</td>\n",
       "      <td>MYPOLARISDRIVE</td>\n",
       "      <td>2016-07-18</td>\n",
       "      <td>Pub_Dir</td>\n",
       "    </tr>\n",
       "    <tr>\n",
       "      <th>4</th>\n",
       "      <td>OPEN</td>\n",
       "      <td>NoView</td>\n",
       "      <td>PDF</td>\n",
       "      <td>f191063c562691041dfa935ff0876975</td>\n",
       "      <td>OTHERAPP</td>\n",
       "      <td>2016-07-06</td>\n",
       "      <td>Main</td>\n",
       "    </tr>\n",
       "    <tr>\n",
       "      <th>5</th>\n",
       "      <td>RESET</td>\n",
       "      <td>View</td>\n",
       "      <td>PDF</td>\n",
       "      <td>f191063c562691041dfa935ff0876975</td>\n",
       "      <td>NaN</td>\n",
       "      <td>2016-07-06</td>\n",
       "      <td>Main</td>\n",
       "    </tr>\n",
       "    <tr>\n",
       "      <th>6</th>\n",
       "      <td>CLOSE</td>\n",
       "      <td>NoView</td>\n",
       "      <td>PDF</td>\n",
       "      <td>3747719d8f6bdd334703320433928d5a</td>\n",
       "      <td>OTHERAPP</td>\n",
       "      <td>2016-07-20</td>\n",
       "      <td>Main</td>\n",
       "    </tr>\n",
       "    <tr>\n",
       "      <th>7</th>\n",
       "      <td>OPEN</td>\n",
       "      <td>NoView</td>\n",
       "      <td>PDF</td>\n",
       "      <td>3747719d8f6bdd334703320433928d5a</td>\n",
       "      <td>NaN</td>\n",
       "      <td>2016-07-20</td>\n",
       "      <td>Main</td>\n",
       "    </tr>\n",
       "    <tr>\n",
       "      <th>8</th>\n",
       "      <td>OPEN</td>\n",
       "      <td>NoView</td>\n",
       "      <td>PDF</td>\n",
       "      <td>3da5ab986c93803de1e25012d9972274</td>\n",
       "      <td>OTHERAPP</td>\n",
       "      <td>2016-07-28</td>\n",
       "      <td>Main</td>\n",
       "    </tr>\n",
       "    <tr>\n",
       "      <th>9</th>\n",
       "      <td>CLOSE</td>\n",
       "      <td>NoView</td>\n",
       "      <td>PDF</td>\n",
       "      <td>3da5ab986c93803de1e25012d9972274</td>\n",
       "      <td>OTHERAPP</td>\n",
       "      <td>2016-07-28</td>\n",
       "      <td>Main</td>\n",
       "    </tr>\n",
       "  </tbody>\n",
       "</table>\n",
       "</div>"
      ],
      "text/plain": [
       "  actiontype ismydoc  ext                         sessionid documentposition  \\\n",
       "0       OPEN  NoView  PDF  9400fd2e43d7dc2d054ca78806236ee1     LOCALSTORAGE   \n",
       "1      CLOSE  NoView  PDF  9400fd2e43d7dc2d054ca78806236ee1     LOCALSTORAGE   \n",
       "2       OPEN    View  PDF  9400fd2e43d7dc2d054ca78806236ee1              NaN   \n",
       "3      CLOSE    View  PDF  9400fd2e43d7dc2d054ca78806236ee1   MYPOLARISDRIVE   \n",
       "4       OPEN  NoView  PDF  f191063c562691041dfa935ff0876975         OTHERAPP   \n",
       "5      RESET    View  PDF  f191063c562691041dfa935ff0876975              NaN   \n",
       "6      CLOSE  NoView  PDF  3747719d8f6bdd334703320433928d5a         OTHERAPP   \n",
       "7       OPEN  NoView  PDF  3747719d8f6bdd334703320433928d5a              NaN   \n",
       "8       OPEN  NoView  PDF  3da5ab986c93803de1e25012d9972274         OTHERAPP   \n",
       "9      CLOSE  NoView  PDF  3da5ab986c93803de1e25012d9972274         OTHERAPP   \n",
       "\n",
       "    datetime   screen  \n",
       "0 2016-07-18  Per_Dir  \n",
       "1 2016-07-18  Per_Dir  \n",
       "2 2016-07-18  Pub_Dir  \n",
       "3 2016-07-18  Pub_Dir  \n",
       "4 2016-07-06     Main  \n",
       "5 2016-07-06     Main  \n",
       "6 2016-07-20     Main  \n",
       "7 2016-07-20     Main  \n",
       "8 2016-07-28     Main  \n",
       "9 2016-07-28     Main  "
      ]
     },
     "execution_count": 38,
     "metadata": {},
     "output_type": "execute_result"
    }
   ],
   "source": [
    "df_ms.head(10)"
   ]
  },
  {
   "cell_type": "code",
   "execution_count": 39,
   "metadata": {},
   "outputs": [
    {
     "data": {
      "text/plain": [
       "OTHERAPP          213775\n",
       "MYPOLARISDRIVE     55518\n",
       "LOCALSTORAGE       18922\n",
       "NEWDOCUMENT         7612\n",
       "NONE                4335\n",
       "OTHERCLOUD          1617\n",
       "SHAREDDOCUMENT        76\n",
       "Name: documentposition, dtype: int64"
      ]
     },
     "execution_count": 39,
     "metadata": {},
     "output_type": "execute_result"
    }
   ],
   "source": [
    "df_ms.documentposition.value_counts()"
   ]
  },
  {
   "cell_type": "code",
   "execution_count": 40,
   "metadata": {},
   "outputs": [
    {
     "data": {
      "text/plain": [
       "'OTHERAPP'"
      ]
     },
     "execution_count": 40,
     "metadata": {},
     "output_type": "execute_result"
    }
   ],
   "source": [
    "# 가장 많이 나온값 \n",
    "freq_values=df_ms.documentposition.value_counts().index[0]\n",
    "freq_values"
   ]
  },
  {
   "cell_type": "code",
   "execution_count": 41,
   "metadata": {},
   "outputs": [],
   "source": [
    "df_ms['documentposition']=df_ms['documentposition'].fillna(freq_values)"
   ]
  },
  {
   "cell_type": "code",
   "execution_count": 42,
   "metadata": {},
   "outputs": [
    {
     "data": {
      "text/html": [
       "<div>\n",
       "<style scoped>\n",
       "    .dataframe tbody tr th:only-of-type {\n",
       "        vertical-align: middle;\n",
       "    }\n",
       "\n",
       "    .dataframe tbody tr th {\n",
       "        vertical-align: top;\n",
       "    }\n",
       "\n",
       "    .dataframe thead th {\n",
       "        text-align: right;\n",
       "    }\n",
       "</style>\n",
       "<table border=\"1\" class=\"dataframe\">\n",
       "  <thead>\n",
       "    <tr style=\"text-align: right;\">\n",
       "      <th></th>\n",
       "      <th>actiontype</th>\n",
       "      <th>ismydoc</th>\n",
       "      <th>ext</th>\n",
       "      <th>sessionid</th>\n",
       "      <th>documentposition</th>\n",
       "      <th>datetime</th>\n",
       "      <th>screen</th>\n",
       "    </tr>\n",
       "  </thead>\n",
       "  <tbody>\n",
       "    <tr>\n",
       "      <th>0</th>\n",
       "      <td>OPEN</td>\n",
       "      <td>NoView</td>\n",
       "      <td>PDF</td>\n",
       "      <td>9400fd2e43d7dc2d054ca78806236ee1</td>\n",
       "      <td>LOCALSTORAGE</td>\n",
       "      <td>2016-07-18</td>\n",
       "      <td>Per_Dir</td>\n",
       "    </tr>\n",
       "    <tr>\n",
       "      <th>1</th>\n",
       "      <td>CLOSE</td>\n",
       "      <td>NoView</td>\n",
       "      <td>PDF</td>\n",
       "      <td>9400fd2e43d7dc2d054ca78806236ee1</td>\n",
       "      <td>LOCALSTORAGE</td>\n",
       "      <td>2016-07-18</td>\n",
       "      <td>Per_Dir</td>\n",
       "    </tr>\n",
       "    <tr>\n",
       "      <th>2</th>\n",
       "      <td>OPEN</td>\n",
       "      <td>View</td>\n",
       "      <td>PDF</td>\n",
       "      <td>9400fd2e43d7dc2d054ca78806236ee1</td>\n",
       "      <td>OTHERAPP</td>\n",
       "      <td>2016-07-18</td>\n",
       "      <td>Pub_Dir</td>\n",
       "    </tr>\n",
       "    <tr>\n",
       "      <th>3</th>\n",
       "      <td>CLOSE</td>\n",
       "      <td>View</td>\n",
       "      <td>PDF</td>\n",
       "      <td>9400fd2e43d7dc2d054ca78806236ee1</td>\n",
       "      <td>MYPOLARISDRIVE</td>\n",
       "      <td>2016-07-18</td>\n",
       "      <td>Pub_Dir</td>\n",
       "    </tr>\n",
       "    <tr>\n",
       "      <th>4</th>\n",
       "      <td>OPEN</td>\n",
       "      <td>NoView</td>\n",
       "      <td>PDF</td>\n",
       "      <td>f191063c562691041dfa935ff0876975</td>\n",
       "      <td>OTHERAPP</td>\n",
       "      <td>2016-07-06</td>\n",
       "      <td>Main</td>\n",
       "    </tr>\n",
       "    <tr>\n",
       "      <th>5</th>\n",
       "      <td>RESET</td>\n",
       "      <td>View</td>\n",
       "      <td>PDF</td>\n",
       "      <td>f191063c562691041dfa935ff0876975</td>\n",
       "      <td>OTHERAPP</td>\n",
       "      <td>2016-07-06</td>\n",
       "      <td>Main</td>\n",
       "    </tr>\n",
       "    <tr>\n",
       "      <th>6</th>\n",
       "      <td>CLOSE</td>\n",
       "      <td>NoView</td>\n",
       "      <td>PDF</td>\n",
       "      <td>3747719d8f6bdd334703320433928d5a</td>\n",
       "      <td>OTHERAPP</td>\n",
       "      <td>2016-07-20</td>\n",
       "      <td>Main</td>\n",
       "    </tr>\n",
       "    <tr>\n",
       "      <th>7</th>\n",
       "      <td>OPEN</td>\n",
       "      <td>NoView</td>\n",
       "      <td>PDF</td>\n",
       "      <td>3747719d8f6bdd334703320433928d5a</td>\n",
       "      <td>OTHERAPP</td>\n",
       "      <td>2016-07-20</td>\n",
       "      <td>Main</td>\n",
       "    </tr>\n",
       "    <tr>\n",
       "      <th>8</th>\n",
       "      <td>OPEN</td>\n",
       "      <td>NoView</td>\n",
       "      <td>PDF</td>\n",
       "      <td>3da5ab986c93803de1e25012d9972274</td>\n",
       "      <td>OTHERAPP</td>\n",
       "      <td>2016-07-28</td>\n",
       "      <td>Main</td>\n",
       "    </tr>\n",
       "    <tr>\n",
       "      <th>9</th>\n",
       "      <td>CLOSE</td>\n",
       "      <td>NoView</td>\n",
       "      <td>PDF</td>\n",
       "      <td>3da5ab986c93803de1e25012d9972274</td>\n",
       "      <td>OTHERAPP</td>\n",
       "      <td>2016-07-28</td>\n",
       "      <td>Main</td>\n",
       "    </tr>\n",
       "  </tbody>\n",
       "</table>\n",
       "</div>"
      ],
      "text/plain": [
       "  actiontype ismydoc  ext                         sessionid documentposition  \\\n",
       "0       OPEN  NoView  PDF  9400fd2e43d7dc2d054ca78806236ee1     LOCALSTORAGE   \n",
       "1      CLOSE  NoView  PDF  9400fd2e43d7dc2d054ca78806236ee1     LOCALSTORAGE   \n",
       "2       OPEN    View  PDF  9400fd2e43d7dc2d054ca78806236ee1         OTHERAPP   \n",
       "3      CLOSE    View  PDF  9400fd2e43d7dc2d054ca78806236ee1   MYPOLARISDRIVE   \n",
       "4       OPEN  NoView  PDF  f191063c562691041dfa935ff0876975         OTHERAPP   \n",
       "5      RESET    View  PDF  f191063c562691041dfa935ff0876975         OTHERAPP   \n",
       "6      CLOSE  NoView  PDF  3747719d8f6bdd334703320433928d5a         OTHERAPP   \n",
       "7       OPEN  NoView  PDF  3747719d8f6bdd334703320433928d5a         OTHERAPP   \n",
       "8       OPEN  NoView  PDF  3da5ab986c93803de1e25012d9972274         OTHERAPP   \n",
       "9      CLOSE  NoView  PDF  3da5ab986c93803de1e25012d9972274         OTHERAPP   \n",
       "\n",
       "    datetime   screen  \n",
       "0 2016-07-18  Per_Dir  \n",
       "1 2016-07-18  Per_Dir  \n",
       "2 2016-07-18  Pub_Dir  \n",
       "3 2016-07-18  Pub_Dir  \n",
       "4 2016-07-06     Main  \n",
       "5 2016-07-06     Main  \n",
       "6 2016-07-20     Main  \n",
       "7 2016-07-20     Main  \n",
       "8 2016-07-28     Main  \n",
       "9 2016-07-28     Main  "
      ]
     },
     "execution_count": 42,
     "metadata": {},
     "output_type": "execute_result"
    }
   ],
   "source": [
    "df_ms.head(10)"
   ]
  },
  {
   "cell_type": "markdown",
   "metadata": {},
   "source": [
    "**이번에는 머신러닝 모델로 null값을 채워보자**"
   ]
  },
  {
   "cell_type": "code",
   "execution_count": 115,
   "metadata": {},
   "outputs": [
    {
     "data": {
      "text/html": [
       "<div>\n",
       "<style scoped>\n",
       "    .dataframe tbody tr th:only-of-type {\n",
       "        vertical-align: middle;\n",
       "    }\n",
       "\n",
       "    .dataframe tbody tr th {\n",
       "        vertical-align: top;\n",
       "    }\n",
       "\n",
       "    .dataframe thead th {\n",
       "        text-align: right;\n",
       "    }\n",
       "</style>\n",
       "<table border=\"1\" class=\"dataframe\">\n",
       "  <thead>\n",
       "    <tr style=\"text-align: right;\">\n",
       "      <th></th>\n",
       "      <th>actiontype</th>\n",
       "      <th>ismydoc</th>\n",
       "      <th>ext</th>\n",
       "      <th>sessionid</th>\n",
       "      <th>documentposition</th>\n",
       "      <th>datetime</th>\n",
       "      <th>screen</th>\n",
       "    </tr>\n",
       "  </thead>\n",
       "  <tbody>\n",
       "    <tr>\n",
       "      <th>0</th>\n",
       "      <td>OPEN</td>\n",
       "      <td>NoView</td>\n",
       "      <td>PDF</td>\n",
       "      <td>9400fd2e43d7dc2d054ca78806236ee1</td>\n",
       "      <td>LOCALSTORAGE</td>\n",
       "      <td>2016-07-18</td>\n",
       "      <td>Per_Dir</td>\n",
       "    </tr>\n",
       "    <tr>\n",
       "      <th>1</th>\n",
       "      <td>CLOSE</td>\n",
       "      <td>NoView</td>\n",
       "      <td>PDF</td>\n",
       "      <td>9400fd2e43d7dc2d054ca78806236ee1</td>\n",
       "      <td>LOCALSTORAGE</td>\n",
       "      <td>2016-07-18</td>\n",
       "      <td>Per_Dir</td>\n",
       "    </tr>\n",
       "    <tr>\n",
       "      <th>2</th>\n",
       "      <td>OPEN</td>\n",
       "      <td>View</td>\n",
       "      <td>PDF</td>\n",
       "      <td>9400fd2e43d7dc2d054ca78806236ee1</td>\n",
       "      <td>NaN</td>\n",
       "      <td>2016-07-18</td>\n",
       "      <td>Pub_Dir</td>\n",
       "    </tr>\n",
       "    <tr>\n",
       "      <th>3</th>\n",
       "      <td>CLOSE</td>\n",
       "      <td>View</td>\n",
       "      <td>PDF</td>\n",
       "      <td>9400fd2e43d7dc2d054ca78806236ee1</td>\n",
       "      <td>MYPOLARISDRIVE</td>\n",
       "      <td>2016-07-18</td>\n",
       "      <td>Pub_Dir</td>\n",
       "    </tr>\n",
       "    <tr>\n",
       "      <th>4</th>\n",
       "      <td>OPEN</td>\n",
       "      <td>NoView</td>\n",
       "      <td>PDF</td>\n",
       "      <td>f191063c562691041dfa935ff0876975</td>\n",
       "      <td>OTHERAPP</td>\n",
       "      <td>2016-07-06</td>\n",
       "      <td>Main</td>\n",
       "    </tr>\n",
       "    <tr>\n",
       "      <th>5</th>\n",
       "      <td>RESET</td>\n",
       "      <td>View</td>\n",
       "      <td>PDF</td>\n",
       "      <td>f191063c562691041dfa935ff0876975</td>\n",
       "      <td>NaN</td>\n",
       "      <td>2016-07-06</td>\n",
       "      <td>Main</td>\n",
       "    </tr>\n",
       "    <tr>\n",
       "      <th>6</th>\n",
       "      <td>CLOSE</td>\n",
       "      <td>NoView</td>\n",
       "      <td>PDF</td>\n",
       "      <td>3747719d8f6bdd334703320433928d5a</td>\n",
       "      <td>OTHERAPP</td>\n",
       "      <td>2016-07-20</td>\n",
       "      <td>Main</td>\n",
       "    </tr>\n",
       "    <tr>\n",
       "      <th>7</th>\n",
       "      <td>OPEN</td>\n",
       "      <td>NoView</td>\n",
       "      <td>PDF</td>\n",
       "      <td>3747719d8f6bdd334703320433928d5a</td>\n",
       "      <td>NaN</td>\n",
       "      <td>2016-07-20</td>\n",
       "      <td>Main</td>\n",
       "    </tr>\n",
       "    <tr>\n",
       "      <th>8</th>\n",
       "      <td>OPEN</td>\n",
       "      <td>NoView</td>\n",
       "      <td>PDF</td>\n",
       "      <td>3da5ab986c93803de1e25012d9972274</td>\n",
       "      <td>OTHERAPP</td>\n",
       "      <td>2016-07-28</td>\n",
       "      <td>Main</td>\n",
       "    </tr>\n",
       "    <tr>\n",
       "      <th>9</th>\n",
       "      <td>CLOSE</td>\n",
       "      <td>NoView</td>\n",
       "      <td>PDF</td>\n",
       "      <td>3da5ab986c93803de1e25012d9972274</td>\n",
       "      <td>OTHERAPP</td>\n",
       "      <td>2016-07-28</td>\n",
       "      <td>Main</td>\n",
       "    </tr>\n",
       "  </tbody>\n",
       "</table>\n",
       "</div>"
      ],
      "text/plain": [
       "  actiontype ismydoc  ext                         sessionid documentposition  \\\n",
       "0       OPEN  NoView  PDF  9400fd2e43d7dc2d054ca78806236ee1     LOCALSTORAGE   \n",
       "1      CLOSE  NoView  PDF  9400fd2e43d7dc2d054ca78806236ee1     LOCALSTORAGE   \n",
       "2       OPEN    View  PDF  9400fd2e43d7dc2d054ca78806236ee1              NaN   \n",
       "3      CLOSE    View  PDF  9400fd2e43d7dc2d054ca78806236ee1   MYPOLARISDRIVE   \n",
       "4       OPEN  NoView  PDF  f191063c562691041dfa935ff0876975         OTHERAPP   \n",
       "5      RESET    View  PDF  f191063c562691041dfa935ff0876975              NaN   \n",
       "6      CLOSE  NoView  PDF  3747719d8f6bdd334703320433928d5a         OTHERAPP   \n",
       "7       OPEN  NoView  PDF  3747719d8f6bdd334703320433928d5a              NaN   \n",
       "8       OPEN  NoView  PDF  3da5ab986c93803de1e25012d9972274         OTHERAPP   \n",
       "9      CLOSE  NoView  PDF  3da5ab986c93803de1e25012d9972274         OTHERAPP   \n",
       "\n",
       "    datetime   screen  \n",
       "0 2016-07-18  Per_Dir  \n",
       "1 2016-07-18  Per_Dir  \n",
       "2 2016-07-18  Pub_Dir  \n",
       "3 2016-07-18  Pub_Dir  \n",
       "4 2016-07-06     Main  \n",
       "5 2016-07-06     Main  \n",
       "6 2016-07-20     Main  \n",
       "7 2016-07-20     Main  \n",
       "8 2016-07-28     Main  \n",
       "9 2016-07-28     Main  "
      ]
     },
     "execution_count": 115,
     "metadata": {},
     "output_type": "execute_result"
    }
   ],
   "source": [
    "df_ms.loc[2,'documentposition']=np.nan\n",
    "df_ms.loc[5,'documentposition']=np.nan\n",
    "df_ms.loc[7,'documentposition']=np.nan\n",
    "df_ms.loc[10,'documentposition']=np.nan\n",
    "df_ms.loc[11,'documentposition']=np.nan\n",
    "df_ms.loc[15,'documentposition']=np.nan\n",
    "df_ms.head(10)"
   ]
  },
  {
   "cell_type": "code",
   "execution_count": 116,
   "metadata": {},
   "outputs": [],
   "source": [
    "# fill na using predictive model\n",
    "from sklearn.model_selection import train_test_split\n",
    "from sklearn.metrics import confusion_matrix\n",
    "\n",
    "# train데이터는 na값 없는것으로 훈련\n",
    "df_ms1=df_ms.dropna()\n",
    "\n",
    "# 독립변수 세팅\n",
    "ind_cols=['actiontype','ismydoc','ext','screen']\n",
    "\n",
    "# split ind, tar\n",
    "## X,y 모두 na값은 없는상태\n",
    "X=df_ms1[ind_cols]\n",
    "y=df_ms1[['documentposition']]"
   ]
  },
  {
   "cell_type": "code",
   "execution_count": 117,
   "metadata": {},
   "outputs": [
    {
     "data": {
      "text/html": [
       "<div>\n",
       "<style scoped>\n",
       "    .dataframe tbody tr th:only-of-type {\n",
       "        vertical-align: middle;\n",
       "    }\n",
       "\n",
       "    .dataframe tbody tr th {\n",
       "        vertical-align: top;\n",
       "    }\n",
       "\n",
       "    .dataframe thead th {\n",
       "        text-align: right;\n",
       "    }\n",
       "</style>\n",
       "<table border=\"1\" class=\"dataframe\">\n",
       "  <thead>\n",
       "    <tr style=\"text-align: right;\">\n",
       "      <th></th>\n",
       "      <th>actiontype</th>\n",
       "      <th>ismydoc</th>\n",
       "      <th>ext</th>\n",
       "      <th>screen</th>\n",
       "    </tr>\n",
       "  </thead>\n",
       "  <tbody>\n",
       "    <tr>\n",
       "      <th>0</th>\n",
       "      <td>OPEN</td>\n",
       "      <td>NoView</td>\n",
       "      <td>PDF</td>\n",
       "      <td>Per_Dir</td>\n",
       "    </tr>\n",
       "    <tr>\n",
       "      <th>1</th>\n",
       "      <td>CLOSE</td>\n",
       "      <td>NoView</td>\n",
       "      <td>PDF</td>\n",
       "      <td>Per_Dir</td>\n",
       "    </tr>\n",
       "    <tr>\n",
       "      <th>3</th>\n",
       "      <td>CLOSE</td>\n",
       "      <td>View</td>\n",
       "      <td>PDF</td>\n",
       "      <td>Pub_Dir</td>\n",
       "    </tr>\n",
       "    <tr>\n",
       "      <th>4</th>\n",
       "      <td>OPEN</td>\n",
       "      <td>NoView</td>\n",
       "      <td>PDF</td>\n",
       "      <td>Main</td>\n",
       "    </tr>\n",
       "    <tr>\n",
       "      <th>6</th>\n",
       "      <td>CLOSE</td>\n",
       "      <td>NoView</td>\n",
       "      <td>PDF</td>\n",
       "      <td>Main</td>\n",
       "    </tr>\n",
       "    <tr>\n",
       "      <th>8</th>\n",
       "      <td>OPEN</td>\n",
       "      <td>NoView</td>\n",
       "      <td>PDF</td>\n",
       "      <td>Main</td>\n",
       "    </tr>\n",
       "    <tr>\n",
       "      <th>9</th>\n",
       "      <td>CLOSE</td>\n",
       "      <td>NoView</td>\n",
       "      <td>PDF</td>\n",
       "      <td>Main</td>\n",
       "    </tr>\n",
       "    <tr>\n",
       "      <th>12</th>\n",
       "      <td>CLOSE</td>\n",
       "      <td>NoView</td>\n",
       "      <td>PDF</td>\n",
       "      <td>Main</td>\n",
       "    </tr>\n",
       "    <tr>\n",
       "      <th>13</th>\n",
       "      <td>RESET</td>\n",
       "      <td>View</td>\n",
       "      <td>PDF</td>\n",
       "      <td>Main</td>\n",
       "    </tr>\n",
       "    <tr>\n",
       "      <th>14</th>\n",
       "      <td>OPEN</td>\n",
       "      <td>View</td>\n",
       "      <td>PDF</td>\n",
       "      <td>Pub_Dir</td>\n",
       "    </tr>\n",
       "  </tbody>\n",
       "</table>\n",
       "</div>"
      ],
      "text/plain": [
       "   actiontype ismydoc  ext   screen\n",
       "0        OPEN  NoView  PDF  Per_Dir\n",
       "1       CLOSE  NoView  PDF  Per_Dir\n",
       "3       CLOSE    View  PDF  Pub_Dir\n",
       "4        OPEN  NoView  PDF     Main\n",
       "6       CLOSE  NoView  PDF     Main\n",
       "8        OPEN  NoView  PDF     Main\n",
       "9       CLOSE  NoView  PDF     Main\n",
       "12      CLOSE  NoView  PDF     Main\n",
       "13      RESET    View  PDF     Main\n",
       "14       OPEN    View  PDF  Pub_Dir"
      ]
     },
     "execution_count": 117,
     "metadata": {},
     "output_type": "execute_result"
    }
   ],
   "source": [
    "X.head(10)"
   ]
  },
  {
   "cell_type": "code",
   "execution_count": 118,
   "metadata": {
    "scrolled": true
   },
   "outputs": [
    {
     "data": {
      "text/html": [
       "<div>\n",
       "<style scoped>\n",
       "    .dataframe tbody tr th:only-of-type {\n",
       "        vertical-align: middle;\n",
       "    }\n",
       "\n",
       "    .dataframe tbody tr th {\n",
       "        vertical-align: top;\n",
       "    }\n",
       "\n",
       "    .dataframe thead th {\n",
       "        text-align: right;\n",
       "    }\n",
       "</style>\n",
       "<table border=\"1\" class=\"dataframe\">\n",
       "  <thead>\n",
       "    <tr style=\"text-align: right;\">\n",
       "      <th></th>\n",
       "      <th>documentposition</th>\n",
       "    </tr>\n",
       "  </thead>\n",
       "  <tbody>\n",
       "    <tr>\n",
       "      <th>0</th>\n",
       "      <td>LOCALSTORAGE</td>\n",
       "    </tr>\n",
       "    <tr>\n",
       "      <th>1</th>\n",
       "      <td>LOCALSTORAGE</td>\n",
       "    </tr>\n",
       "    <tr>\n",
       "      <th>3</th>\n",
       "      <td>MYPOLARISDRIVE</td>\n",
       "    </tr>\n",
       "    <tr>\n",
       "      <th>4</th>\n",
       "      <td>OTHERAPP</td>\n",
       "    </tr>\n",
       "    <tr>\n",
       "      <th>6</th>\n",
       "      <td>OTHERAPP</td>\n",
       "    </tr>\n",
       "    <tr>\n",
       "      <th>8</th>\n",
       "      <td>OTHERAPP</td>\n",
       "    </tr>\n",
       "    <tr>\n",
       "      <th>9</th>\n",
       "      <td>OTHERAPP</td>\n",
       "    </tr>\n",
       "    <tr>\n",
       "      <th>12</th>\n",
       "      <td>OTHERAPP</td>\n",
       "    </tr>\n",
       "    <tr>\n",
       "      <th>13</th>\n",
       "      <td>OTHERAPP</td>\n",
       "    </tr>\n",
       "    <tr>\n",
       "      <th>14</th>\n",
       "      <td>MYPOLARISDRIVE</td>\n",
       "    </tr>\n",
       "  </tbody>\n",
       "</table>\n",
       "</div>"
      ],
      "text/plain": [
       "   documentposition\n",
       "0      LOCALSTORAGE\n",
       "1      LOCALSTORAGE\n",
       "3    MYPOLARISDRIVE\n",
       "4          OTHERAPP\n",
       "6          OTHERAPP\n",
       "8          OTHERAPP\n",
       "9          OTHERAPP\n",
       "12         OTHERAPP\n",
       "13         OTHERAPP\n",
       "14   MYPOLARISDRIVE"
      ]
     },
     "execution_count": 118,
     "metadata": {},
     "output_type": "execute_result"
    }
   ],
   "source": [
    "y[:10]"
   ]
  },
  {
   "cell_type": "markdown",
   "metadata": {},
   "source": [
    "* LabelEncoder로 범주형을 숫자로 변경\n",
    "    * 하는 이유 :\n",
    "        기본적으로 사이킷런의 머신러닝 알고리즘은 문자열 값을 입력 값으로 허락하지 않는다. <br>\n",
    "        그렇기 때문에 모든 문자열 값들을 숫자 형으로 인코딩하는 전처리 작업 후에 머신러닝 모델에 학습을 시켜야한다.\n",
    "    * LabelEncoder문제점\n",
    "        * 일괄적인 숫자 값으로 변환되면서 예측 성능이 떨어질 수 있다.<br>\n",
    "            숫자의 크고 작음에 대한 특성이 작용\n",
    "        * 선형 회귀와 같은 ML 알고리즘에는 적용하지 않아야 함 (트리 계열의 ML알고리즘은 숫자의 이러한 특성을 반영하지 않으므로 괜찮음)\n"
   ]
  },
  {
   "cell_type": "code",
   "execution_count": 119,
   "metadata": {},
   "outputs": [],
   "source": [
    "from sklearn.preprocessing import LabelEncoder\n",
    "# 이름으로 되어있는 것을 숫자로 혹은 그 반대로 변환하는 것\n",
    "encoder=LabelEncoder()\n",
    "\n",
    "X=X.apply(lambda x: encoder.fit_transform(x))\n",
    "y=y.apply(lambda x: encoder.fit_transform(y))"
   ]
  },
  {
   "cell_type": "code",
   "execution_count": 120,
   "metadata": {},
   "outputs": [
    {
     "data": {
      "text/html": [
       "<div>\n",
       "<style scoped>\n",
       "    .dataframe tbody tr th:only-of-type {\n",
       "        vertical-align: middle;\n",
       "    }\n",
       "\n",
       "    .dataframe tbody tr th {\n",
       "        vertical-align: top;\n",
       "    }\n",
       "\n",
       "    .dataframe thead th {\n",
       "        text-align: right;\n",
       "    }\n",
       "</style>\n",
       "<table border=\"1\" class=\"dataframe\">\n",
       "  <thead>\n",
       "    <tr style=\"text-align: right;\">\n",
       "      <th></th>\n",
       "      <th>actiontype</th>\n",
       "      <th>ismydoc</th>\n",
       "      <th>ext</th>\n",
       "      <th>screen</th>\n",
       "    </tr>\n",
       "  </thead>\n",
       "  <tbody>\n",
       "    <tr>\n",
       "      <th>0</th>\n",
       "      <td>3</td>\n",
       "      <td>0</td>\n",
       "      <td>5</td>\n",
       "      <td>3</td>\n",
       "    </tr>\n",
       "    <tr>\n",
       "      <th>1</th>\n",
       "      <td>0</td>\n",
       "      <td>0</td>\n",
       "      <td>5</td>\n",
       "      <td>3</td>\n",
       "    </tr>\n",
       "    <tr>\n",
       "      <th>3</th>\n",
       "      <td>0</td>\n",
       "      <td>1</td>\n",
       "      <td>5</td>\n",
       "      <td>4</td>\n",
       "    </tr>\n",
       "    <tr>\n",
       "      <th>4</th>\n",
       "      <td>3</td>\n",
       "      <td>0</td>\n",
       "      <td>5</td>\n",
       "      <td>2</td>\n",
       "    </tr>\n",
       "    <tr>\n",
       "      <th>6</th>\n",
       "      <td>0</td>\n",
       "      <td>0</td>\n",
       "      <td>5</td>\n",
       "      <td>2</td>\n",
       "    </tr>\n",
       "    <tr>\n",
       "      <th>8</th>\n",
       "      <td>3</td>\n",
       "      <td>0</td>\n",
       "      <td>5</td>\n",
       "      <td>2</td>\n",
       "    </tr>\n",
       "    <tr>\n",
       "      <th>9</th>\n",
       "      <td>0</td>\n",
       "      <td>0</td>\n",
       "      <td>5</td>\n",
       "      <td>2</td>\n",
       "    </tr>\n",
       "    <tr>\n",
       "      <th>12</th>\n",
       "      <td>0</td>\n",
       "      <td>0</td>\n",
       "      <td>5</td>\n",
       "      <td>2</td>\n",
       "    </tr>\n",
       "    <tr>\n",
       "      <th>13</th>\n",
       "      <td>4</td>\n",
       "      <td>1</td>\n",
       "      <td>5</td>\n",
       "      <td>2</td>\n",
       "    </tr>\n",
       "    <tr>\n",
       "      <th>14</th>\n",
       "      <td>3</td>\n",
       "      <td>1</td>\n",
       "      <td>5</td>\n",
       "      <td>4</td>\n",
       "    </tr>\n",
       "  </tbody>\n",
       "</table>\n",
       "</div>"
      ],
      "text/plain": [
       "    actiontype  ismydoc  ext  screen\n",
       "0            3        0    5       3\n",
       "1            0        0    5       3\n",
       "3            0        1    5       4\n",
       "4            3        0    5       2\n",
       "6            0        0    5       2\n",
       "8            3        0    5       2\n",
       "9            0        0    5       2\n",
       "12           0        0    5       2\n",
       "13           4        1    5       2\n",
       "14           3        1    5       4"
      ]
     },
     "execution_count": 120,
     "metadata": {},
     "output_type": "execute_result"
    }
   ],
   "source": [
    "X.head(10)"
   ]
  },
  {
   "cell_type": "code",
   "execution_count": 121,
   "metadata": {},
   "outputs": [
    {
     "data": {
      "text/html": [
       "<div>\n",
       "<style scoped>\n",
       "    .dataframe tbody tr th:only-of-type {\n",
       "        vertical-align: middle;\n",
       "    }\n",
       "\n",
       "    .dataframe tbody tr th {\n",
       "        vertical-align: top;\n",
       "    }\n",
       "\n",
       "    .dataframe thead th {\n",
       "        text-align: right;\n",
       "    }\n",
       "</style>\n",
       "<table border=\"1\" class=\"dataframe\">\n",
       "  <thead>\n",
       "    <tr style=\"text-align: right;\">\n",
       "      <th></th>\n",
       "      <th>documentposition</th>\n",
       "    </tr>\n",
       "  </thead>\n",
       "  <tbody>\n",
       "    <tr>\n",
       "      <th>0</th>\n",
       "      <td>0</td>\n",
       "    </tr>\n",
       "    <tr>\n",
       "      <th>1</th>\n",
       "      <td>0</td>\n",
       "    </tr>\n",
       "    <tr>\n",
       "      <th>3</th>\n",
       "      <td>1</td>\n",
       "    </tr>\n",
       "    <tr>\n",
       "      <th>4</th>\n",
       "      <td>4</td>\n",
       "    </tr>\n",
       "    <tr>\n",
       "      <th>6</th>\n",
       "      <td>4</td>\n",
       "    </tr>\n",
       "    <tr>\n",
       "      <th>8</th>\n",
       "      <td>4</td>\n",
       "    </tr>\n",
       "    <tr>\n",
       "      <th>9</th>\n",
       "      <td>4</td>\n",
       "    </tr>\n",
       "    <tr>\n",
       "      <th>12</th>\n",
       "      <td>4</td>\n",
       "    </tr>\n",
       "    <tr>\n",
       "      <th>13</th>\n",
       "      <td>4</td>\n",
       "    </tr>\n",
       "    <tr>\n",
       "      <th>14</th>\n",
       "      <td>1</td>\n",
       "    </tr>\n",
       "  </tbody>\n",
       "</table>\n",
       "</div>"
      ],
      "text/plain": [
       "    documentposition\n",
       "0                  0\n",
       "1                  0\n",
       "3                  1\n",
       "4                  4\n",
       "6                  4\n",
       "8                  4\n",
       "9                  4\n",
       "12                 4\n",
       "13                 4\n",
       "14                 1"
      ]
     },
     "execution_count": 121,
     "metadata": {},
     "output_type": "execute_result"
    }
   ],
   "source": [
    "y[:10]"
   ]
  },
  {
   "cell_type": "markdown",
   "metadata": {},
   "source": [
    "* 먼저 NaN 값이 없는 데이터로 훈련시켜서 모델을 만들고, NaN값만 있는 데이터를 모델에 넣어서 예측하는 방식"
   ]
  },
  {
   "cell_type": "code",
   "execution_count": 122,
   "metadata": {},
   "outputs": [],
   "source": [
    "## the cross validation phase\n",
    "# X: df_ms_ind / y: df_ms_tar\n",
    "X_train, X_test, y_train, y_test=train_test_split(X,y, random_state=10)"
   ]
  },
  {
   "cell_type": "code",
   "execution_count": 123,
   "metadata": {},
   "outputs": [
    {
     "name": "stdout",
     "output_type": "stream",
     "text": [
      "(301855, 4)\n",
      "(301855, 1)\n"
     ]
    }
   ],
   "source": [
    "print(X.shape)\n",
    "print(y.shape)"
   ]
  },
  {
   "cell_type": "code",
   "execution_count": 124,
   "metadata": {},
   "outputs": [
    {
     "name": "stdout",
     "output_type": "stream",
     "text": [
      "(226391, 4) (226391, 1)\n"
     ]
    }
   ],
   "source": [
    "print(X_train.shape, y_train.shape)"
   ]
  },
  {
   "cell_type": "code",
   "execution_count": 125,
   "metadata": {},
   "outputs": [
    {
     "name": "stdout",
     "output_type": "stream",
     "text": [
      "(75464, 4) (75464, 1)\n"
     ]
    }
   ],
   "source": [
    "print(X_test.shape, y_test.shape)"
   ]
  },
  {
   "cell_type": "markdown",
   "metadata": {},
   "source": [
    "### KNN Algorithm\n",
    "지도학습 알고리즘으로 가장 고전적이면서 직관적인 방법 <br>\n",
    "\n",
    "**분류와 군집의 차이**\n",
    "* 분류는 정답이 있는 데이터(라벨)을 지도학습을 통해 분류하는 것\n",
    "* 군집화는 정답이 없는 데이터를 클러스터링하는 방법\n",
    "\n",
    "**KNN 기본 로직**\n",
    "> * 새로운 샘플 가까운 거리에 있는 몇 가지 라벨을 함께 본다.\n",
    "    * 유클리드거리\n",
    "* 그리고 가장 빈도가 높은 것을 통해 분류한다.\n",
    "    * K의 개수 (K=7이면 7개로 묶었을때 ClassA의 개수와 ClassB의 개수를 카운팅해서 새로운 샘플을 더 많은 개수가있는 Class에 분류)\n",
    "        * 여기서 주의할 점은 K의 개수가 짝수일 경우에는 동점이 발생할 수 있기에 홀수로 지정해줘야 한다."
   ]
  },
  {
   "cell_type": "code",
   "execution_count": 103,
   "metadata": {},
   "outputs": [
    {
     "data": {
      "text/plain": [
       "KNeighborsClassifier(algorithm='auto', leaf_size=30, metric='minkowski',\n",
       "                     metric_params=None, n_jobs=None, n_neighbors=5, p=2,\n",
       "                     weights='uniform')"
      ]
     },
     "execution_count": 103,
     "metadata": {},
     "output_type": "execute_result"
    }
   ],
   "source": [
    "from sklearn.neighbors import KNeighborsClassifier\n",
    "\n",
    "# 훈련 데이터셋으로 부터 모델을 만들기 위해 knn객체를 만들고 fit 메소드 사용\n",
    "knn=KNeighborsClassifier(n_neighbors=5).fit(X_train, y_train)\n",
    "knn"
   ]
  },
  {
   "cell_type": "code",
   "execution_count": 104,
   "metadata": {},
   "outputs": [
    {
     "name": "stdout",
     "output_type": "stream",
     "text": [
      "0.9998719030350146\n"
     ]
    }
   ],
   "source": [
    "# Quiz. score 의미가 무엇일까?\n",
    "## So for classification, this is typically accuracy and for regression mean squared error.\n",
    "print(knn.score(X_train,y_train))"
   ]
  },
  {
   "cell_type": "code",
   "execution_count": 105,
   "metadata": {},
   "outputs": [
    {
     "name": "stdout",
     "output_type": "stream",
     "text": [
      "0.9997879783737941\n"
     ]
    }
   ],
   "source": [
    "# test데이터로 예측한값과 실제 y_test값\n",
    "print(knn.score(X_test, y_test)) # 만약 train 에서 score가 높고 test에서 score가 낮았다면?"
   ]
  },
  {
   "cell_type": "code",
   "execution_count": 106,
   "metadata": {},
   "outputs": [
    {
     "data": {
      "text/plain": [
       "array([1, 4, 4, 4, 4, 1, 4, 1, 4, 4, 4, 2, 4, 1, 4, 0, 4, 1, 4, 4])"
      ]
     },
     "execution_count": 106,
     "metadata": {},
     "output_type": "execute_result"
    }
   ],
   "source": [
    "knn_pred=knn.predict(X_test)\n",
    "knn_pred[:20]"
   ]
  },
  {
   "cell_type": "code",
   "execution_count": 107,
   "metadata": {},
   "outputs": [
    {
     "name": "stdout",
     "output_type": "stream",
     "text": [
      "[[ 4733     0     0     0     3     0     0]\n",
      " [    2 13895     0     0     0     0     0]\n",
      " [    0     0  1920     0     3     0     0]\n",
      " [    0     0     2  1085     0     0     0]\n",
      " [    1     0     1     0 53383     0     0]\n",
      " [    0     1     0     0     0   413     0]\n",
      " [    0     3     0     0     0     0    19]]\n"
     ]
    }
   ],
   "source": [
    "from sklearn.metrics import confusion_matrix\n",
    "print(confusion_matrix(y_test, knn_pred))"
   ]
  },
  {
   "cell_type": "code",
   "execution_count": 108,
   "metadata": {},
   "outputs": [
    {
     "name": "stdout",
     "output_type": "stream",
     "text": [
      "              precision    recall  f1-score   support\n",
      "\n",
      "           0       1.00      1.00      1.00      4736\n",
      "           1       1.00      1.00      1.00     13897\n",
      "           2       1.00      1.00      1.00      1923\n",
      "           3       1.00      1.00      1.00      1087\n",
      "           4       1.00      1.00      1.00     53385\n",
      "           5       1.00      1.00      1.00       414\n",
      "           6       1.00      0.86      0.93        22\n",
      "\n",
      "    accuracy                           1.00     75464\n",
      "   macro avg       1.00      0.98      0.99     75464\n",
      "weighted avg       1.00      1.00      1.00     75464\n",
      "\n"
     ]
    }
   ],
   "source": [
    "from sklearn.metrics import classification_report\n",
    "\n",
    "print(classification_report(y_test,knn_pred))"
   ]
  },
  {
   "cell_type": "code",
   "execution_count": 109,
   "metadata": {},
   "outputs": [
    {
     "data": {
      "text/plain": [
       "0     4736\n",
       "1    13899\n",
       "2     1923\n",
       "3     1085\n",
       "4    53389\n",
       "5      413\n",
       "6       19\n",
       "dtype: int64"
      ]
     },
     "execution_count": 109,
     "metadata": {},
     "output_type": "execute_result"
    }
   ],
   "source": [
    "pd.Series(knn_pred).value_counts().sort_index()"
   ]
  },
  {
   "cell_type": "code",
   "execution_count": 126,
   "metadata": {},
   "outputs": [
    {
     "data": {
      "text/plain": [
       "{0: 'LOCALSTORAGE',\n",
       " 1: 'MYPOLARISDRIVE',\n",
       " 2: 'NEWDOCUMENT',\n",
       " 3: 'NONE',\n",
       " 4: 'OTHERAPP',\n",
       " 5: 'OTHERCLOUD',\n",
       " 6: 'SHAREDDOCUMENT'}"
      ]
     },
     "execution_count": 126,
     "metadata": {},
     "output_type": "execute_result"
    }
   ],
   "source": [
    "# 실제값과 매핑\n",
    "class_cd=pd.Series(encoder.classes_).to_dict()\n",
    "class_cd"
   ]
  },
  {
   "cell_type": "code",
   "execution_count": 70,
   "metadata": {},
   "outputs": [
    {
     "data": {
      "text/html": [
       "<div>\n",
       "<style scoped>\n",
       "    .dataframe tbody tr th:only-of-type {\n",
       "        vertical-align: middle;\n",
       "    }\n",
       "\n",
       "    .dataframe tbody tr th {\n",
       "        vertical-align: top;\n",
       "    }\n",
       "\n",
       "    .dataframe thead th {\n",
       "        text-align: right;\n",
       "    }\n",
       "</style>\n",
       "<table border=\"1\" class=\"dataframe\">\n",
       "  <thead>\n",
       "    <tr style=\"text-align: right;\">\n",
       "      <th></th>\n",
       "      <th>actiontype</th>\n",
       "      <th>ismydoc</th>\n",
       "      <th>ext</th>\n",
       "      <th>sessionid</th>\n",
       "      <th>documentposition</th>\n",
       "      <th>datetime</th>\n",
       "      <th>screen</th>\n",
       "    </tr>\n",
       "  </thead>\n",
       "  <tbody>\n",
       "    <tr>\n",
       "      <th>0</th>\n",
       "      <td>OPEN</td>\n",
       "      <td>NoView</td>\n",
       "      <td>PDF</td>\n",
       "      <td>9400fd2e43d7dc2d054ca78806236ee1</td>\n",
       "      <td>LOCALSTORAGE</td>\n",
       "      <td>2016-07-18</td>\n",
       "      <td>Per_Dir</td>\n",
       "    </tr>\n",
       "    <tr>\n",
       "      <th>1</th>\n",
       "      <td>CLOSE</td>\n",
       "      <td>NoView</td>\n",
       "      <td>PDF</td>\n",
       "      <td>9400fd2e43d7dc2d054ca78806236ee1</td>\n",
       "      <td>LOCALSTORAGE</td>\n",
       "      <td>2016-07-18</td>\n",
       "      <td>Per_Dir</td>\n",
       "    </tr>\n",
       "    <tr>\n",
       "      <th>2</th>\n",
       "      <td>OPEN</td>\n",
       "      <td>View</td>\n",
       "      <td>PDF</td>\n",
       "      <td>9400fd2e43d7dc2d054ca78806236ee1</td>\n",
       "      <td>NaN</td>\n",
       "      <td>2016-07-18</td>\n",
       "      <td>Pub_Dir</td>\n",
       "    </tr>\n",
       "    <tr>\n",
       "      <th>3</th>\n",
       "      <td>CLOSE</td>\n",
       "      <td>View</td>\n",
       "      <td>PDF</td>\n",
       "      <td>9400fd2e43d7dc2d054ca78806236ee1</td>\n",
       "      <td>MYPOLARISDRIVE</td>\n",
       "      <td>2016-07-18</td>\n",
       "      <td>Pub_Dir</td>\n",
       "    </tr>\n",
       "    <tr>\n",
       "      <th>4</th>\n",
       "      <td>OPEN</td>\n",
       "      <td>NoView</td>\n",
       "      <td>PDF</td>\n",
       "      <td>f191063c562691041dfa935ff0876975</td>\n",
       "      <td>OTHERAPP</td>\n",
       "      <td>2016-07-06</td>\n",
       "      <td>Main</td>\n",
       "    </tr>\n",
       "    <tr>\n",
       "      <th>5</th>\n",
       "      <td>RESET</td>\n",
       "      <td>View</td>\n",
       "      <td>PDF</td>\n",
       "      <td>f191063c562691041dfa935ff0876975</td>\n",
       "      <td>NaN</td>\n",
       "      <td>2016-07-06</td>\n",
       "      <td>Main</td>\n",
       "    </tr>\n",
       "    <tr>\n",
       "      <th>6</th>\n",
       "      <td>CLOSE</td>\n",
       "      <td>NoView</td>\n",
       "      <td>PDF</td>\n",
       "      <td>3747719d8f6bdd334703320433928d5a</td>\n",
       "      <td>OTHERAPP</td>\n",
       "      <td>2016-07-20</td>\n",
       "      <td>Main</td>\n",
       "    </tr>\n",
       "    <tr>\n",
       "      <th>7</th>\n",
       "      <td>OPEN</td>\n",
       "      <td>NoView</td>\n",
       "      <td>PDF</td>\n",
       "      <td>3747719d8f6bdd334703320433928d5a</td>\n",
       "      <td>NaN</td>\n",
       "      <td>2016-07-20</td>\n",
       "      <td>Main</td>\n",
       "    </tr>\n",
       "    <tr>\n",
       "      <th>8</th>\n",
       "      <td>OPEN</td>\n",
       "      <td>NoView</td>\n",
       "      <td>PDF</td>\n",
       "      <td>3da5ab986c93803de1e25012d9972274</td>\n",
       "      <td>OTHERAPP</td>\n",
       "      <td>2016-07-28</td>\n",
       "      <td>Main</td>\n",
       "    </tr>\n",
       "    <tr>\n",
       "      <th>9</th>\n",
       "      <td>CLOSE</td>\n",
       "      <td>NoView</td>\n",
       "      <td>PDF</td>\n",
       "      <td>3da5ab986c93803de1e25012d9972274</td>\n",
       "      <td>OTHERAPP</td>\n",
       "      <td>2016-07-28</td>\n",
       "      <td>Main</td>\n",
       "    </tr>\n",
       "  </tbody>\n",
       "</table>\n",
       "</div>"
      ],
      "text/plain": [
       "  actiontype ismydoc  ext                         sessionid documentposition  \\\n",
       "0       OPEN  NoView  PDF  9400fd2e43d7dc2d054ca78806236ee1     LOCALSTORAGE   \n",
       "1      CLOSE  NoView  PDF  9400fd2e43d7dc2d054ca78806236ee1     LOCALSTORAGE   \n",
       "2       OPEN    View  PDF  9400fd2e43d7dc2d054ca78806236ee1              NaN   \n",
       "3      CLOSE    View  PDF  9400fd2e43d7dc2d054ca78806236ee1   MYPOLARISDRIVE   \n",
       "4       OPEN  NoView  PDF  f191063c562691041dfa935ff0876975         OTHERAPP   \n",
       "5      RESET    View  PDF  f191063c562691041dfa935ff0876975              NaN   \n",
       "6      CLOSE  NoView  PDF  3747719d8f6bdd334703320433928d5a         OTHERAPP   \n",
       "7       OPEN  NoView  PDF  3747719d8f6bdd334703320433928d5a              NaN   \n",
       "8       OPEN  NoView  PDF  3da5ab986c93803de1e25012d9972274         OTHERAPP   \n",
       "9      CLOSE  NoView  PDF  3da5ab986c93803de1e25012d9972274         OTHERAPP   \n",
       "\n",
       "    datetime   screen  \n",
       "0 2016-07-18  Per_Dir  \n",
       "1 2016-07-18  Per_Dir  \n",
       "2 2016-07-18  Pub_Dir  \n",
       "3 2016-07-18  Pub_Dir  \n",
       "4 2016-07-06     Main  \n",
       "5 2016-07-06     Main  \n",
       "6 2016-07-20     Main  \n",
       "7 2016-07-20     Main  \n",
       "8 2016-07-28     Main  \n",
       "9 2016-07-28     Main  "
      ]
     },
     "execution_count": 70,
     "metadata": {},
     "output_type": "execute_result"
    }
   ],
   "source": [
    "# let's impute the null values with the knn predictive model\n",
    "df_ms.head(10)"
   ]
  },
  {
   "cell_type": "code",
   "execution_count": 71,
   "metadata": {},
   "outputs": [
    {
     "data": {
      "text/plain": [
       "actiontype          0\n",
       "ismydoc             0\n",
       "ext                 0\n",
       "sessionid           0\n",
       "documentposition    6\n",
       "datetime            0\n",
       "screen              0\n",
       "dtype: int64"
      ]
     },
     "execution_count": 71,
     "metadata": {},
     "output_type": "execute_result"
    }
   ],
   "source": [
    "df_ms.isnull().sum()"
   ]
  },
  {
   "cell_type": "code",
   "execution_count": 77,
   "metadata": {},
   "outputs": [
    {
     "data": {
      "text/html": [
       "<div>\n",
       "<style scoped>\n",
       "    .dataframe tbody tr th:only-of-type {\n",
       "        vertical-align: middle;\n",
       "    }\n",
       "\n",
       "    .dataframe tbody tr th {\n",
       "        vertical-align: top;\n",
       "    }\n",
       "\n",
       "    .dataframe thead th {\n",
       "        text-align: right;\n",
       "    }\n",
       "</style>\n",
       "<table border=\"1\" class=\"dataframe\">\n",
       "  <thead>\n",
       "    <tr style=\"text-align: right;\">\n",
       "      <th></th>\n",
       "      <th>actiontype</th>\n",
       "      <th>ismydoc</th>\n",
       "      <th>ext</th>\n",
       "      <th>sessionid</th>\n",
       "      <th>documentposition</th>\n",
       "      <th>datetime</th>\n",
       "      <th>screen</th>\n",
       "    </tr>\n",
       "  </thead>\n",
       "  <tbody>\n",
       "    <tr>\n",
       "      <th>2</th>\n",
       "      <td>OPEN</td>\n",
       "      <td>View</td>\n",
       "      <td>PDF</td>\n",
       "      <td>9400fd2e43d7dc2d054ca78806236ee1</td>\n",
       "      <td>NaN</td>\n",
       "      <td>2016-07-18</td>\n",
       "      <td>Pub_Dir</td>\n",
       "    </tr>\n",
       "    <tr>\n",
       "      <th>5</th>\n",
       "      <td>RESET</td>\n",
       "      <td>View</td>\n",
       "      <td>PDF</td>\n",
       "      <td>f191063c562691041dfa935ff0876975</td>\n",
       "      <td>NaN</td>\n",
       "      <td>2016-07-06</td>\n",
       "      <td>Main</td>\n",
       "    </tr>\n",
       "    <tr>\n",
       "      <th>7</th>\n",
       "      <td>OPEN</td>\n",
       "      <td>NoView</td>\n",
       "      <td>PDF</td>\n",
       "      <td>3747719d8f6bdd334703320433928d5a</td>\n",
       "      <td>NaN</td>\n",
       "      <td>2016-07-20</td>\n",
       "      <td>Main</td>\n",
       "    </tr>\n",
       "    <tr>\n",
       "      <th>10</th>\n",
       "      <td>OPEN</td>\n",
       "      <td>View</td>\n",
       "      <td>PDF</td>\n",
       "      <td>3da5ab986c93803de1e25012d9972274</td>\n",
       "      <td>NaN</td>\n",
       "      <td>2016-07-28</td>\n",
       "      <td>Main</td>\n",
       "    </tr>\n",
       "    <tr>\n",
       "      <th>11</th>\n",
       "      <td>OPEN</td>\n",
       "      <td>NoView</td>\n",
       "      <td>PDF</td>\n",
       "      <td>9e37751e132b5eb96e7d3fde7db132e3</td>\n",
       "      <td>NaN</td>\n",
       "      <td>2016-07-19</td>\n",
       "      <td>Main</td>\n",
       "    </tr>\n",
       "    <tr>\n",
       "      <th>15</th>\n",
       "      <td>CLOSE</td>\n",
       "      <td>View</td>\n",
       "      <td>PDF</td>\n",
       "      <td>450e74586e6a05f2983905205e8f8cb1</td>\n",
       "      <td>NaN</td>\n",
       "      <td>2016-07-24</td>\n",
       "      <td>Pub_Dir</td>\n",
       "    </tr>\n",
       "  </tbody>\n",
       "</table>\n",
       "</div>"
      ],
      "text/plain": [
       "   actiontype ismydoc  ext                         sessionid documentposition  \\\n",
       "2        OPEN    View  PDF  9400fd2e43d7dc2d054ca78806236ee1              NaN   \n",
       "5       RESET    View  PDF  f191063c562691041dfa935ff0876975              NaN   \n",
       "7        OPEN  NoView  PDF  3747719d8f6bdd334703320433928d5a              NaN   \n",
       "10       OPEN    View  PDF  3da5ab986c93803de1e25012d9972274              NaN   \n",
       "11       OPEN  NoView  PDF  9e37751e132b5eb96e7d3fde7db132e3              NaN   \n",
       "15      CLOSE    View  PDF  450e74586e6a05f2983905205e8f8cb1              NaN   \n",
       "\n",
       "     datetime   screen  \n",
       "2  2016-07-18  Pub_Dir  \n",
       "5  2016-07-06     Main  \n",
       "7  2016-07-20     Main  \n",
       "10 2016-07-28     Main  \n",
       "11 2016-07-19     Main  \n",
       "15 2016-07-24  Pub_Dir  "
      ]
     },
     "execution_count": 77,
     "metadata": {},
     "output_type": "execute_result"
    }
   ],
   "source": [
    "# NaN이 하나라도있으면 (any)\n",
    "df_ms_only=df_ms[df_ms.isnull().any(axis=1)]\n",
    "df_ms_only"
   ]
  },
  {
   "cell_type": "code",
   "execution_count": 78,
   "metadata": {},
   "outputs": [
    {
     "data": {
      "text/html": [
       "<div>\n",
       "<style scoped>\n",
       "    .dataframe tbody tr th:only-of-type {\n",
       "        vertical-align: middle;\n",
       "    }\n",
       "\n",
       "    .dataframe tbody tr th {\n",
       "        vertical-align: top;\n",
       "    }\n",
       "\n",
       "    .dataframe thead th {\n",
       "        text-align: right;\n",
       "    }\n",
       "</style>\n",
       "<table border=\"1\" class=\"dataframe\">\n",
       "  <thead>\n",
       "    <tr style=\"text-align: right;\">\n",
       "      <th></th>\n",
       "      <th>actiontype</th>\n",
       "      <th>ismydoc</th>\n",
       "      <th>ext</th>\n",
       "      <th>sessionid</th>\n",
       "      <th>documentposition</th>\n",
       "      <th>datetime</th>\n",
       "      <th>screen</th>\n",
       "    </tr>\n",
       "  </thead>\n",
       "  <tbody>\n",
       "    <tr>\n",
       "      <th>0</th>\n",
       "      <td>OPEN</td>\n",
       "      <td>NoView</td>\n",
       "      <td>PDF</td>\n",
       "      <td>9400fd2e43d7dc2d054ca78806236ee1</td>\n",
       "      <td>LOCALSTORAGE</td>\n",
       "      <td>2016-07-18</td>\n",
       "      <td>Per_Dir</td>\n",
       "    </tr>\n",
       "    <tr>\n",
       "      <th>1</th>\n",
       "      <td>CLOSE</td>\n",
       "      <td>NoView</td>\n",
       "      <td>PDF</td>\n",
       "      <td>9400fd2e43d7dc2d054ca78806236ee1</td>\n",
       "      <td>LOCALSTORAGE</td>\n",
       "      <td>2016-07-18</td>\n",
       "      <td>Per_Dir</td>\n",
       "    </tr>\n",
       "    <tr>\n",
       "      <th>3</th>\n",
       "      <td>CLOSE</td>\n",
       "      <td>View</td>\n",
       "      <td>PDF</td>\n",
       "      <td>9400fd2e43d7dc2d054ca78806236ee1</td>\n",
       "      <td>MYPOLARISDRIVE</td>\n",
       "      <td>2016-07-18</td>\n",
       "      <td>Pub_Dir</td>\n",
       "    </tr>\n",
       "    <tr>\n",
       "      <th>4</th>\n",
       "      <td>OPEN</td>\n",
       "      <td>NoView</td>\n",
       "      <td>PDF</td>\n",
       "      <td>f191063c562691041dfa935ff0876975</td>\n",
       "      <td>OTHERAPP</td>\n",
       "      <td>2016-07-06</td>\n",
       "      <td>Main</td>\n",
       "    </tr>\n",
       "    <tr>\n",
       "      <th>6</th>\n",
       "      <td>CLOSE</td>\n",
       "      <td>NoView</td>\n",
       "      <td>PDF</td>\n",
       "      <td>3747719d8f6bdd334703320433928d5a</td>\n",
       "      <td>OTHERAPP</td>\n",
       "      <td>2016-07-20</td>\n",
       "      <td>Main</td>\n",
       "    </tr>\n",
       "  </tbody>\n",
       "</table>\n",
       "</div>"
      ],
      "text/plain": [
       "  actiontype ismydoc  ext                         sessionid documentposition  \\\n",
       "0       OPEN  NoView  PDF  9400fd2e43d7dc2d054ca78806236ee1     LOCALSTORAGE   \n",
       "1      CLOSE  NoView  PDF  9400fd2e43d7dc2d054ca78806236ee1     LOCALSTORAGE   \n",
       "3      CLOSE    View  PDF  9400fd2e43d7dc2d054ca78806236ee1   MYPOLARISDRIVE   \n",
       "4       OPEN  NoView  PDF  f191063c562691041dfa935ff0876975         OTHERAPP   \n",
       "6      CLOSE  NoView  PDF  3747719d8f6bdd334703320433928d5a         OTHERAPP   \n",
       "\n",
       "    datetime   screen  \n",
       "0 2016-07-18  Per_Dir  \n",
       "1 2016-07-18  Per_Dir  \n",
       "3 2016-07-18  Pub_Dir  \n",
       "4 2016-07-06     Main  \n",
       "6 2016-07-20     Main  "
      ]
     },
     "execution_count": 78,
     "metadata": {},
     "output_type": "execute_result"
    }
   ],
   "source": [
    "# NaN 전부 drop한 데이터 따로저장.\n",
    "df_ms_dropna=df_ms.dropna()\n",
    "df_ms_dropna.head()"
   ]
  },
  {
   "cell_type": "code",
   "execution_count": 79,
   "metadata": {},
   "outputs": [
    {
     "data": {
      "text/html": [
       "<div>\n",
       "<style scoped>\n",
       "    .dataframe tbody tr th:only-of-type {\n",
       "        vertical-align: middle;\n",
       "    }\n",
       "\n",
       "    .dataframe tbody tr th {\n",
       "        vertical-align: top;\n",
       "    }\n",
       "\n",
       "    .dataframe thead th {\n",
       "        text-align: right;\n",
       "    }\n",
       "</style>\n",
       "<table border=\"1\" class=\"dataframe\">\n",
       "  <thead>\n",
       "    <tr style=\"text-align: right;\">\n",
       "      <th></th>\n",
       "      <th>actiontype</th>\n",
       "      <th>ismydoc</th>\n",
       "      <th>ext</th>\n",
       "      <th>screen</th>\n",
       "    </tr>\n",
       "  </thead>\n",
       "  <tbody>\n",
       "    <tr>\n",
       "      <th>2</th>\n",
       "      <td>1</td>\n",
       "      <td>1</td>\n",
       "      <td>0</td>\n",
       "      <td>1</td>\n",
       "    </tr>\n",
       "    <tr>\n",
       "      <th>5</th>\n",
       "      <td>2</td>\n",
       "      <td>1</td>\n",
       "      <td>0</td>\n",
       "      <td>0</td>\n",
       "    </tr>\n",
       "    <tr>\n",
       "      <th>7</th>\n",
       "      <td>1</td>\n",
       "      <td>0</td>\n",
       "      <td>0</td>\n",
       "      <td>0</td>\n",
       "    </tr>\n",
       "    <tr>\n",
       "      <th>10</th>\n",
       "      <td>1</td>\n",
       "      <td>1</td>\n",
       "      <td>0</td>\n",
       "      <td>0</td>\n",
       "    </tr>\n",
       "    <tr>\n",
       "      <th>11</th>\n",
       "      <td>1</td>\n",
       "      <td>0</td>\n",
       "      <td>0</td>\n",
       "      <td>0</td>\n",
       "    </tr>\n",
       "    <tr>\n",
       "      <th>15</th>\n",
       "      <td>0</td>\n",
       "      <td>1</td>\n",
       "      <td>0</td>\n",
       "      <td>1</td>\n",
       "    </tr>\n",
       "  </tbody>\n",
       "</table>\n",
       "</div>"
      ],
      "text/plain": [
       "    actiontype  ismydoc  ext  screen\n",
       "2            1        1    0       1\n",
       "5            2        1    0       0\n",
       "7            1        0    0       0\n",
       "10           1        1    0       0\n",
       "11           1        0    0       0\n",
       "15           0        1    0       1"
      ]
     },
     "execution_count": 79,
     "metadata": {},
     "output_type": "execute_result"
    }
   ],
   "source": [
    "# predict missing categorical vars\n",
    "df_ms_only[ind_cols].apply(lambda x: encoder.fit_transform(x))"
   ]
  },
  {
   "cell_type": "code",
   "execution_count": 80,
   "metadata": {},
   "outputs": [
    {
     "data": {
      "text/plain": [
       "array([2, 2, 3, 3, 3, 3])"
      ]
     },
     "execution_count": 80,
     "metadata": {},
     "output_type": "execute_result"
    }
   ],
   "source": [
    "knn.predict(df_ms_only[ind_cols].apply(lambda x: encoder.fit_transform(x)))"
   ]
  },
  {
   "cell_type": "code",
   "execution_count": 139,
   "metadata": {},
   "outputs": [
    {
     "data": {
      "text/plain": [
       "{0: 'LOCALSTORAGE',\n",
       " 1: 'MYPOLARISDRIVE',\n",
       " 2: 'NEWDOCUMENT',\n",
       " 3: 'NONE',\n",
       " 4: 'OTHERAPP',\n",
       " 5: 'OTHERCLOUD',\n",
       " 6: 'SHAREDDOCUMENT'}"
      ]
     },
     "execution_count": 139,
     "metadata": {},
     "output_type": "execute_result"
    }
   ],
   "source": [
    "# class_cd=pd.Series(encoder.classes_).to_dict()\n",
    "class_cd"
   ]
  },
  {
   "cell_type": "code",
   "execution_count": 86,
   "metadata": {},
   "outputs": [
    {
     "data": {
      "text/plain": [
       "array([2, 2, 3, 3, 3, 3])"
      ]
     },
     "execution_count": 86,
     "metadata": {},
     "output_type": "execute_result"
    }
   ],
   "source": [
    "fill_na_values=knn.predict(df_ms_only[ind_cols].apply(lambda x: encoder.fit_transform(x)))\n",
    "fill_na_values"
   ]
  },
  {
   "cell_type": "code",
   "execution_count": 133,
   "metadata": {},
   "outputs": [],
   "source": [
    "df_ms_only['documentposition']=fill_na_values"
   ]
  },
  {
   "cell_type": "code",
   "execution_count": 135,
   "metadata": {},
   "outputs": [
    {
     "data": {
      "text/html": [
       "<div>\n",
       "<style scoped>\n",
       "    .dataframe tbody tr th:only-of-type {\n",
       "        vertical-align: middle;\n",
       "    }\n",
       "\n",
       "    .dataframe tbody tr th {\n",
       "        vertical-align: top;\n",
       "    }\n",
       "\n",
       "    .dataframe thead th {\n",
       "        text-align: right;\n",
       "    }\n",
       "</style>\n",
       "<table border=\"1\" class=\"dataframe\">\n",
       "  <thead>\n",
       "    <tr style=\"text-align: right;\">\n",
       "      <th></th>\n",
       "      <th>actiontype</th>\n",
       "      <th>ismydoc</th>\n",
       "      <th>ext</th>\n",
       "      <th>sessionid</th>\n",
       "      <th>documentposition</th>\n",
       "      <th>datetime</th>\n",
       "      <th>screen</th>\n",
       "    </tr>\n",
       "  </thead>\n",
       "  <tbody>\n",
       "    <tr>\n",
       "      <th>2</th>\n",
       "      <td>OPEN</td>\n",
       "      <td>View</td>\n",
       "      <td>PDF</td>\n",
       "      <td>9400fd2e43d7dc2d054ca78806236ee1</td>\n",
       "      <td>2</td>\n",
       "      <td>2016-07-18</td>\n",
       "      <td>Pub_Dir</td>\n",
       "    </tr>\n",
       "    <tr>\n",
       "      <th>5</th>\n",
       "      <td>RESET</td>\n",
       "      <td>View</td>\n",
       "      <td>PDF</td>\n",
       "      <td>f191063c562691041dfa935ff0876975</td>\n",
       "      <td>2</td>\n",
       "      <td>2016-07-06</td>\n",
       "      <td>Main</td>\n",
       "    </tr>\n",
       "    <tr>\n",
       "      <th>7</th>\n",
       "      <td>OPEN</td>\n",
       "      <td>NoView</td>\n",
       "      <td>PDF</td>\n",
       "      <td>3747719d8f6bdd334703320433928d5a</td>\n",
       "      <td>3</td>\n",
       "      <td>2016-07-20</td>\n",
       "      <td>Main</td>\n",
       "    </tr>\n",
       "    <tr>\n",
       "      <th>10</th>\n",
       "      <td>OPEN</td>\n",
       "      <td>View</td>\n",
       "      <td>PDF</td>\n",
       "      <td>3da5ab986c93803de1e25012d9972274</td>\n",
       "      <td>3</td>\n",
       "      <td>2016-07-28</td>\n",
       "      <td>Main</td>\n",
       "    </tr>\n",
       "    <tr>\n",
       "      <th>11</th>\n",
       "      <td>OPEN</td>\n",
       "      <td>NoView</td>\n",
       "      <td>PDF</td>\n",
       "      <td>9e37751e132b5eb96e7d3fde7db132e3</td>\n",
       "      <td>3</td>\n",
       "      <td>2016-07-19</td>\n",
       "      <td>Main</td>\n",
       "    </tr>\n",
       "    <tr>\n",
       "      <th>15</th>\n",
       "      <td>CLOSE</td>\n",
       "      <td>View</td>\n",
       "      <td>PDF</td>\n",
       "      <td>450e74586e6a05f2983905205e8f8cb1</td>\n",
       "      <td>3</td>\n",
       "      <td>2016-07-24</td>\n",
       "      <td>Pub_Dir</td>\n",
       "    </tr>\n",
       "  </tbody>\n",
       "</table>\n",
       "</div>"
      ],
      "text/plain": [
       "   actiontype ismydoc  ext                         sessionid  \\\n",
       "2        OPEN    View  PDF  9400fd2e43d7dc2d054ca78806236ee1   \n",
       "5       RESET    View  PDF  f191063c562691041dfa935ff0876975   \n",
       "7        OPEN  NoView  PDF  3747719d8f6bdd334703320433928d5a   \n",
       "10       OPEN    View  PDF  3da5ab986c93803de1e25012d9972274   \n",
       "11       OPEN  NoView  PDF  9e37751e132b5eb96e7d3fde7db132e3   \n",
       "15      CLOSE    View  PDF  450e74586e6a05f2983905205e8f8cb1   \n",
       "\n",
       "    documentposition   datetime   screen  \n",
       "2                  2 2016-07-18  Pub_Dir  \n",
       "5                  2 2016-07-06     Main  \n",
       "7                  3 2016-07-20     Main  \n",
       "10                 3 2016-07-28     Main  \n",
       "11                 3 2016-07-19     Main  \n",
       "15                 3 2016-07-24  Pub_Dir  "
      ]
     },
     "execution_count": 135,
     "metadata": {},
     "output_type": "execute_result"
    }
   ],
   "source": [
    "df_ms_only.head(10)"
   ]
  },
  {
   "cell_type": "code",
   "execution_count": 140,
   "metadata": {},
   "outputs": [
    {
     "data": {
      "text/plain": [
       "2     2\n",
       "5     2\n",
       "7     3\n",
       "10    3\n",
       "11    3\n",
       "15    3\n",
       "Name: documentposition, dtype: int64"
      ]
     },
     "execution_count": 140,
     "metadata": {},
     "output_type": "execute_result"
    }
   ],
   "source": [
    "df_ms_only['documentposition']"
   ]
  },
  {
   "cell_type": "code",
   "execution_count": 143,
   "metadata": {},
   "outputs": [],
   "source": [
    "# 딕셔너리에서 숫자에 해당하는 value값으로 치환하고 싶을때 replace() 사용\n",
    "# 다른방법\n",
    "# df_ms_only['documentposition'].apply(lambda x: class_cd[x])\n",
    "df_ms_only['documentposition']=df_ms_only['documentposition'].replace(class_cd)"
   ]
  },
  {
   "cell_type": "code",
   "execution_count": 145,
   "metadata": {},
   "outputs": [
    {
     "data": {
      "text/html": [
       "<div>\n",
       "<style scoped>\n",
       "    .dataframe tbody tr th:only-of-type {\n",
       "        vertical-align: middle;\n",
       "    }\n",
       "\n",
       "    .dataframe tbody tr th {\n",
       "        vertical-align: top;\n",
       "    }\n",
       "\n",
       "    .dataframe thead th {\n",
       "        text-align: right;\n",
       "    }\n",
       "</style>\n",
       "<table border=\"1\" class=\"dataframe\">\n",
       "  <thead>\n",
       "    <tr style=\"text-align: right;\">\n",
       "      <th></th>\n",
       "      <th>actiontype</th>\n",
       "      <th>ismydoc</th>\n",
       "      <th>ext</th>\n",
       "      <th>sessionid</th>\n",
       "      <th>documentposition</th>\n",
       "      <th>datetime</th>\n",
       "      <th>screen</th>\n",
       "    </tr>\n",
       "  </thead>\n",
       "  <tbody>\n",
       "    <tr>\n",
       "      <th>2</th>\n",
       "      <td>OPEN</td>\n",
       "      <td>View</td>\n",
       "      <td>PDF</td>\n",
       "      <td>9400fd2e43d7dc2d054ca78806236ee1</td>\n",
       "      <td>NEWDOCUMENT</td>\n",
       "      <td>2016-07-18</td>\n",
       "      <td>Pub_Dir</td>\n",
       "    </tr>\n",
       "    <tr>\n",
       "      <th>5</th>\n",
       "      <td>RESET</td>\n",
       "      <td>View</td>\n",
       "      <td>PDF</td>\n",
       "      <td>f191063c562691041dfa935ff0876975</td>\n",
       "      <td>NEWDOCUMENT</td>\n",
       "      <td>2016-07-06</td>\n",
       "      <td>Main</td>\n",
       "    </tr>\n",
       "    <tr>\n",
       "      <th>7</th>\n",
       "      <td>OPEN</td>\n",
       "      <td>NoView</td>\n",
       "      <td>PDF</td>\n",
       "      <td>3747719d8f6bdd334703320433928d5a</td>\n",
       "      <td>NONE</td>\n",
       "      <td>2016-07-20</td>\n",
       "      <td>Main</td>\n",
       "    </tr>\n",
       "    <tr>\n",
       "      <th>10</th>\n",
       "      <td>OPEN</td>\n",
       "      <td>View</td>\n",
       "      <td>PDF</td>\n",
       "      <td>3da5ab986c93803de1e25012d9972274</td>\n",
       "      <td>NONE</td>\n",
       "      <td>2016-07-28</td>\n",
       "      <td>Main</td>\n",
       "    </tr>\n",
       "    <tr>\n",
       "      <th>11</th>\n",
       "      <td>OPEN</td>\n",
       "      <td>NoView</td>\n",
       "      <td>PDF</td>\n",
       "      <td>9e37751e132b5eb96e7d3fde7db132e3</td>\n",
       "      <td>NONE</td>\n",
       "      <td>2016-07-19</td>\n",
       "      <td>Main</td>\n",
       "    </tr>\n",
       "    <tr>\n",
       "      <th>15</th>\n",
       "      <td>CLOSE</td>\n",
       "      <td>View</td>\n",
       "      <td>PDF</td>\n",
       "      <td>450e74586e6a05f2983905205e8f8cb1</td>\n",
       "      <td>NONE</td>\n",
       "      <td>2016-07-24</td>\n",
       "      <td>Pub_Dir</td>\n",
       "    </tr>\n",
       "  </tbody>\n",
       "</table>\n",
       "</div>"
      ],
      "text/plain": [
       "   actiontype ismydoc  ext                         sessionid documentposition  \\\n",
       "2        OPEN    View  PDF  9400fd2e43d7dc2d054ca78806236ee1      NEWDOCUMENT   \n",
       "5       RESET    View  PDF  f191063c562691041dfa935ff0876975      NEWDOCUMENT   \n",
       "7        OPEN  NoView  PDF  3747719d8f6bdd334703320433928d5a             NONE   \n",
       "10       OPEN    View  PDF  3da5ab986c93803de1e25012d9972274             NONE   \n",
       "11       OPEN  NoView  PDF  9e37751e132b5eb96e7d3fde7db132e3             NONE   \n",
       "15      CLOSE    View  PDF  450e74586e6a05f2983905205e8f8cb1             NONE   \n",
       "\n",
       "     datetime   screen  \n",
       "2  2016-07-18  Pub_Dir  \n",
       "5  2016-07-06     Main  \n",
       "7  2016-07-20     Main  \n",
       "10 2016-07-28     Main  \n",
       "11 2016-07-19     Main  \n",
       "15 2016-07-24  Pub_Dir  "
      ]
     },
     "execution_count": 145,
     "metadata": {},
     "output_type": "execute_result"
    }
   ],
   "source": [
    "df_ms_only.head(10)"
   ]
  },
  {
   "cell_type": "code",
   "execution_count": 147,
   "metadata": {},
   "outputs": [
    {
     "data": {
      "text/html": [
       "<div>\n",
       "<style scoped>\n",
       "    .dataframe tbody tr th:only-of-type {\n",
       "        vertical-align: middle;\n",
       "    }\n",
       "\n",
       "    .dataframe tbody tr th {\n",
       "        vertical-align: top;\n",
       "    }\n",
       "\n",
       "    .dataframe thead th {\n",
       "        text-align: right;\n",
       "    }\n",
       "</style>\n",
       "<table border=\"1\" class=\"dataframe\">\n",
       "  <thead>\n",
       "    <tr style=\"text-align: right;\">\n",
       "      <th></th>\n",
       "      <th>actiontype</th>\n",
       "      <th>ismydoc</th>\n",
       "      <th>ext</th>\n",
       "      <th>sessionid</th>\n",
       "      <th>documentposition</th>\n",
       "      <th>datetime</th>\n",
       "      <th>screen</th>\n",
       "    </tr>\n",
       "  </thead>\n",
       "  <tbody>\n",
       "    <tr>\n",
       "      <th>0</th>\n",
       "      <td>OPEN</td>\n",
       "      <td>NoView</td>\n",
       "      <td>PDF</td>\n",
       "      <td>9400fd2e43d7dc2d054ca78806236ee1</td>\n",
       "      <td>LOCALSTORAGE</td>\n",
       "      <td>2016-07-18</td>\n",
       "      <td>Per_Dir</td>\n",
       "    </tr>\n",
       "    <tr>\n",
       "      <th>1</th>\n",
       "      <td>CLOSE</td>\n",
       "      <td>NoView</td>\n",
       "      <td>PDF</td>\n",
       "      <td>9400fd2e43d7dc2d054ca78806236ee1</td>\n",
       "      <td>LOCALSTORAGE</td>\n",
       "      <td>2016-07-18</td>\n",
       "      <td>Per_Dir</td>\n",
       "    </tr>\n",
       "    <tr>\n",
       "      <th>3</th>\n",
       "      <td>CLOSE</td>\n",
       "      <td>View</td>\n",
       "      <td>PDF</td>\n",
       "      <td>9400fd2e43d7dc2d054ca78806236ee1</td>\n",
       "      <td>MYPOLARISDRIVE</td>\n",
       "      <td>2016-07-18</td>\n",
       "      <td>Pub_Dir</td>\n",
       "    </tr>\n",
       "    <tr>\n",
       "      <th>4</th>\n",
       "      <td>OPEN</td>\n",
       "      <td>NoView</td>\n",
       "      <td>PDF</td>\n",
       "      <td>f191063c562691041dfa935ff0876975</td>\n",
       "      <td>OTHERAPP</td>\n",
       "      <td>2016-07-06</td>\n",
       "      <td>Main</td>\n",
       "    </tr>\n",
       "    <tr>\n",
       "      <th>6</th>\n",
       "      <td>CLOSE</td>\n",
       "      <td>NoView</td>\n",
       "      <td>PDF</td>\n",
       "      <td>3747719d8f6bdd334703320433928d5a</td>\n",
       "      <td>OTHERAPP</td>\n",
       "      <td>2016-07-20</td>\n",
       "      <td>Main</td>\n",
       "    </tr>\n",
       "    <tr>\n",
       "      <th>8</th>\n",
       "      <td>OPEN</td>\n",
       "      <td>NoView</td>\n",
       "      <td>PDF</td>\n",
       "      <td>3da5ab986c93803de1e25012d9972274</td>\n",
       "      <td>OTHERAPP</td>\n",
       "      <td>2016-07-28</td>\n",
       "      <td>Main</td>\n",
       "    </tr>\n",
       "    <tr>\n",
       "      <th>9</th>\n",
       "      <td>CLOSE</td>\n",
       "      <td>NoView</td>\n",
       "      <td>PDF</td>\n",
       "      <td>3da5ab986c93803de1e25012d9972274</td>\n",
       "      <td>OTHERAPP</td>\n",
       "      <td>2016-07-28</td>\n",
       "      <td>Main</td>\n",
       "    </tr>\n",
       "    <tr>\n",
       "      <th>12</th>\n",
       "      <td>CLOSE</td>\n",
       "      <td>NoView</td>\n",
       "      <td>PDF</td>\n",
       "      <td>9e37751e132b5eb96e7d3fde7db132e3</td>\n",
       "      <td>OTHERAPP</td>\n",
       "      <td>2016-07-19</td>\n",
       "      <td>Main</td>\n",
       "    </tr>\n",
       "    <tr>\n",
       "      <th>13</th>\n",
       "      <td>RESET</td>\n",
       "      <td>View</td>\n",
       "      <td>PDF</td>\n",
       "      <td>9e37751e132b5eb96e7d3fde7db132e3</td>\n",
       "      <td>OTHERAPP</td>\n",
       "      <td>2016-07-19</td>\n",
       "      <td>Main</td>\n",
       "    </tr>\n",
       "    <tr>\n",
       "      <th>14</th>\n",
       "      <td>OPEN</td>\n",
       "      <td>View</td>\n",
       "      <td>PDF</td>\n",
       "      <td>450e74586e6a05f2983905205e8f8cb1</td>\n",
       "      <td>MYPOLARISDRIVE</td>\n",
       "      <td>2016-07-24</td>\n",
       "      <td>Pub_Dir</td>\n",
       "    </tr>\n",
       "  </tbody>\n",
       "</table>\n",
       "</div>"
      ],
      "text/plain": [
       "   actiontype ismydoc  ext                         sessionid documentposition  \\\n",
       "0        OPEN  NoView  PDF  9400fd2e43d7dc2d054ca78806236ee1     LOCALSTORAGE   \n",
       "1       CLOSE  NoView  PDF  9400fd2e43d7dc2d054ca78806236ee1     LOCALSTORAGE   \n",
       "3       CLOSE    View  PDF  9400fd2e43d7dc2d054ca78806236ee1   MYPOLARISDRIVE   \n",
       "4        OPEN  NoView  PDF  f191063c562691041dfa935ff0876975         OTHERAPP   \n",
       "6       CLOSE  NoView  PDF  3747719d8f6bdd334703320433928d5a         OTHERAPP   \n",
       "8        OPEN  NoView  PDF  3da5ab986c93803de1e25012d9972274         OTHERAPP   \n",
       "9       CLOSE  NoView  PDF  3da5ab986c93803de1e25012d9972274         OTHERAPP   \n",
       "12      CLOSE  NoView  PDF  9e37751e132b5eb96e7d3fde7db132e3         OTHERAPP   \n",
       "13      RESET    View  PDF  9e37751e132b5eb96e7d3fde7db132e3         OTHERAPP   \n",
       "14       OPEN    View  PDF  450e74586e6a05f2983905205e8f8cb1   MYPOLARISDRIVE   \n",
       "\n",
       "     datetime   screen  \n",
       "0  2016-07-18  Per_Dir  \n",
       "1  2016-07-18  Per_Dir  \n",
       "3  2016-07-18  Pub_Dir  \n",
       "4  2016-07-06     Main  \n",
       "6  2016-07-20     Main  \n",
       "8  2016-07-28     Main  \n",
       "9  2016-07-28     Main  \n",
       "12 2016-07-19     Main  \n",
       "13 2016-07-19     Main  \n",
       "14 2016-07-24  Pub_Dir  "
      ]
     },
     "execution_count": 147,
     "metadata": {},
     "output_type": "execute_result"
    }
   ],
   "source": [
    "# na값 drop한 데이터와 na값 KNN으로 채워넣은 데이터 붙이기\n",
    "df_ms_final=pd.concat([df_ms_dropna, df_ms_only],axis=0)\n",
    "df_ms_final.head(10)"
   ]
  },
  {
   "cell_type": "code",
   "execution_count": 148,
   "metadata": {},
   "outputs": [
    {
     "data": {
      "text/plain": [
       "actiontype          0\n",
       "ismydoc             0\n",
       "ext                 0\n",
       "sessionid           0\n",
       "documentposition    0\n",
       "datetime            0\n",
       "screen              0\n",
       "dtype: int64"
      ]
     },
     "execution_count": 148,
     "metadata": {},
     "output_type": "execute_result"
    }
   ],
   "source": [
    "# NaN값 채우기 완료\n",
    "df_ms_final.isnull().sum()"
   ]
  },
  {
   "cell_type": "markdown",
   "metadata": {},
   "source": [
    "### 2.5 확장자명 통일\n"
   ]
  },
  {
   "cell_type": "code",
   "execution_count": 149,
   "metadata": {},
   "outputs": [
    {
     "data": {
      "text/html": [
       "<div>\n",
       "<style scoped>\n",
       "    .dataframe tbody tr th:only-of-type {\n",
       "        vertical-align: middle;\n",
       "    }\n",
       "\n",
       "    .dataframe tbody tr th {\n",
       "        vertical-align: top;\n",
       "    }\n",
       "\n",
       "    .dataframe thead th {\n",
       "        text-align: right;\n",
       "    }\n",
       "</style>\n",
       "<table border=\"1\" class=\"dataframe\">\n",
       "  <thead>\n",
       "    <tr style=\"text-align: right;\">\n",
       "      <th></th>\n",
       "      <th>actiontype</th>\n",
       "      <th>ismydoc</th>\n",
       "      <th>ext</th>\n",
       "      <th>sessionid</th>\n",
       "      <th>documentposition</th>\n",
       "      <th>datetime</th>\n",
       "      <th>screen</th>\n",
       "    </tr>\n",
       "  </thead>\n",
       "  <tbody>\n",
       "    <tr>\n",
       "      <th>0</th>\n",
       "      <td>OPEN</td>\n",
       "      <td>NoView</td>\n",
       "      <td>PDF</td>\n",
       "      <td>9400fd2e43d7dc2d054ca78806236ee1</td>\n",
       "      <td>LOCALSTORAGE</td>\n",
       "      <td>2016-07-18</td>\n",
       "      <td>Per_Dir</td>\n",
       "    </tr>\n",
       "    <tr>\n",
       "      <th>1</th>\n",
       "      <td>CLOSE</td>\n",
       "      <td>NoView</td>\n",
       "      <td>PDF</td>\n",
       "      <td>9400fd2e43d7dc2d054ca78806236ee1</td>\n",
       "      <td>LOCALSTORAGE</td>\n",
       "      <td>2016-07-18</td>\n",
       "      <td>Per_Dir</td>\n",
       "    </tr>\n",
       "    <tr>\n",
       "      <th>2</th>\n",
       "      <td>OPEN</td>\n",
       "      <td>View</td>\n",
       "      <td>PDF</td>\n",
       "      <td>9400fd2e43d7dc2d054ca78806236ee1</td>\n",
       "      <td>MYPOLARISDRIVE</td>\n",
       "      <td>2016-07-18</td>\n",
       "      <td>Pub_Dir</td>\n",
       "    </tr>\n",
       "    <tr>\n",
       "      <th>3</th>\n",
       "      <td>CLOSE</td>\n",
       "      <td>View</td>\n",
       "      <td>PDF</td>\n",
       "      <td>9400fd2e43d7dc2d054ca78806236ee1</td>\n",
       "      <td>MYPOLARISDRIVE</td>\n",
       "      <td>2016-07-18</td>\n",
       "      <td>Pub_Dir</td>\n",
       "    </tr>\n",
       "    <tr>\n",
       "      <th>4</th>\n",
       "      <td>OPEN</td>\n",
       "      <td>NoView</td>\n",
       "      <td>PDF</td>\n",
       "      <td>f191063c562691041dfa935ff0876975</td>\n",
       "      <td>OTHERAPP</td>\n",
       "      <td>2016-07-06</td>\n",
       "      <td>Main</td>\n",
       "    </tr>\n",
       "  </tbody>\n",
       "</table>\n",
       "</div>"
      ],
      "text/plain": [
       "  actiontype ismydoc  ext                         sessionid documentposition  \\\n",
       "0       OPEN  NoView  PDF  9400fd2e43d7dc2d054ca78806236ee1     LOCALSTORAGE   \n",
       "1      CLOSE  NoView  PDF  9400fd2e43d7dc2d054ca78806236ee1     LOCALSTORAGE   \n",
       "2       OPEN    View  PDF  9400fd2e43d7dc2d054ca78806236ee1   MYPOLARISDRIVE   \n",
       "3      CLOSE    View  PDF  9400fd2e43d7dc2d054ca78806236ee1   MYPOLARISDRIVE   \n",
       "4       OPEN  NoView  PDF  f191063c562691041dfa935ff0876975         OTHERAPP   \n",
       "\n",
       "    datetime   screen  \n",
       "0 2016-07-18  Per_Dir  \n",
       "1 2016-07-18  Per_Dir  \n",
       "2 2016-07-18  Pub_Dir  \n",
       "3 2016-07-18  Pub_Dir  \n",
       "4 2016-07-06     Main  "
      ]
     },
     "execution_count": 149,
     "metadata": {},
     "output_type": "execute_result"
    }
   ],
   "source": [
    "df.head()"
   ]
  },
  {
   "cell_type": "code",
   "execution_count": 150,
   "metadata": {},
   "outputs": [
    {
     "data": {
      "text/plain": [
       "PDF      82004\n",
       "DOCX     58303\n",
       "XLSX     52118\n",
       "HWP      26244\n",
       "DOC      24586\n",
       "XLS      24489\n",
       "PPTX     15385\n",
       "TXT       9814\n",
       "PPT       5382\n",
       "PPSX      2374\n",
       "ODT        820\n",
       "PPS        324\n",
       "JPG          9\n",
       "SHEET        5\n",
       "PNG          2\n",
       "WORD         2\n",
       "Name: ext, dtype: int64"
      ]
     },
     "execution_count": 150,
     "metadata": {},
     "output_type": "execute_result"
    }
   ],
   "source": [
    "df.ext.value_counts()"
   ]
  },
  {
   "cell_type": "code",
   "execution_count": 151,
   "metadata": {},
   "outputs": [],
   "source": [
    "ext_dic = {'DOCX': 'DOC',\n",
    "           'XLSX': 'XLS',\n",
    "           'PPTX': 'PPT',\n",
    "           'PPSX': 'PPT',\n",
    "           'PPS': 'PPT',\n",
    "           'ODT': 'TXT',\n",
    "           'PNG': 'JPG'}"
   ]
  },
  {
   "cell_type": "code",
   "execution_count": 155,
   "metadata": {},
   "outputs": [],
   "source": [
    "df['ext'] = df['ext'].replace(ext_dic)"
   ]
  },
  {
   "cell_type": "code",
   "execution_count": 156,
   "metadata": {},
   "outputs": [
    {
     "data": {
      "text/plain": [
       "DOC      82889\n",
       "PDF      82004\n",
       "XLS      76607\n",
       "HWP      26244\n",
       "PPT      23465\n",
       "TXT      10634\n",
       "JPG         11\n",
       "SHEET        5\n",
       "WORD         2\n",
       "Name: ext, dtype: int64"
      ]
     },
     "execution_count": 156,
     "metadata": {},
     "output_type": "execute_result"
    }
   ],
   "source": [
    "df['ext'].value_counts()"
   ]
  },
  {
   "cell_type": "markdown",
   "metadata": {},
   "source": [
    "### 2.6 Action Type 통일¶"
   ]
  },
  {
   "cell_type": "code",
   "execution_count": 157,
   "metadata": {},
   "outputs": [
    {
     "data": {
      "text/plain": [
       "OPEN            151802\n",
       "CLOSE           127922\n",
       "SAVE              9334\n",
       "RESET             7751\n",
       "SAVEAS            4960\n",
       "EXPORT_SAME         68\n",
       "EXPORT              19\n",
       "SAVEAS_OTHER         5\n",
       "Name: actiontype, dtype: int64"
      ]
     },
     "execution_count": 157,
     "metadata": {},
     "output_type": "execute_result"
    }
   ],
   "source": [
    "df.actiontype.value_counts()"
   ]
  },
  {
   "cell_type": "code",
   "execution_count": 158,
   "metadata": {},
   "outputs": [],
   "source": [
    "act_dic = {'SAVEAS': 'SAVE',\n",
    "           'SAVEAS_OTHER': 'SAVE',\n",
    "           'EXPORT_SAME': 'EXPORT'\n",
    "            }"
   ]
  },
  {
   "cell_type": "code",
   "execution_count": 160,
   "metadata": {},
   "outputs": [],
   "source": [
    "df['actiontype'] = df['actiontype'].replace(act_dic)"
   ]
  },
  {
   "cell_type": "code",
   "execution_count": 161,
   "metadata": {},
   "outputs": [
    {
     "data": {
      "text/plain": [
       "OPEN      151802\n",
       "CLOSE     127922\n",
       "SAVE       14299\n",
       "RESET       7751\n",
       "EXPORT        87\n",
       "Name: actiontype, dtype: int64"
      ]
     },
     "execution_count": 161,
     "metadata": {},
     "output_type": "execute_result"
    }
   ],
   "source": [
    "df['actiontype'].value_counts()"
   ]
  },
  {
   "cell_type": "markdown",
   "metadata": {},
   "source": [
    "### 2.7 신규 session_id 부여\n",
    "* 필수는 아니나, 계산량 감소를 위해 텍스트 사이즈 감량"
   ]
  },
  {
   "cell_type": "code",
   "execution_count": 164,
   "metadata": {},
   "outputs": [
    {
     "data": {
      "text/html": [
       "<div>\n",
       "<style scoped>\n",
       "    .dataframe tbody tr th:only-of-type {\n",
       "        vertical-align: middle;\n",
       "    }\n",
       "\n",
       "    .dataframe tbody tr th {\n",
       "        vertical-align: top;\n",
       "    }\n",
       "\n",
       "    .dataframe thead th {\n",
       "        text-align: right;\n",
       "    }\n",
       "</style>\n",
       "<table border=\"1\" class=\"dataframe\">\n",
       "  <thead>\n",
       "    <tr style=\"text-align: right;\">\n",
       "      <th></th>\n",
       "      <th>actiontype</th>\n",
       "      <th>ismydoc</th>\n",
       "      <th>ext</th>\n",
       "      <th>sessionid</th>\n",
       "      <th>documentposition</th>\n",
       "      <th>datetime</th>\n",
       "      <th>screen</th>\n",
       "    </tr>\n",
       "  </thead>\n",
       "  <tbody>\n",
       "    <tr>\n",
       "      <th>0</th>\n",
       "      <td>OPEN</td>\n",
       "      <td>NoView</td>\n",
       "      <td>PDF</td>\n",
       "      <td>9400fd2e43d7dc2d054ca78806236ee1</td>\n",
       "      <td>LOCALSTORAGE</td>\n",
       "      <td>2016-07-18</td>\n",
       "      <td>Per_Dir</td>\n",
       "    </tr>\n",
       "    <tr>\n",
       "      <th>1</th>\n",
       "      <td>CLOSE</td>\n",
       "      <td>NoView</td>\n",
       "      <td>PDF</td>\n",
       "      <td>9400fd2e43d7dc2d054ca78806236ee1</td>\n",
       "      <td>LOCALSTORAGE</td>\n",
       "      <td>2016-07-18</td>\n",
       "      <td>Per_Dir</td>\n",
       "    </tr>\n",
       "    <tr>\n",
       "      <th>2</th>\n",
       "      <td>OPEN</td>\n",
       "      <td>View</td>\n",
       "      <td>PDF</td>\n",
       "      <td>9400fd2e43d7dc2d054ca78806236ee1</td>\n",
       "      <td>MYPOLARISDRIVE</td>\n",
       "      <td>2016-07-18</td>\n",
       "      <td>Pub_Dir</td>\n",
       "    </tr>\n",
       "    <tr>\n",
       "      <th>3</th>\n",
       "      <td>CLOSE</td>\n",
       "      <td>View</td>\n",
       "      <td>PDF</td>\n",
       "      <td>9400fd2e43d7dc2d054ca78806236ee1</td>\n",
       "      <td>MYPOLARISDRIVE</td>\n",
       "      <td>2016-07-18</td>\n",
       "      <td>Pub_Dir</td>\n",
       "    </tr>\n",
       "    <tr>\n",
       "      <th>4</th>\n",
       "      <td>OPEN</td>\n",
       "      <td>NoView</td>\n",
       "      <td>PDF</td>\n",
       "      <td>f191063c562691041dfa935ff0876975</td>\n",
       "      <td>OTHERAPP</td>\n",
       "      <td>2016-07-06</td>\n",
       "      <td>Main</td>\n",
       "    </tr>\n",
       "    <tr>\n",
       "      <th>5</th>\n",
       "      <td>RESET</td>\n",
       "      <td>View</td>\n",
       "      <td>PDF</td>\n",
       "      <td>f191063c562691041dfa935ff0876975</td>\n",
       "      <td>OTHERAPP</td>\n",
       "      <td>2016-07-06</td>\n",
       "      <td>Main</td>\n",
       "    </tr>\n",
       "    <tr>\n",
       "      <th>6</th>\n",
       "      <td>CLOSE</td>\n",
       "      <td>NoView</td>\n",
       "      <td>PDF</td>\n",
       "      <td>3747719d8f6bdd334703320433928d5a</td>\n",
       "      <td>OTHERAPP</td>\n",
       "      <td>2016-07-20</td>\n",
       "      <td>Main</td>\n",
       "    </tr>\n",
       "    <tr>\n",
       "      <th>7</th>\n",
       "      <td>OPEN</td>\n",
       "      <td>NoView</td>\n",
       "      <td>PDF</td>\n",
       "      <td>3747719d8f6bdd334703320433928d5a</td>\n",
       "      <td>OTHERAPP</td>\n",
       "      <td>2016-07-20</td>\n",
       "      <td>Main</td>\n",
       "    </tr>\n",
       "    <tr>\n",
       "      <th>8</th>\n",
       "      <td>OPEN</td>\n",
       "      <td>NoView</td>\n",
       "      <td>PDF</td>\n",
       "      <td>3da5ab986c93803de1e25012d9972274</td>\n",
       "      <td>OTHERAPP</td>\n",
       "      <td>2016-07-28</td>\n",
       "      <td>Main</td>\n",
       "    </tr>\n",
       "    <tr>\n",
       "      <th>9</th>\n",
       "      <td>CLOSE</td>\n",
       "      <td>NoView</td>\n",
       "      <td>PDF</td>\n",
       "      <td>3da5ab986c93803de1e25012d9972274</td>\n",
       "      <td>OTHERAPP</td>\n",
       "      <td>2016-07-28</td>\n",
       "      <td>Main</td>\n",
       "    </tr>\n",
       "  </tbody>\n",
       "</table>\n",
       "</div>"
      ],
      "text/plain": [
       "  actiontype ismydoc  ext                         sessionid documentposition  \\\n",
       "0       OPEN  NoView  PDF  9400fd2e43d7dc2d054ca78806236ee1     LOCALSTORAGE   \n",
       "1      CLOSE  NoView  PDF  9400fd2e43d7dc2d054ca78806236ee1     LOCALSTORAGE   \n",
       "2       OPEN    View  PDF  9400fd2e43d7dc2d054ca78806236ee1   MYPOLARISDRIVE   \n",
       "3      CLOSE    View  PDF  9400fd2e43d7dc2d054ca78806236ee1   MYPOLARISDRIVE   \n",
       "4       OPEN  NoView  PDF  f191063c562691041dfa935ff0876975         OTHERAPP   \n",
       "5      RESET    View  PDF  f191063c562691041dfa935ff0876975         OTHERAPP   \n",
       "6      CLOSE  NoView  PDF  3747719d8f6bdd334703320433928d5a         OTHERAPP   \n",
       "7       OPEN  NoView  PDF  3747719d8f6bdd334703320433928d5a         OTHERAPP   \n",
       "8       OPEN  NoView  PDF  3da5ab986c93803de1e25012d9972274         OTHERAPP   \n",
       "9      CLOSE  NoView  PDF  3da5ab986c93803de1e25012d9972274         OTHERAPP   \n",
       "\n",
       "    datetime   screen  \n",
       "0 2016-07-18  Per_Dir  \n",
       "1 2016-07-18  Per_Dir  \n",
       "2 2016-07-18  Pub_Dir  \n",
       "3 2016-07-18  Pub_Dir  \n",
       "4 2016-07-06     Main  \n",
       "5 2016-07-06     Main  \n",
       "6 2016-07-20     Main  \n",
       "7 2016-07-20     Main  \n",
       "8 2016-07-28     Main  \n",
       "9 2016-07-28     Main  "
      ]
     },
     "execution_count": 164,
     "metadata": {},
     "output_type": "execute_result"
    }
   ],
   "source": [
    "df.head(10)"
   ]
  },
  {
   "cell_type": "code",
   "execution_count": 163,
   "metadata": {},
   "outputs": [
    {
     "data": {
      "text/plain": [
       "301861"
      ]
     },
     "execution_count": 163,
     "metadata": {},
     "output_type": "execute_result"
    }
   ],
   "source": [
    "len(df)"
   ]
  },
  {
   "cell_type": "code",
   "execution_count": 167,
   "metadata": {},
   "outputs": [
    {
     "data": {
      "text/plain": [
       "'9400fd2e43d7dc2d054ca78806236ee1'"
      ]
     },
     "execution_count": 167,
     "metadata": {},
     "output_type": "execute_result"
    }
   ],
   "source": [
    "df['sessionid'].iloc[0]"
   ]
  },
  {
   "cell_type": "code",
   "execution_count": 169,
   "metadata": {},
   "outputs": [],
   "source": [
    "s=[]\n",
    "j=0  # 초기값\n",
    "\n",
    "for i in range(len(df)-1):   # 현재행과 그다음행을 비교해야되기 때문에 i는 df길이보다 하나적어야함.\n",
    "    if df['sessionid'].iloc[i]==df['sessionid'].iloc[i+1]:   # 현재행과 다음행의 세션id가 같으면\n",
    "        s.append(j)   # j값 그대로 append\n",
    "    else:\n",
    "        s.append(j)  \n",
    "        j+=1  # 현재행과 다음행의 세션id가 다르면 j를 1 올려줌."
   ]
  },
  {
   "cell_type": "code",
   "execution_count": 172,
   "metadata": {},
   "outputs": [
    {
     "data": {
      "text/plain": [
       "[0, 0, 0, 0, 1, 1, 2, 2, 3, 3, 3, 4, 4, 4, 5, 5, 6, 7, 7, 7]"
      ]
     },
     "execution_count": 172,
     "metadata": {},
     "output_type": "execute_result"
    }
   ],
   "source": [
    "s[:20]"
   ]
  },
  {
   "cell_type": "code",
   "execution_count": 179,
   "metadata": {},
   "outputs": [
    {
     "data": {
      "text/plain": [
       "301860"
      ]
     },
     "execution_count": 179,
     "metadata": {},
     "output_type": "execute_result"
    }
   ],
   "source": [
    "# 전체 df 길이는 301861인데 마지막에 하나가 없음.\n",
    "len(s)"
   ]
  },
  {
   "cell_type": "code",
   "execution_count": 176,
   "metadata": {},
   "outputs": [],
   "source": [
    "df['sessionid']  = pd.Series(['sess' + str(x) for x in s]) # convert to string as add character 's'"
   ]
  },
  {
   "cell_type": "code",
   "execution_count": 177,
   "metadata": {},
   "outputs": [
    {
     "data": {
      "text/html": [
       "<div>\n",
       "<style scoped>\n",
       "    .dataframe tbody tr th:only-of-type {\n",
       "        vertical-align: middle;\n",
       "    }\n",
       "\n",
       "    .dataframe tbody tr th {\n",
       "        vertical-align: top;\n",
       "    }\n",
       "\n",
       "    .dataframe thead th {\n",
       "        text-align: right;\n",
       "    }\n",
       "</style>\n",
       "<table border=\"1\" class=\"dataframe\">\n",
       "  <thead>\n",
       "    <tr style=\"text-align: right;\">\n",
       "      <th></th>\n",
       "      <th>actiontype</th>\n",
       "      <th>ismydoc</th>\n",
       "      <th>ext</th>\n",
       "      <th>sessionid</th>\n",
       "      <th>documentposition</th>\n",
       "      <th>datetime</th>\n",
       "      <th>screen</th>\n",
       "    </tr>\n",
       "  </thead>\n",
       "  <tbody>\n",
       "    <tr>\n",
       "      <th>0</th>\n",
       "      <td>OPEN</td>\n",
       "      <td>NoView</td>\n",
       "      <td>PDF</td>\n",
       "      <td>sess0</td>\n",
       "      <td>LOCALSTORAGE</td>\n",
       "      <td>2016-07-18</td>\n",
       "      <td>Per_Dir</td>\n",
       "    </tr>\n",
       "    <tr>\n",
       "      <th>1</th>\n",
       "      <td>CLOSE</td>\n",
       "      <td>NoView</td>\n",
       "      <td>PDF</td>\n",
       "      <td>sess0</td>\n",
       "      <td>LOCALSTORAGE</td>\n",
       "      <td>2016-07-18</td>\n",
       "      <td>Per_Dir</td>\n",
       "    </tr>\n",
       "    <tr>\n",
       "      <th>2</th>\n",
       "      <td>OPEN</td>\n",
       "      <td>View</td>\n",
       "      <td>PDF</td>\n",
       "      <td>sess0</td>\n",
       "      <td>MYPOLARISDRIVE</td>\n",
       "      <td>2016-07-18</td>\n",
       "      <td>Pub_Dir</td>\n",
       "    </tr>\n",
       "    <tr>\n",
       "      <th>3</th>\n",
       "      <td>CLOSE</td>\n",
       "      <td>View</td>\n",
       "      <td>PDF</td>\n",
       "      <td>sess0</td>\n",
       "      <td>MYPOLARISDRIVE</td>\n",
       "      <td>2016-07-18</td>\n",
       "      <td>Pub_Dir</td>\n",
       "    </tr>\n",
       "    <tr>\n",
       "      <th>4</th>\n",
       "      <td>OPEN</td>\n",
       "      <td>NoView</td>\n",
       "      <td>PDF</td>\n",
       "      <td>sess1</td>\n",
       "      <td>OTHERAPP</td>\n",
       "      <td>2016-07-06</td>\n",
       "      <td>Main</td>\n",
       "    </tr>\n",
       "  </tbody>\n",
       "</table>\n",
       "</div>"
      ],
      "text/plain": [
       "  actiontype ismydoc  ext sessionid documentposition   datetime   screen\n",
       "0       OPEN  NoView  PDF     sess0     LOCALSTORAGE 2016-07-18  Per_Dir\n",
       "1      CLOSE  NoView  PDF     sess0     LOCALSTORAGE 2016-07-18  Per_Dir\n",
       "2       OPEN    View  PDF     sess0   MYPOLARISDRIVE 2016-07-18  Pub_Dir\n",
       "3      CLOSE    View  PDF     sess0   MYPOLARISDRIVE 2016-07-18  Pub_Dir\n",
       "4       OPEN  NoView  PDF     sess1         OTHERAPP 2016-07-06     Main"
      ]
     },
     "execution_count": 177,
     "metadata": {},
     "output_type": "execute_result"
    }
   ],
   "source": [
    "df.head(5)"
   ]
  },
  {
   "cell_type": "code",
   "execution_count": 178,
   "metadata": {},
   "outputs": [
    {
     "data": {
      "text/html": [
       "<div>\n",
       "<style scoped>\n",
       "    .dataframe tbody tr th:only-of-type {\n",
       "        vertical-align: middle;\n",
       "    }\n",
       "\n",
       "    .dataframe tbody tr th {\n",
       "        vertical-align: top;\n",
       "    }\n",
       "\n",
       "    .dataframe thead th {\n",
       "        text-align: right;\n",
       "    }\n",
       "</style>\n",
       "<table border=\"1\" class=\"dataframe\">\n",
       "  <thead>\n",
       "    <tr style=\"text-align: right;\">\n",
       "      <th></th>\n",
       "      <th>actiontype</th>\n",
       "      <th>ismydoc</th>\n",
       "      <th>ext</th>\n",
       "      <th>sessionid</th>\n",
       "      <th>documentposition</th>\n",
       "      <th>datetime</th>\n",
       "      <th>screen</th>\n",
       "    </tr>\n",
       "  </thead>\n",
       "  <tbody>\n",
       "    <tr>\n",
       "      <th>301856</th>\n",
       "      <td>CLOSE</td>\n",
       "      <td>View</td>\n",
       "      <td>XLS</td>\n",
       "      <td>sess132151</td>\n",
       "      <td>OTHERAPP</td>\n",
       "      <td>2016-07-07</td>\n",
       "      <td>Main</td>\n",
       "    </tr>\n",
       "    <tr>\n",
       "      <th>301857</th>\n",
       "      <td>OPEN</td>\n",
       "      <td>NoView</td>\n",
       "      <td>DOC</td>\n",
       "      <td>sess132152</td>\n",
       "      <td>OTHERAPP</td>\n",
       "      <td>2016-07-05</td>\n",
       "      <td>Main</td>\n",
       "    </tr>\n",
       "    <tr>\n",
       "      <th>301858</th>\n",
       "      <td>RESET</td>\n",
       "      <td>View</td>\n",
       "      <td>DOC</td>\n",
       "      <td>sess132152</td>\n",
       "      <td>OTHERAPP</td>\n",
       "      <td>2016-07-05</td>\n",
       "      <td>Main</td>\n",
       "    </tr>\n",
       "    <tr>\n",
       "      <th>301859</th>\n",
       "      <td>OPEN</td>\n",
       "      <td>NoView</td>\n",
       "      <td>PPT</td>\n",
       "      <td>sess132153</td>\n",
       "      <td>OTHERAPP</td>\n",
       "      <td>2016-07-14</td>\n",
       "      <td>Main</td>\n",
       "    </tr>\n",
       "    <tr>\n",
       "      <th>301860</th>\n",
       "      <td>CLOSE</td>\n",
       "      <td>NoView</td>\n",
       "      <td>PPT</td>\n",
       "      <td>NaN</td>\n",
       "      <td>OTHERAPP</td>\n",
       "      <td>2016-07-14</td>\n",
       "      <td>Main</td>\n",
       "    </tr>\n",
       "  </tbody>\n",
       "</table>\n",
       "</div>"
      ],
      "text/plain": [
       "       actiontype ismydoc  ext   sessionid documentposition   datetime screen\n",
       "301856      CLOSE    View  XLS  sess132151         OTHERAPP 2016-07-07   Main\n",
       "301857       OPEN  NoView  DOC  sess132152         OTHERAPP 2016-07-05   Main\n",
       "301858      RESET    View  DOC  sess132152         OTHERAPP 2016-07-05   Main\n",
       "301859       OPEN  NoView  PPT  sess132153         OTHERAPP 2016-07-14   Main\n",
       "301860      CLOSE  NoView  PPT         NaN         OTHERAPP 2016-07-14   Main"
      ]
     },
     "execution_count": 178,
     "metadata": {},
     "output_type": "execute_result"
    }
   ],
   "source": [
    "df.tail(5)"
   ]
  },
  {
   "cell_type": "code",
   "execution_count": 188,
   "metadata": {},
   "outputs": [
    {
     "data": {
      "text/plain": [
       "132154"
      ]
     },
     "execution_count": 188,
     "metadata": {},
     "output_type": "execute_result"
    }
   ],
   "source": [
    "len(set(s))"
   ]
  },
  {
   "cell_type": "markdown",
   "metadata": {},
   "source": [
    "**Quiz. 마지막 301860 행의 sessionid NaN 값을 바로 위의 값 ses132153 으로 대체하려면?**"
   ]
  },
  {
   "cell_type": "code",
   "execution_count": 199,
   "metadata": {},
   "outputs": [],
   "source": [
    "df['sessionid'][-1:]=pd.Series(['sess'+str(s[-1])])"
   ]
  },
  {
   "cell_type": "code",
   "execution_count": 200,
   "metadata": {},
   "outputs": [
    {
     "data": {
      "text/html": [
       "<div>\n",
       "<style scoped>\n",
       "    .dataframe tbody tr th:only-of-type {\n",
       "        vertical-align: middle;\n",
       "    }\n",
       "\n",
       "    .dataframe tbody tr th {\n",
       "        vertical-align: top;\n",
       "    }\n",
       "\n",
       "    .dataframe thead th {\n",
       "        text-align: right;\n",
       "    }\n",
       "</style>\n",
       "<table border=\"1\" class=\"dataframe\">\n",
       "  <thead>\n",
       "    <tr style=\"text-align: right;\">\n",
       "      <th></th>\n",
       "      <th>actiontype</th>\n",
       "      <th>ismydoc</th>\n",
       "      <th>ext</th>\n",
       "      <th>sessionid</th>\n",
       "      <th>documentposition</th>\n",
       "      <th>datetime</th>\n",
       "      <th>screen</th>\n",
       "    </tr>\n",
       "  </thead>\n",
       "  <tbody>\n",
       "    <tr>\n",
       "      <th>301856</th>\n",
       "      <td>CLOSE</td>\n",
       "      <td>View</td>\n",
       "      <td>XLS</td>\n",
       "      <td>sess132151</td>\n",
       "      <td>OTHERAPP</td>\n",
       "      <td>2016-07-07</td>\n",
       "      <td>Main</td>\n",
       "    </tr>\n",
       "    <tr>\n",
       "      <th>301857</th>\n",
       "      <td>OPEN</td>\n",
       "      <td>NoView</td>\n",
       "      <td>DOC</td>\n",
       "      <td>sess132152</td>\n",
       "      <td>OTHERAPP</td>\n",
       "      <td>2016-07-05</td>\n",
       "      <td>Main</td>\n",
       "    </tr>\n",
       "    <tr>\n",
       "      <th>301858</th>\n",
       "      <td>RESET</td>\n",
       "      <td>View</td>\n",
       "      <td>DOC</td>\n",
       "      <td>sess132152</td>\n",
       "      <td>OTHERAPP</td>\n",
       "      <td>2016-07-05</td>\n",
       "      <td>Main</td>\n",
       "    </tr>\n",
       "    <tr>\n",
       "      <th>301859</th>\n",
       "      <td>OPEN</td>\n",
       "      <td>NoView</td>\n",
       "      <td>PPT</td>\n",
       "      <td>sess132153</td>\n",
       "      <td>OTHERAPP</td>\n",
       "      <td>2016-07-14</td>\n",
       "      <td>Main</td>\n",
       "    </tr>\n",
       "    <tr>\n",
       "      <th>301860</th>\n",
       "      <td>CLOSE</td>\n",
       "      <td>NoView</td>\n",
       "      <td>PPT</td>\n",
       "      <td>sess132153</td>\n",
       "      <td>OTHERAPP</td>\n",
       "      <td>2016-07-14</td>\n",
       "      <td>Main</td>\n",
       "    </tr>\n",
       "  </tbody>\n",
       "</table>\n",
       "</div>"
      ],
      "text/plain": [
       "       actiontype ismydoc  ext   sessionid documentposition   datetime screen\n",
       "301856      CLOSE    View  XLS  sess132151         OTHERAPP 2016-07-07   Main\n",
       "301857       OPEN  NoView  DOC  sess132152         OTHERAPP 2016-07-05   Main\n",
       "301858      RESET    View  DOC  sess132152         OTHERAPP 2016-07-05   Main\n",
       "301859       OPEN  NoView  PPT  sess132153         OTHERAPP 2016-07-14   Main\n",
       "301860      CLOSE  NoView  PPT  sess132153         OTHERAPP 2016-07-14   Main"
      ]
     },
     "execution_count": 200,
     "metadata": {},
     "output_type": "execute_result"
    }
   ],
   "source": [
    "df.tail(5)"
   ]
  },
  {
   "cell_type": "markdown",
   "metadata": {},
   "source": [
    "--------------------------------------------------------\n",
    "## 3. EDA (탐색적 데이터 분석)"
   ]
  },
  {
   "cell_type": "code",
   "execution_count": null,
   "metadata": {},
   "outputs": [],
   "source": []
  },
  {
   "cell_type": "code",
   "execution_count": null,
   "metadata": {},
   "outputs": [],
   "source": []
  },
  {
   "cell_type": "code",
   "execution_count": null,
   "metadata": {},
   "outputs": [],
   "source": []
  },
  {
   "cell_type": "code",
   "execution_count": null,
   "metadata": {},
   "outputs": [],
   "source": []
  },
  {
   "cell_type": "code",
   "execution_count": null,
   "metadata": {},
   "outputs": [],
   "source": []
  },
  {
   "cell_type": "code",
   "execution_count": null,
   "metadata": {},
   "outputs": [],
   "source": []
  },
  {
   "cell_type": "code",
   "execution_count": null,
   "metadata": {},
   "outputs": [],
   "source": []
  }
 ],
 "metadata": {
  "kernelspec": {
   "display_name": "suhyun2",
   "language": "python",
   "name": "suhyun2"
  },
  "language_info": {
   "codemirror_mode": {
    "name": "ipython",
    "version": 3
   },
   "file_extension": ".py",
   "mimetype": "text/x-python",
   "name": "python",
   "nbconvert_exporter": "python",
   "pygments_lexer": "ipython3",
   "version": "3.6.8"
  }
 },
 "nbformat": 4,
 "nbformat_minor": 2
}
