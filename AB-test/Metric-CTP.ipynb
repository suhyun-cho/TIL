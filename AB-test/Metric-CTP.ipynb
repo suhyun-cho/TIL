{
 "cells": [
  {
   "cell_type": "markdown",
   "metadata": {},
   "source": [
    "## AB-test overview\n",
    "http://napitupulu-jon.appspot.com/posts/abtesting-overview-udacity.html\n",
    "\n",
    "예시 ) 만약 2명의 사용자가 있고, 한명은 클릭을 5번, 한명은 클릭을 0번 발생할 경우 <br>\n",
    "* CTR = clicks/person = 5/2 = 2.5\n",
    "    * visibility적인것을 측정할때, 버튼이 바뀌거나 하는\n",
    "    * CTP는 매번 바뀔때마다 클릭수를 집계하기 위해서 \n",
    "* CTP (Click through probabilities)= atleastone/person = 1/2 = 0.5\n",
    "    * CTP는 impact를 측정한다. CTP는 사용자가 한번이상 클릭한 경우의 문제점을 해결해준다.\n",
    "\n",
    "click-through-probability에는 오직 두개의 확률만 있다. 클릭을 한경우와, 안한경우. <br>\n",
    "이것은 이항분포를 사용할 수 있다는 것을 의미한다. <br>\n",
    "Binomial은 정규분포를 따르기 위해서 클릭과 노클릭이 적어도 5번은 있는 샘플 사이즈가 필요하다.\n"
   ]
  },
  {
   "cell_type": "markdown",
   "metadata": {},
   "source": [
    "## How to Do A/B Testing: Checklist You'll Want to Bookmark\n",
    "https://blog.hubspot.com/marketing/how-to-do-a-b-testing\n",
    "\n",
    "1. A/B테스트란 무엇인가\n",
    "* 두개의 변수로 나눌수 있는 한 컨텐츠에서 서로다른 두 개의 버전을 만들어야 한다. <br>\n",
    "그다음, 두 버전에 두개의 비슷한 수의 audiences를 배치하고, 특정 기간 동안에 어떤것이 더 성과가 좋은지를 분석한다. <br>\n",
    "여기서는 어떤 마케팅 컨텐츠가 성과가 좋은지 마케터가 알 수 있도록 도와준다. 여기에서는 웹사이트의 전환률을 올릴수있는 두가지 타입의 A/B테스트를 말해줄 것이다.\n",
    "> Example1 : 사용자 경험 테스트\n",
    "* 만약에 당신이 특정 call-to-action(CTA) 사이드바에 놓는 대신 홈페이지 상단에 두면 CTR을 개선할 수 있을지를 보고자 한다. <br>\n",
    "가급적이면, 두 버전이 노출되는 사용자 퍼센테이지는 같은게 좋다. \n",
    "\n",
    "> Example2. 디자인 테스트\n",
    "* CTA 버튼의 색깔을 바꾸면 CTR을 올릴 수 있을지 궁금하다고 할 경우. <br>\n",
    "만약에 빨간 버튼을 썼다가 초록색으로 바꿨을 때 클릭이 더 잘나왔다면"
   ]
  },
  {
   "cell_type": "code",
   "execution_count": null,
   "metadata": {},
   "outputs": [],
   "source": []
  },
  {
   "cell_type": "code",
   "execution_count": null,
   "metadata": {},
   "outputs": [],
   "source": []
  }
 ],
 "metadata": {
  "kernelspec": {
   "display_name": "suhyun3",
   "language": "python",
   "name": "suhyun3"
  },
  "language_info": {
   "codemirror_mode": {
    "name": "ipython",
    "version": 3
   },
   "file_extension": ".py",
   "mimetype": "text/x-python",
   "name": "python",
   "nbconvert_exporter": "python",
   "pygments_lexer": "ipython3",
   "version": "3.7.4"
  }
 },
 "nbformat": 4,
 "nbformat_minor": 4
}
