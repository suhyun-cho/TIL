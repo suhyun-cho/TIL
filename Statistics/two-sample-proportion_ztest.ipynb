{
 "cells": [
  {
   "cell_type": "markdown",
   "metadata": {},
   "source": [
    "## 모비율검정\n",
    "\n",
    "- 2sample test"
   ]
  },
  {
   "cell_type": "markdown",
   "metadata": {},
   "source": [
    "## 양측검정,단측검정\n",
    "출처: https://dbrang.tistory.com/1407\n",
    "\n",
    "- 양측 검정이 단측 검정보다 위험도가 낮다.\n",
    "- 위 사진에서 볼 수 있듯이, 기각역이 양측 검정이 단측 검정보다 끝 쪽에 있기 때문에 H_0를 채택할 확률이 높아진다. \n",
    "    - 그렇기 때문에 양측 검정은 H_0를 채택하고자 할 때 (즉, 두 값이 같음을 보이고자 할 때) 사용한다. \n",
    "    - 반면에 단측 검정은 H_1을 채택하고자 할 때 (즉, 한쪽 값이 더 크다는 것을 보이고자 할 때) 사용한다.\n",
    "<br>\n",
    "- m - m_0 >0 이면 우측검정\n",
    "- m - m_0 <0 이면 좌측검정\n",
    "    * 이번 검정의 경우 푸시 이후 리텐션이 더 좋다는 것이므로 좌측검정(차이가 0보다 작다) 수행\n",
    "\n",
    "## 요약\n",
    "푸시 받지않은 유저 리텐션 = x, 푸시 받은유저 리텐션 = y라 하면, 귀무가설과 대립가설은 다음과 같다.\n",
    "\n",
    "* H_0: x = y (리텐션 변화가 없다)\n",
    "* H_1: x - y < 0 (리텐션 증가한다)\n"
   ]
  },
  {
   "cell_type": "markdown",
   "metadata": {},
   "source": [
    "## two-sample proportion_ztest in python\n",
    "* 파라미터\n",
    "> * count\n",
    "    * 각각 독립적인 샘플에서 성공한 횟수 (이경우 실험군, 대조군 각각의 재방문 유저수)\n",
    "> * nob \n",
    "    * 전체 관찰 횟수 (이경우 실험군,대조군 각각의 총 유저수)\n",
    "\n",
    "* 결과값\n",
    "> * zstat\n",
    "    * test statistic for the z-test\n",
    "> * p-value\n",
    "    * p-value for the z-test"
   ]
  },
  {
   "cell_type": "code",
   "execution_count": 192,
   "metadata": {},
   "outputs": [],
   "source": [
    "import pandas as pd\n",
    "import numpy as np\n",
    "import seaborn as sns\n",
    "from statsmodels.stats.proportion import proportions_ztest"
   ]
  },
  {
   "cell_type": "markdown",
   "metadata": {},
   "source": [
    "-------\n",
    "### 예제\n",
    "- ex) 복날에 A회사 사람들 300명 중 100명이 삼계탕을 먹었고, B회사 사람들 400명 중 170명이 삼계탕을 먹었다. 비율이 같은가?\n",
    "\n",
    "> 귀무가설이 두 prop이 같다 (prop[0] = prop[1])이므로 <br>\n",
    "> p-value <0.05 로 기각되어야 두개가 다르다고 할 수 있음.\n"
   ]
  },
  {
   "cell_type": "code",
   "execution_count": 1,
   "metadata": {},
   "outputs": [
    {
     "name": "stdout",
     "output_type": "stream",
     "text": [
      "-2.4656701201792273\n",
      "0.013675721698622408\n"
     ]
    }
   ],
   "source": [
    "count = np.array([100, 170])\n",
    "nobs = np.array([300, 400])\n",
    "\n",
    "z, p = proportions_ztest(count=count, nobs=nobs, value=0)\n",
    "print(z)\n",
    "print(p)"
   ]
  },
  {
   "cell_type": "code",
   "execution_count": 2,
   "metadata": {},
   "outputs": [
    {
     "data": {
      "text/plain": [
       "array([100, 170])"
      ]
     },
     "execution_count": 2,
     "metadata": {},
     "output_type": "execute_result"
    }
   ],
   "source": [
    "count"
   ]
  },
  {
   "cell_type": "markdown",
   "metadata": {},
   "source": [
    "----------\n",
    "### 데이터 불러오기"
   ]
  },
  {
   "cell_type": "code",
   "execution_count": 14,
   "metadata": {},
   "outputs": [],
   "source": [
    "df=pd.read_csv('./profile_push_retention.csv')\n",
    "df.drop('Unnamed: 7', axis = 1, inplace = True)"
   ]
  },
  {
   "cell_type": "code",
   "execution_count": 272,
   "metadata": {},
   "outputs": [
    {
     "data": {
      "text/html": [
       "<div>\n",
       "<style scoped>\n",
       "    .dataframe tbody tr th:only-of-type {\n",
       "        vertical-align: middle;\n",
       "    }\n",
       "\n",
       "    .dataframe tbody tr th {\n",
       "        vertical-align: top;\n",
       "    }\n",
       "\n",
       "    .dataframe thead th {\n",
       "        text-align: right;\n",
       "    }\n",
       "</style>\n",
       "<table border=\"1\" class=\"dataframe\">\n",
       "  <thead>\n",
       "    <tr style=\"text-align: right;\">\n",
       "      <th></th>\n",
       "      <th>push_dt</th>\n",
       "      <th>grp</th>\n",
       "      <th>users</th>\n",
       "      <th>D0toD1</th>\n",
       "      <th>D0toD6</th>\n",
       "      <th>D0toD1_retention_rate</th>\n",
       "      <th>D0toD6_retention_rate</th>\n",
       "    </tr>\n",
       "  </thead>\n",
       "  <tbody>\n",
       "    <tr>\n",
       "      <th>0</th>\n",
       "      <td>2021.6.15</td>\n",
       "      <td>control</td>\n",
       "      <td>8642</td>\n",
       "      <td>1140</td>\n",
       "      <td>2438</td>\n",
       "      <td>13.19</td>\n",
       "      <td>28.21</td>\n",
       "    </tr>\n",
       "    <tr>\n",
       "      <th>1</th>\n",
       "      <td>2021.6.15</td>\n",
       "      <td>exp</td>\n",
       "      <td>8541</td>\n",
       "      <td>1148</td>\n",
       "      <td>2440</td>\n",
       "      <td>13.44</td>\n",
       "      <td>28.57</td>\n",
       "    </tr>\n",
       "    <tr>\n",
       "      <th>2</th>\n",
       "      <td>2021.6.16</td>\n",
       "      <td>control</td>\n",
       "      <td>8451</td>\n",
       "      <td>1110</td>\n",
       "      <td>2287</td>\n",
       "      <td>13.13</td>\n",
       "      <td>27.06</td>\n",
       "    </tr>\n",
       "    <tr>\n",
       "      <th>3</th>\n",
       "      <td>2021.6.16</td>\n",
       "      <td>exp</td>\n",
       "      <td>8500</td>\n",
       "      <td>1316</td>\n",
       "      <td>2436</td>\n",
       "      <td>15.48</td>\n",
       "      <td>28.66</td>\n",
       "    </tr>\n",
       "    <tr>\n",
       "      <th>4</th>\n",
       "      <td>2021.6.17</td>\n",
       "      <td>control</td>\n",
       "      <td>8389</td>\n",
       "      <td>1252</td>\n",
       "      <td>2428</td>\n",
       "      <td>14.92</td>\n",
       "      <td>28.94</td>\n",
       "    </tr>\n",
       "    <tr>\n",
       "      <th>5</th>\n",
       "      <td>2021.6.17</td>\n",
       "      <td>exp</td>\n",
       "      <td>8354</td>\n",
       "      <td>1469</td>\n",
       "      <td>2506</td>\n",
       "      <td>17.58</td>\n",
       "      <td>30.00</td>\n",
       "    </tr>\n",
       "    <tr>\n",
       "      <th>6</th>\n",
       "      <td>2021.6.18</td>\n",
       "      <td>control</td>\n",
       "      <td>9105</td>\n",
       "      <td>1498</td>\n",
       "      <td>2769</td>\n",
       "      <td>16.45</td>\n",
       "      <td>30.41</td>\n",
       "    </tr>\n",
       "    <tr>\n",
       "      <th>7</th>\n",
       "      <td>2021.6.18</td>\n",
       "      <td>exp</td>\n",
       "      <td>9142</td>\n",
       "      <td>1680</td>\n",
       "      <td>2919</td>\n",
       "      <td>18.38</td>\n",
       "      <td>31.93</td>\n",
       "    </tr>\n",
       "    <tr>\n",
       "      <th>8</th>\n",
       "      <td>2021.6.19</td>\n",
       "      <td>control</td>\n",
       "      <td>9513</td>\n",
       "      <td>1699</td>\n",
       "      <td>3147</td>\n",
       "      <td>17.86</td>\n",
       "      <td>33.08</td>\n",
       "    </tr>\n",
       "    <tr>\n",
       "      <th>9</th>\n",
       "      <td>2021.6.19</td>\n",
       "      <td>exp</td>\n",
       "      <td>9555</td>\n",
       "      <td>1849</td>\n",
       "      <td>3226</td>\n",
       "      <td>19.35</td>\n",
       "      <td>33.76</td>\n",
       "    </tr>\n",
       "    <tr>\n",
       "      <th>10</th>\n",
       "      <td>2021.6.20</td>\n",
       "      <td>control</td>\n",
       "      <td>9432</td>\n",
       "      <td>1445</td>\n",
       "      <td>2918</td>\n",
       "      <td>15.32</td>\n",
       "      <td>30.94</td>\n",
       "    </tr>\n",
       "    <tr>\n",
       "      <th>11</th>\n",
       "      <td>2021.6.20</td>\n",
       "      <td>exp</td>\n",
       "      <td>9534</td>\n",
       "      <td>1794</td>\n",
       "      <td>3160</td>\n",
       "      <td>18.82</td>\n",
       "      <td>33.14</td>\n",
       "    </tr>\n",
       "    <tr>\n",
       "      <th>12</th>\n",
       "      <td>2021.6.21</td>\n",
       "      <td>control</td>\n",
       "      <td>9875</td>\n",
       "      <td>1613</td>\n",
       "      <td>2815</td>\n",
       "      <td>16.33</td>\n",
       "      <td>28.51</td>\n",
       "    </tr>\n",
       "    <tr>\n",
       "      <th>13</th>\n",
       "      <td>2021.6.21</td>\n",
       "      <td>exp</td>\n",
       "      <td>9792</td>\n",
       "      <td>1778</td>\n",
       "      <td>2954</td>\n",
       "      <td>18.16</td>\n",
       "      <td>30.17</td>\n",
       "    </tr>\n",
       "  </tbody>\n",
       "</table>\n",
       "</div>"
      ],
      "text/plain": [
       "      push_dt      grp  users  D0toD1  D0toD6  D0toD1_retention_rate  \\\n",
       "0   2021.6.15  control   8642    1140    2438                  13.19   \n",
       "1   2021.6.15      exp   8541    1148    2440                  13.44   \n",
       "2   2021.6.16  control   8451    1110    2287                  13.13   \n",
       "3   2021.6.16      exp   8500    1316    2436                  15.48   \n",
       "4   2021.6.17  control   8389    1252    2428                  14.92   \n",
       "5   2021.6.17      exp   8354    1469    2506                  17.58   \n",
       "6   2021.6.18  control   9105    1498    2769                  16.45   \n",
       "7   2021.6.18      exp   9142    1680    2919                  18.38   \n",
       "8   2021.6.19  control   9513    1699    3147                  17.86   \n",
       "9   2021.6.19      exp   9555    1849    3226                  19.35   \n",
       "10  2021.6.20  control   9432    1445    2918                  15.32   \n",
       "11  2021.6.20      exp   9534    1794    3160                  18.82   \n",
       "12  2021.6.21  control   9875    1613    2815                  16.33   \n",
       "13  2021.6.21      exp   9792    1778    2954                  18.16   \n",
       "\n",
       "    D0toD6_retention_rate  \n",
       "0                   28.21  \n",
       "1                   28.57  \n",
       "2                   27.06  \n",
       "3                   28.66  \n",
       "4                   28.94  \n",
       "5                   30.00  \n",
       "6                   30.41  \n",
       "7                   31.93  \n",
       "8                   33.08  \n",
       "9                   33.76  \n",
       "10                  30.94  \n",
       "11                  33.14  \n",
       "12                  28.51  \n",
       "13                  30.17  "
      ]
     },
     "execution_count": 272,
     "metadata": {},
     "output_type": "execute_result"
    }
   ],
   "source": [
    "df"
   ]
  },
  {
   "cell_type": "markdown",
   "metadata": {},
   "source": [
    "### D0toD1 , D0toD6 리텐션 모비율검정"
   ]
  },
  {
   "cell_type": "code",
   "execution_count": 355,
   "metadata": {},
   "outputs": [
    {
     "data": {
      "text/html": [
       "<div>\n",
       "<style scoped>\n",
       "    .dataframe tbody tr th:only-of-type {\n",
       "        vertical-align: middle;\n",
       "    }\n",
       "\n",
       "    .dataframe tbody tr th {\n",
       "        vertical-align: top;\n",
       "    }\n",
       "\n",
       "    .dataframe thead th {\n",
       "        text-align: right;\n",
       "    }\n",
       "</style>\n",
       "<table border=\"1\" class=\"dataframe\">\n",
       "  <thead>\n",
       "    <tr style=\"text-align: right;\">\n",
       "      <th></th>\n",
       "      <th>D0toD1</th>\n",
       "      <th>D0toD6</th>\n",
       "    </tr>\n",
       "    <tr>\n",
       "      <th>dt</th>\n",
       "      <th></th>\n",
       "      <th></th>\n",
       "    </tr>\n",
       "  </thead>\n",
       "  <tbody>\n",
       "    <tr>\n",
       "      <th>2021.6.15</th>\n",
       "      <td>0</td>\n",
       "      <td>0</td>\n",
       "    </tr>\n",
       "    <tr>\n",
       "      <th>2021.6.16</th>\n",
       "      <td>1</td>\n",
       "      <td>1</td>\n",
       "    </tr>\n",
       "    <tr>\n",
       "      <th>2021.6.17</th>\n",
       "      <td>1</td>\n",
       "      <td>0</td>\n",
       "    </tr>\n",
       "    <tr>\n",
       "      <th>2021.6.18</th>\n",
       "      <td>1</td>\n",
       "      <td>1</td>\n",
       "    </tr>\n",
       "    <tr>\n",
       "      <th>2021.6.19</th>\n",
       "      <td>1</td>\n",
       "      <td>0</td>\n",
       "    </tr>\n",
       "    <tr>\n",
       "      <th>2021.6.20</th>\n",
       "      <td>1</td>\n",
       "      <td>1</td>\n",
       "    </tr>\n",
       "    <tr>\n",
       "      <th>2021.6.21</th>\n",
       "      <td>1</td>\n",
       "      <td>1</td>\n",
       "    </tr>\n",
       "  </tbody>\n",
       "</table>\n",
       "</div>"
      ],
      "text/plain": [
       "           D0toD1  D0toD6\n",
       "dt                       \n",
       "2021.6.15       0       0\n",
       "2021.6.16       1       1\n",
       "2021.6.17       1       0\n",
       "2021.6.18       1       1\n",
       "2021.6.19       1       0\n",
       "2021.6.20       1       1\n",
       "2021.6.21       1       1"
      ]
     },
     "execution_count": 355,
     "metadata": {},
     "output_type": "execute_result"
    }
   ],
   "source": [
    "ret_col=df.iloc[:,3:5].columns.tolist()\n",
    "df_ret_test=pd.DataFrame(df['push_dt'].unique(),columns=['dt'])\n",
    "\n",
    "for col in ret_col:\n",
    "    users_list=[]\n",
    "    ret_list=[]\n",
    "    for i in range(0,len(df),2):\n",
    "        u=np.array([df[i:i+2]['users'][i], df[i:i+2]['users'][i+1]])\n",
    "        users_list.append(u) # users_list=7개\n",
    "    \n",
    "        r=np.array([df[i:i+2][col][i], df[i:i+2][col][i+1]])\n",
    "        ret_list.append(r)  #ret_list=7개*2=14개\n",
    "\n",
    "        ########## two-sample proportions_ztest\n",
    "        result_list=[]\n",
    "        for j in range(len(users_list)):\n",
    "            result=0\n",
    "            \n",
    "            u_list=users_list[j]\n",
    "            r_list=ret_list[j]\n",
    "\n",
    "            # p1 < p2 임을 증명하고 싶기 때문에 alternatvie='smaller' 그 반대이면 'larger'\n",
    "            z,p=proportions_ztest(count=r_list,nobs=u_list,alternative='smaller')\n",
    "\n",
    "            # p-value가 0.05보다 작으면 1, 0.05보다 크면 0으로 전처리\n",
    "            if p <=0.05:\n",
    "                result=1\n",
    "            else:\n",
    "                result=0\n",
    "            result_list.append(result)\n",
    "    df_test=pd.DataFrame(result_list,columns=[col])\n",
    "    df_ret_test=pd.concat([df_ret_test,df_test],axis=1)\n",
    "df_ret_test=df_ret_test.set_index('dt')\n",
    "df_ret_test"
   ]
  },
  {
   "cell_type": "code",
   "execution_count": 354,
   "metadata": {},
   "outputs": [
    {
     "data": {
      "image/png": "[encoded data removed]",
      "text/plain": [
       "<Figure size 432x288 with 2 Axes>"
      ]
     },
     "metadata": {
      "needs_background": "light"
     },
     "output_type": "display_data"
    }
   ],
   "source": [
    "# 1이면 유의하게 차이나는것을 의미.\n",
    "sns.heatmap(df_ret_test[['D0toD1','D0toD6']],cmap=\"Purples\",annot=True);"
   ]
  },
  {
   "cell_type": "code",
   "execution_count": null,
   "metadata": {},
   "outputs": [],
   "source": []
  },
  {
   "cell_type": "markdown",
   "metadata": {},
   "source": [
    "#### 1) D0toD1 값 유의성 검정"
   ]
  },
  {
   "cell_type": "code",
   "execution_count": 261,
   "metadata": {},
   "outputs": [
    {
     "name": "stdout",
     "output_type": "stream",
     "text": [
      "[array([8642, 8541]), array([8451, 8500]), array([8389, 8354]), array([9105, 9142]), array([9513, 9555]), array([9432, 9534]), array([9875, 9792])]\n",
      "[array([2438, 2440]), array([2287, 2436]), array([2428, 2506]), array([2769, 2919]), array([3147, 3226]), array([2918, 3160]), array([2815, 2954])]\n"
     ]
    }
   ],
   "source": [
    "users_list=[]\n",
    "ret_list=[]\n",
    "for i in range(0,len(df),2):\n",
    "    u=np.array([df[i:i+2]['users'][i], df[i:i+2]['users'][i+1]])\n",
    "    users_list.append(u)\n",
    "    r=np.array([df[i:i+2]['D0toD6'][i], df[i:i+2]['D0toD6'][i+1]])\n",
    "    ret_list.append(r)\n",
    "print(users_list)\n",
    "print(ret_list)"
   ]
  },
  {
   "cell_type": "code",
   "execution_count": 209,
   "metadata": {},
   "outputs": [
    {
     "name": "stdout",
     "output_type": "stream",
     "text": [
      "[8642 8541] [1140 1148]\n",
      "value : -0.4816244387538022\n",
      "p-value: 0.31503638105714793\n",
      "result: 0\n",
      "------------------------\n",
      "[8451 8500] [1110 1316]\n",
      "value : -4.364365812388803\n",
      "p-value: 6.374603969269217e-06\n",
      "result: 1\n",
      "------------------------\n",
      "[8389 8354] [1252 1469]\n",
      "value : -4.664931222629985\n",
      "p-value: 1.5436013941997472e-06\n",
      "result: 1\n",
      "------------------------\n",
      "[9105 9142] [1498 1680]\n",
      "value : -3.426832103429252\n",
      "p-value: 0.00030533325945095505\n",
      "result: 1\n",
      "------------------------\n",
      "[9513 9555] [1699 1849]\n",
      "value : -2.6458779724627624\n",
      "p-value: 0.004073960160890137\n",
      "result: 1\n",
      "------------------------\n",
      "[9432 9534] [1445 1794]\n",
      "value : -6.398154674699644\n",
      "p-value: 7.863296897480114e-11\n",
      "result: 1\n",
      "------------------------\n",
      "[9875 9792] [1613 1778]\n",
      "value : -3.3848696325251377\n",
      "p-value: 0.0003560603373949104\n",
      "result: 1\n",
      "------------------------\n"
     ]
    }
   ],
   "source": [
    "result_list=[]\n",
    "for i in range(len(users_list)):\n",
    "    result=0\n",
    "    u=users_list[i]\n",
    "    r=ret_list[i]\n",
    "    print(u,r)\n",
    "    \n",
    "    # p1 < p2 임을 증명하고 싶기 때문에 alternatvie='smaller' 그 반대이면 'larger'\n",
    "    z,p=proportions_ztest(count=r,nobs=u,alternative='smaller')\n",
    "    \n",
    "    # p-value가 0.05보다 작으면 1, 0.05보다 크면 0으로 전처리\n",
    "    if p <=0.05:\n",
    "        result=1\n",
    "    else:\n",
    "        result=0\n",
    "    result_list.append(result)\n",
    "    \n",
    "    D0toD1_test=pd.DataFrame(result_list,columns=['D0toD1_test'])\n",
    "    print('value :',z)\n",
    "    print('p-value:',p)\n",
    "    print('result:',result)\n",
    "    print('------------------------')"
   ]
  },
  {
   "cell_type": "markdown",
   "metadata": {},
   "source": [
    "#### 2)D0toD6 값 유의성 검정"
   ]
  },
  {
   "cell_type": "code",
   "execution_count": 218,
   "metadata": {},
   "outputs": [],
   "source": [
    "users_list=[]\n",
    "ret_list=[]\n",
    "for i in range(0,len(df),2):\n",
    "    u=np.array([df[i:i+2]['users'][i], df[i:i+2]['users'][i+1]])\n",
    "    users_list.append(u)\n",
    "    \n",
    "    r=np.array([df[i:i+2]['D0toD6'][i], df[i:i+2]['D0toD6'][i+1]])\n",
    "    ret_list.append(r)\n",
    "\n",
    "result_list=[]\n",
    "for i in range(len(users_list)):\n",
    "    result=0\n",
    "    u=users_list[i]\n",
    "    r=ret_list[i]\n",
    "    \n",
    "    # p1 < p2 임을 증명하고 싶기 때문에 alternatvie='smaller' 그 반대이면 'larger'\n",
    "    z,p=proportions_ztest(count=r,nobs=u,alternative='smaller')\n",
    "    \n",
    "    # p-value가 0.05보다 작으면 1, 0.05보다 크면 0으로 전처리\n",
    "    if p <=0.05:\n",
    "        result=1\n",
    "    else:\n",
    "        result=0\n",
    "    result_list.append(result)\n",
    "    \n",
    "    D0toD6_test=pd.DataFrame(result_list,columns=['D0toD6_test'])"
   ]
  },
  {
   "cell_type": "code",
   "execution_count": 222,
   "metadata": {},
   "outputs": [
    {
     "data": {
      "text/html": [
       "<div>\n",
       "<style scoped>\n",
       "    .dataframe tbody tr th:only-of-type {\n",
       "        vertical-align: middle;\n",
       "    }\n",
       "\n",
       "    .dataframe tbody tr th {\n",
       "        vertical-align: top;\n",
       "    }\n",
       "\n",
       "    .dataframe thead th {\n",
       "        text-align: right;\n",
       "    }\n",
       "</style>\n",
       "<table border=\"1\" class=\"dataframe\">\n",
       "  <thead>\n",
       "    <tr style=\"text-align: right;\">\n",
       "      <th></th>\n",
       "      <th>D0toD1_test</th>\n",
       "      <th>D0toD6_test</th>\n",
       "    </tr>\n",
       "    <tr>\n",
       "      <th>dt</th>\n",
       "      <th></th>\n",
       "      <th></th>\n",
       "    </tr>\n",
       "  </thead>\n",
       "  <tbody>\n",
       "    <tr>\n",
       "      <th>2021.6.15</th>\n",
       "      <td>0</td>\n",
       "      <td>0</td>\n",
       "    </tr>\n",
       "    <tr>\n",
       "      <th>2021.6.16</th>\n",
       "      <td>1</td>\n",
       "      <td>1</td>\n",
       "    </tr>\n",
       "    <tr>\n",
       "      <th>2021.6.17</th>\n",
       "      <td>1</td>\n",
       "      <td>0</td>\n",
       "    </tr>\n",
       "    <tr>\n",
       "      <th>2021.6.18</th>\n",
       "      <td>1</td>\n",
       "      <td>1</td>\n",
       "    </tr>\n",
       "    <tr>\n",
       "      <th>2021.6.19</th>\n",
       "      <td>1</td>\n",
       "      <td>0</td>\n",
       "    </tr>\n",
       "    <tr>\n",
       "      <th>2021.6.20</th>\n",
       "      <td>1</td>\n",
       "      <td>1</td>\n",
       "    </tr>\n",
       "    <tr>\n",
       "      <th>2021.6.21</th>\n",
       "      <td>1</td>\n",
       "      <td>1</td>\n",
       "    </tr>\n",
       "  </tbody>\n",
       "</table>\n",
       "</div>"
      ],
      "text/plain": [
       "           D0toD1_test  D0toD6_test\n",
       "dt                                 \n",
       "2021.6.15            0            0\n",
       "2021.6.16            1            1\n",
       "2021.6.17            1            0\n",
       "2021.6.18            1            1\n",
       "2021.6.19            1            0\n",
       "2021.6.20            1            1\n",
       "2021.6.21            1            1"
      ]
     },
     "execution_count": 222,
     "metadata": {},
     "output_type": "execute_result"
    }
   ],
   "source": [
    "df_ret_test=pd.DataFrame(df['push_dt'].unique(),columns=['dt'])\n",
    "df_ret_test=pd.concat([df_ret_test,D0toD1_test,D0toD6_test],axis=1)\n",
    "df_ret_test=df_ret_test.set_index('dt')\n",
    "df_ret_test"
   ]
  },
  {
   "cell_type": "code",
   "execution_count": 224,
   "metadata": {},
   "outputs": [
    {
     "data": {
      "image/png": "[encoded data removed]",
      "text/plain": [
       "<Figure size 432x288 with 2 Axes>"
      ]
     },
     "metadata": {
      "needs_background": "light"
     },
     "output_type": "display_data"
    }
   ],
   "source": [
    "# 1이면 유의하게 차이나는것을 의미.\n",
    "sns.heatmap(df_ret_test[['D0toD1_test','D0toD6_test']],cmap=\"Blues\",annot=True);"
   ]
  },
  {
   "cell_type": "code",
   "execution_count": null,
   "metadata": {},
   "outputs": [],
   "source": []
  },
  {
   "cell_type": "code",
   "execution_count": null,
   "metadata": {},
   "outputs": [],
   "source": []
  },
  {
   "cell_type": "code",
   "execution_count": null,
   "metadata": {},
   "outputs": [],
   "source": []
  }
 ],
 "metadata": {
  "kernelspec": {
   "display_name": "suhyun2",
   "language": "python",
   "name": "suhyun2"
  },
  "language_info": {
   "codemirror_mode": {
    "name": "ipython",
    "version": 3
   },
   "file_extension": ".py",
   "mimetype": "text/x-python",
   "name": "python",
   "nbconvert_exporter": "python",
   "pygments_lexer": "ipython3",
   "version": "3.6.8"
  }
 },
 "nbformat": 4,
 "nbformat_minor": 2
}
