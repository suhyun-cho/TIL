{
 "cells": [
  {
   "cell_type": "markdown",
   "metadata": {},
   "source": [
    "# Correlation\n",
    "* 일자 : 2020-03-19"
   ]
  },
  {
   "cell_type": "markdown",
   "metadata": {},
   "source": [
    "### 피어슨 상관계수 \n",
    "* (x와 y가 함께 변하는 정도) / (x와 y가 각각 변하는 정도)\n",
    "\n",
    "#### [ 사용시 주의점 ]\n",
    "- 상관관계가 인과관계를 의미하는 것은 아님. 단순히 두 변수의 연관성을 확인하는 것.\n",
    "- 두 변수가 정규분포일 때 잘 작동한다. \n",
    "- 이상치(outlier)에 민감하므로, 이상치는 제거하는 것이 좋음.\n",
    "- 두 변수가 완전히 동일하면 피어슨 상관계수는 1.0이다. 완전히 반대방향으로 동일하면 -1.0, 전혀 상관 없으면 0이다."
   ]
  },
  {
   "cell_type": "markdown",
   "metadata": {},
   "source": [
    "### what I Learned\n",
    "\n",
    "outlier제거 전과 후 상관계수 차이\n",
    "> * 99.7percentile 이상값 제거하여 상관관계 다시 살펴봤더니, 상관계수가 outlier제거 전 보다 약간 상승함\n",
    "    * ss와 aa의 상관계수가 0.17 이었는데 0.39로 증가.\n",
    "    \n",
    "스케일링 전 후 상관계수 차이\n",
    "> * 스케일링 전후로는 상관계수가 차이가 없음."
   ]
  },
  {
   "cell_type": "code",
   "execution_count": 2,
   "metadata": {},
   "outputs": [],
   "source": [
    "import numpy as np\n",
    "import pandas as pd\n",
    "from pandas import Series, DataFrame\n",
    "import matplotlib as mpl\n",
    "import matplotlib.pyplot as plt\n",
    "import seaborn as sns\n",
    "import scipy as sp"
   ]
  },
  {
   "cell_type": "code",
   "execution_count": 3,
   "metadata": {},
   "outputs": [],
   "source": [
    "import chart_studio.plotly as py\n",
    "# import cufflinks as cf\n",
    "from plotly.offline import plot\n",
    "import plotly.express as px"
   ]
  },
  {
   "cell_type": "code",
   "execution_count": 4,
   "metadata": {},
   "outputs": [],
   "source": [
    "# warning 무시\n",
    "import warnings\n",
    "warnings.filterwarnings(action='ignore')"
   ]
  },
  {
   "cell_type": "code",
   "execution_count": 6,
   "metadata": {},
   "outputs": [],
   "source": [
    "df_notzero=pd.read_excel('./data/yt_data.xlsx')"
   ]
  },
  {
   "cell_type": "code",
   "execution_count": 7,
   "metadata": {},
   "outputs": [],
   "source": [
    "df_notzero=df_notzero.drop(columns='Unnamed: 0')"
   ]
  },
  {
   "cell_type": "code",
   "execution_count": 61,
   "metadata": {},
   "outputs": [],
   "source": [
    "# v1 : ad, v2: search, v3: contents\n",
    "df_notzero.columns=['id','cnt','yt_cnt','yt_prop','aa','ss','cc']"
   ]
  },
  {
   "cell_type": "markdown",
   "metadata": {},
   "source": [
    "### **원본 데이터로 상관관계 분석**"
   ]
  },
  {
   "cell_type": "code",
   "execution_count": 23,
   "metadata": {},
   "outputs": [
    {
     "data": {
      "text/html": [
       "<div>\n",
       "<style scoped>\n",
       "    .dataframe tbody tr th:only-of-type {\n",
       "        vertical-align: middle;\n",
       "    }\n",
       "\n",
       "    .dataframe tbody tr th {\n",
       "        vertical-align: top;\n",
       "    }\n",
       "\n",
       "    .dataframe thead th {\n",
       "        text-align: right;\n",
       "    }\n",
       "</style>\n",
       "<table border=\"1\" class=\"dataframe\">\n",
       "  <thead>\n",
       "    <tr style=\"text-align: right;\">\n",
       "      <th></th>\n",
       "      <th>yt_prop</th>\n",
       "      <th>aa</th>\n",
       "      <th>ss</th>\n",
       "      <th>cc</th>\n",
       "    </tr>\n",
       "  </thead>\n",
       "  <tbody>\n",
       "    <tr>\n",
       "      <td>0</td>\n",
       "      <td>0.02</td>\n",
       "      <td>0</td>\n",
       "      <td>2</td>\n",
       "      <td>0</td>\n",
       "    </tr>\n",
       "    <tr>\n",
       "      <td>1</td>\n",
       "      <td>0.29</td>\n",
       "      <td>0</td>\n",
       "      <td>0</td>\n",
       "      <td>0</td>\n",
       "    </tr>\n",
       "    <tr>\n",
       "      <td>2</td>\n",
       "      <td>0.10</td>\n",
       "      <td>0</td>\n",
       "      <td>0</td>\n",
       "      <td>0</td>\n",
       "    </tr>\n",
       "    <tr>\n",
       "      <td>3</td>\n",
       "      <td>0.06</td>\n",
       "      <td>0</td>\n",
       "      <td>0</td>\n",
       "      <td>0</td>\n",
       "    </tr>\n",
       "    <tr>\n",
       "      <td>4</td>\n",
       "      <td>0.01</td>\n",
       "      <td>0</td>\n",
       "      <td>0</td>\n",
       "      <td>0</td>\n",
       "    </tr>\n",
       "  </tbody>\n",
       "</table>\n",
       "</div>"
      ],
      "text/plain": [
       "   yt_prop  aa  ss  cc\n",
       "0     0.02   0   2   0\n",
       "1     0.29   0   0   0\n",
       "2     0.10   0   0   0\n",
       "3     0.06   0   0   0\n",
       "4     0.01   0   0   0"
      ]
     },
     "execution_count": 23,
     "metadata": {},
     "output_type": "execute_result"
    }
   ],
   "source": [
    "df_corr=df_notzero[['yt_prop','aa','ss','cc']]\n",
    "df_corr.head()"
   ]
  },
  {
   "cell_type": "markdown",
   "metadata": {},
   "source": [
    "**상관관계 확인**"
   ]
  },
  {
   "cell_type": "code",
   "execution_count": 24,
   "metadata": {},
   "outputs": [
    {
     "data": {
      "text/html": [
       "<div>\n",
       "<style scoped>\n",
       "    .dataframe tbody tr th:only-of-type {\n",
       "        vertical-align: middle;\n",
       "    }\n",
       "\n",
       "    .dataframe tbody tr th {\n",
       "        vertical-align: top;\n",
       "    }\n",
       "\n",
       "    .dataframe thead th {\n",
       "        text-align: right;\n",
       "    }\n",
       "</style>\n",
       "<table border=\"1\" class=\"dataframe\">\n",
       "  <thead>\n",
       "    <tr style=\"text-align: right;\">\n",
       "      <th></th>\n",
       "      <th>yt_prop</th>\n",
       "      <th>aa</th>\n",
       "      <th>ss</th>\n",
       "      <th>cc</th>\n",
       "    </tr>\n",
       "  </thead>\n",
       "  <tbody>\n",
       "    <tr>\n",
       "      <td>yt_prop</td>\n",
       "      <td>1.000000</td>\n",
       "      <td>-0.091848</td>\n",
       "      <td>-0.121276</td>\n",
       "      <td>-0.157065</td>\n",
       "    </tr>\n",
       "    <tr>\n",
       "      <td>aa</td>\n",
       "      <td>-0.091848</td>\n",
       "      <td>1.000000</td>\n",
       "      <td>0.168031</td>\n",
       "      <td>0.226419</td>\n",
       "    </tr>\n",
       "    <tr>\n",
       "      <td>ss</td>\n",
       "      <td>-0.121276</td>\n",
       "      <td>0.168031</td>\n",
       "      <td>1.000000</td>\n",
       "      <td>0.292377</td>\n",
       "    </tr>\n",
       "    <tr>\n",
       "      <td>cc</td>\n",
       "      <td>-0.157065</td>\n",
       "      <td>0.226419</td>\n",
       "      <td>0.292377</td>\n",
       "      <td>1.000000</td>\n",
       "    </tr>\n",
       "  </tbody>\n",
       "</table>\n",
       "</div>"
      ],
      "text/plain": [
       "          yt_prop        aa        ss        cc\n",
       "yt_prop  1.000000 -0.091848 -0.121276 -0.157065\n",
       "aa      -0.091848  1.000000  0.168031  0.226419\n",
       "ss      -0.121276  0.168031  1.000000  0.292377\n",
       "cc      -0.157065  0.226419  0.292377  1.000000"
      ]
     },
     "execution_count": 24,
     "metadata": {},
     "output_type": "execute_result"
    }
   ],
   "source": [
    "df_corr.corr()"
   ]
  },
  {
   "cell_type": "markdown",
   "metadata": {},
   "source": [
    "### **heatmap**\n",
    "> * aa, ss, cc 모두 yt_prop과의 상관계수가 -0.1~ -0.2 이내이므로 거의 무시될수 있는 선형관계로 봐도 무관.\n",
    "> * aa와 cc간의 상관계수가 0.2, ss과 cc 간의 상관계수가 0.3으로 약한 양의 상관관계를 띈다."
   ]
  },
  {
   "cell_type": "code",
   "execution_count": 25,
   "metadata": {},
   "outputs": [
    {
     "data": {
      "text/plain": [
       "(4.0, -0.4)"
      ]
     },
     "execution_count": 25,
     "metadata": {},
     "output_type": "execute_result"
    },
    {
     "data": {
      "image/png": "[encoded data removed]",
      "text/plain": [
       "<Figure size 864x504 with 2 Axes>"
      ]
     },
     "metadata": {
      "needs_background": "light"
     },
     "output_type": "display_data"
    }
   ],
   "source": [
    "plt.figure(figsize=(12,7))\n",
    "ax = sns.heatmap(data=df_corr.corr(), annot=True, fmt='.2f', linewidths=.5, cmap=\"YlGn\")\n",
    "buttom, top= ax.get_ylim()\n",
    "ax.set_ylim(buttom+0.5, top-0.9)"
   ]
  },
  {
   "cell_type": "markdown",
   "metadata": {},
   "source": [
    "------------------------------------------\n",
    "### **outlier제거**\n",
    "* 제거 기준 : 99.7percentile이상 제거"
   ]
  },
  {
   "cell_type": "code",
   "execution_count": 26,
   "metadata": {},
   "outputs": [
    {
     "data": {
      "text/plain": [
       "(515474, 7)"
      ]
     },
     "execution_count": 26,
     "metadata": {},
     "output_type": "execute_result"
    }
   ],
   "source": [
    "df_notzero.shape"
   ]
  },
  {
   "cell_type": "code",
   "execution_count": 27,
   "metadata": {},
   "outputs": [],
   "source": [
    "# ad, se, con\n",
    "P_ss=np.percentile(df_notzero['ss'],[1,99.7])\n",
    "P_cc=np.percentile(df_notzero['cc'],[1,99.7])\n",
    "P_aa=np.percentile(df_notzero['aa'],[1,99.7])"
   ]
  },
  {
   "cell_type": "code",
   "execution_count": 28,
   "metadata": {},
   "outputs": [
    {
     "name": "stdout",
     "output_type": "stream",
     "text": [
      "ss 146.0\n",
      "cc 280.0\n",
      "aa 12.0\n"
     ]
    }
   ],
   "source": [
    "print(\"ss\",P_ss[1])\n",
    "print(\"cc\",P_cc[1])\n",
    "print(\"aa\",P_aa[1])"
   ]
  },
  {
   "cell_type": "code",
   "execution_count": 30,
   "metadata": {},
   "outputs": [
    {
     "name": "stdout",
     "output_type": "stream",
     "text": [
      "ss outlier제거 (513912, 7)\n",
      "cc outlier제거 (513907, 7)\n",
      "aa outlier제거 (513663, 7)\n"
     ]
    }
   ],
   "source": [
    "df_out_ss=df_notzero[(df_notzero['ss']<P_ss[1])]\n",
    "df_out_cc=df_notzero[df_notzero['cc']<P_cc[1]]\n",
    "df_out_aa=df_notzero[df_notzero['aa']<P_aa[1]]\n",
    "print(\"ss outlier제거\",df_out_ss.shape)\n",
    "print(\"cc outlier제거\",df_out_cc.shape)\n",
    "print(\"aa outlier제거\",df_out_aa.shape)"
   ]
  },
  {
   "cell_type": "markdown",
   "metadata": {},
   "source": [
    "### **outlier제거한 데이터셋**\n",
    "* outlier제거 전 : 515,474 \n",
    "* outlier제거 후: 510,822 (99%)"
   ]
  },
  {
   "cell_type": "code",
   "execution_count": 33,
   "metadata": {},
   "outputs": [],
   "source": [
    "df_out_ss=df_out_ss[['id','ss']].reset_index(drop=True)\n",
    "df_out_cc=df_out_cc[['id','cc']].reset_index(drop=True)\n",
    "df_out_aa=df_out_aa[['id','aa']].reset_index(drop=True)\n",
    "df_yt=df_notzero[['id','yt_prop']].reset_index(drop=True)"
   ]
  },
  {
   "cell_type": "code",
   "execution_count": 34,
   "metadata": {},
   "outputs": [],
   "source": [
    "df_corr_out=pd.merge(df_yt,\n",
    "        pd.merge(df_out_ss,\n",
    "                pd.merge(df_out_cc,df_out_aa,how='left',on='id'),how='left',on='id'),how='left',on='id').dropna(axis=0)\n",
    "df_corr_out=df_corr_out[['yt_prop','ss','cc','aa']]\n",
    "df_corr_out.columns=['yt','aa','ss','cc']"
   ]
  },
  {
   "cell_type": "code",
   "execution_count": 35,
   "metadata": {},
   "outputs": [
    {
     "data": {
      "text/plain": [
       "(510822, 4)"
      ]
     },
     "execution_count": 35,
     "metadata": {},
     "output_type": "execute_result"
    }
   ],
   "source": [
    "df_corr_out.shape"
   ]
  },
  {
   "cell_type": "code",
   "execution_count": 36,
   "metadata": {},
   "outputs": [
    {
     "data": {
      "text/html": [
       "<div>\n",
       "<style scoped>\n",
       "    .dataframe tbody tr th:only-of-type {\n",
       "        vertical-align: middle;\n",
       "    }\n",
       "\n",
       "    .dataframe tbody tr th {\n",
       "        vertical-align: top;\n",
       "    }\n",
       "\n",
       "    .dataframe thead th {\n",
       "        text-align: right;\n",
       "    }\n",
       "</style>\n",
       "<table border=\"1\" class=\"dataframe\">\n",
       "  <thead>\n",
       "    <tr style=\"text-align: right;\">\n",
       "      <th></th>\n",
       "      <th>yt</th>\n",
       "      <th>aa</th>\n",
       "      <th>ss</th>\n",
       "      <th>cc</th>\n",
       "    </tr>\n",
       "  </thead>\n",
       "  <tbody>\n",
       "    <tr>\n",
       "      <td>0</td>\n",
       "      <td>0.02</td>\n",
       "      <td>2.0</td>\n",
       "      <td>0.0</td>\n",
       "      <td>0.0</td>\n",
       "    </tr>\n",
       "    <tr>\n",
       "      <td>1</td>\n",
       "      <td>0.29</td>\n",
       "      <td>0.0</td>\n",
       "      <td>0.0</td>\n",
       "      <td>0.0</td>\n",
       "    </tr>\n",
       "    <tr>\n",
       "      <td>2</td>\n",
       "      <td>0.10</td>\n",
       "      <td>0.0</td>\n",
       "      <td>0.0</td>\n",
       "      <td>0.0</td>\n",
       "    </tr>\n",
       "    <tr>\n",
       "      <td>3</td>\n",
       "      <td>0.06</td>\n",
       "      <td>0.0</td>\n",
       "      <td>0.0</td>\n",
       "      <td>0.0</td>\n",
       "    </tr>\n",
       "    <tr>\n",
       "      <td>4</td>\n",
       "      <td>0.01</td>\n",
       "      <td>0.0</td>\n",
       "      <td>0.0</td>\n",
       "      <td>0.0</td>\n",
       "    </tr>\n",
       "  </tbody>\n",
       "</table>\n",
       "</div>"
      ],
      "text/plain": [
       "     yt   aa   ss   cc\n",
       "0  0.02  2.0  0.0  0.0\n",
       "1  0.29  0.0  0.0  0.0\n",
       "2  0.10  0.0  0.0  0.0\n",
       "3  0.06  0.0  0.0  0.0\n",
       "4  0.01  0.0  0.0  0.0"
      ]
     },
     "execution_count": 36,
     "metadata": {},
     "output_type": "execute_result"
    }
   ],
   "source": [
    "df_corr_out.head()"
   ]
  },
  {
   "cell_type": "markdown",
   "metadata": {},
   "source": [
    "### **heatmap**\n",
    "> * aa, ss, cc 모두 yt_prop과의 상관계수는 음의 상관성을 띔.\n",
    "> * aa와 ss 간의 상관계수가 0.4로 중간정도의 양의상관을 갖고 있다.\n",
    "> * aa와 cc, ss과 cc 간의 상관계수는 0.22, 0.25로 약한 양의상관성을 갖고 있다.\n"
   ]
  },
  {
   "cell_type": "code",
   "execution_count": 37,
   "metadata": {},
   "outputs": [
    {
     "data": {
      "text/plain": [
       "(4.0, -0.4)"
      ]
     },
     "execution_count": 37,
     "metadata": {},
     "output_type": "execute_result"
    },
    {
     "data": {
      "image/png": "[encoded data removed]",
      "text/plain": [
       "<Figure size 864x504 with 2 Axes>"
      ]
     },
     "metadata": {
      "needs_background": "light"
     },
     "output_type": "display_data"
    }
   ],
   "source": [
    "plt.figure(figsize=(12,7))\n",
    "ax = sns.heatmap(data=df_corr_out.corr(), annot=True, fmt='.2f', linewidths=.5, cmap='Blues')\n",
    "buttom, top= ax.get_ylim()\n",
    "ax.set_ylim(buttom+0.5, top-0.9)"
   ]
  },
  {
   "cell_type": "markdown",
   "metadata": {},
   "source": [
    "### **outlier 제거 and 스케일링**"
   ]
  },
  {
   "cell_type": "code",
   "execution_count": 38,
   "metadata": {},
   "outputs": [],
   "source": [
    "from sklearn.preprocessing import RobustScaler\n",
    "robustScaler = RobustScaler()"
   ]
  },
  {
   "cell_type": "code",
   "execution_count": 46,
   "metadata": {},
   "outputs": [
    {
     "data": {
      "text/html": [
       "<div>\n",
       "<style scoped>\n",
       "    .dataframe tbody tr th:only-of-type {\n",
       "        vertical-align: middle;\n",
       "    }\n",
       "\n",
       "    .dataframe tbody tr th {\n",
       "        vertical-align: top;\n",
       "    }\n",
       "\n",
       "    .dataframe thead th {\n",
       "        text-align: right;\n",
       "    }\n",
       "</style>\n",
       "<table border=\"1\" class=\"dataframe\">\n",
       "  <thead>\n",
       "    <tr style=\"text-align: right;\">\n",
       "      <th></th>\n",
       "      <th>0</th>\n",
       "      <th>1</th>\n",
       "      <th>2</th>\n",
       "      <th>3</th>\n",
       "    </tr>\n",
       "  </thead>\n",
       "  <tbody>\n",
       "    <tr>\n",
       "      <td>0</td>\n",
       "      <td>-0.375</td>\n",
       "      <td>-0.111111</td>\n",
       "      <td>-0.125</td>\n",
       "      <td>0.0</td>\n",
       "    </tr>\n",
       "    <tr>\n",
       "      <td>1</td>\n",
       "      <td>3.000</td>\n",
       "      <td>-0.333333</td>\n",
       "      <td>-0.125</td>\n",
       "      <td>0.0</td>\n",
       "    </tr>\n",
       "    <tr>\n",
       "      <td>2</td>\n",
       "      <td>0.625</td>\n",
       "      <td>-0.333333</td>\n",
       "      <td>-0.125</td>\n",
       "      <td>0.0</td>\n",
       "    </tr>\n",
       "    <tr>\n",
       "      <td>3</td>\n",
       "      <td>0.125</td>\n",
       "      <td>-0.333333</td>\n",
       "      <td>-0.125</td>\n",
       "      <td>0.0</td>\n",
       "    </tr>\n",
       "    <tr>\n",
       "      <td>4</td>\n",
       "      <td>-0.500</td>\n",
       "      <td>-0.333333</td>\n",
       "      <td>-0.125</td>\n",
       "      <td>0.0</td>\n",
       "    </tr>\n",
       "  </tbody>\n",
       "</table>\n",
       "</div>"
      ],
      "text/plain": [
       "       0         1      2    3\n",
       "0 -0.375 -0.111111 -0.125  0.0\n",
       "1  3.000 -0.333333 -0.125  0.0\n",
       "2  0.625 -0.333333 -0.125  0.0\n",
       "3  0.125 -0.333333 -0.125  0.0\n",
       "4 -0.500 -0.333333 -0.125  0.0"
      ]
     },
     "execution_count": 46,
     "metadata": {},
     "output_type": "execute_result"
    }
   ],
   "source": [
    "feature = robustScaler.fit(df_corr_out)\n",
    "feature = pd.DataFrame(robustScaler.transform(df_corr_out))\n",
    "feature.head()"
   ]
  },
  {
   "cell_type": "markdown",
   "metadata": {},
   "source": [
    "### **heatmap**"
   ]
  },
  {
   "cell_type": "code",
   "execution_count": 60,
   "metadata": {},
   "outputs": [
    {
     "data": {
      "text/plain": [
       "(4.0, -0.4)"
      ]
     },
     "execution_count": 60,
     "metadata": {},
     "output_type": "execute_result"
    },
    {
     "data": {
      "image/png": "[encoded data removed]",
      "text/plain": [
       "<Figure size 864x504 with 2 Axes>"
      ]
     },
     "metadata": {
      "needs_background": "light"
     },
     "output_type": "display_data"
    }
   ],
   "source": [
    "plt.figure(figsize=(12,7))\n",
    "ax = sns.heatmap(data=feature.corr(), annot=True, fmt='.2f', linewidths=.5, cmap='viridis')\n",
    "buttom, top= ax.get_ylim()\n",
    "ax.set_ylim(buttom+0.5, top-0.9)"
   ]
  },
  {
   "cell_type": "code",
   "execution_count": null,
   "metadata": {},
   "outputs": [],
   "source": []
  },
  {
   "cell_type": "code",
   "execution_count": null,
   "metadata": {},
   "outputs": [],
   "source": []
  },
  {
   "cell_type": "code",
   "execution_count": null,
   "metadata": {},
   "outputs": [],
   "source": []
  }
 ],
 "metadata": {
  "kernelspec": {
   "display_name": "suhyun3",
   "language": "python",
   "name": "suhyun3"
  },
  "language_info": {
   "codemirror_mode": {
    "name": "ipython",
    "version": 3
   },
   "file_extension": ".py",
   "mimetype": "text/x-python",
   "name": "python",
   "nbconvert_exporter": "python",
   "pygments_lexer": "ipython3",
   "version": "3.7.4"
  }
 },
 "nbformat": 4,
 "nbformat_minor": 4
}
